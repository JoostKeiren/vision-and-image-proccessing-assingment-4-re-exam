{
 "cells": [
  {
   "cell_type": "code",
   "execution_count": 33,
   "metadata": {},
   "outputs": [],
   "source": [
    "import os\n",
    "import random\n",
    "import cv2\n",
    "import numpy as np\n",
    "import pandas as pd\n",
    "import matplotlib.pyplot as plt\n",
    "from glob import glob\n",
    "from pathlib import Path\n",
    "from collections import Counter\n",
    "from scipy.spatial.distance import euclidean, cosine\n",
    "from scipy.stats import entropy\n",
    "from sklearn.cluster import KMeans\n",
    "from sklearn.metrics import silhouette_score\n",
    "from sklearn.metrics.pairwise import cosine_similarity\n",
    "from sklearn.feature_extraction.text import TfidfVectorizer, TfidfTransformer\n",
    "import numpy as np\n",
    "from sklearn.decomposition import PCA"
   ]
  },
  {
   "cell_type": "markdown",
   "metadata": {},
   "source": [
    "## Load images"
   ]
  },
  {
   "cell_type": "code",
   "execution_count": 34,
   "metadata": {},
   "outputs": [
    {
     "name": "stdout",
     "output_type": "stream",
     "text": [
      "Number of categories: 20\n",
      "Category: pigeon, Number of images: 45\n",
      "Category: pizza, Number of images: 53\n",
      "Category: platypus, Number of images: 34\n",
      "Category: pyramid, Number of images: 57\n",
      "Category: revolver, Number of images: 82\n",
      "Category: rhino, Number of images: 59\n",
      "Category: rooster, Number of images: 49\n",
      "Category: saxophone, Number of images: 40\n",
      "Category: schooner, Number of images: 63\n",
      "Category: scissors, Number of images: 39\n",
      "Category: scorpion, Number of images: 84\n",
      "Category: sea_horse, Number of images: 57\n",
      "Category: snoopy, Number of images: 35\n",
      "Category: soccer_ball, Number of images: 64\n",
      "Category: stapler, Number of images: 45\n",
      "Category: starfish, Number of images: 86\n",
      "Category: stegosaurus, Number of images: 59\n",
      "Category: stop_sign, Number of images: 64\n",
      "Category: strawberry, Number of images: 35\n",
      "Category: sunflower, Number of images: 85\n"
     ]
    }
   ],
   "source": [
    "img_paths = glob('Images/*/*.jpg')\n",
    "labels = [Path(path).parent.name for path in img_paths]\n",
    "\n",
    "label_counts = Counter(labels)\n",
    "\n",
    "print(f'Number of categories: {len(label_counts)}')\n",
    "\n",
    "for label, count in label_counts.items():\n",
    "    print(f'Category: {label}, Number of images: {count}')"
   ]
  },
  {
   "cell_type": "code",
   "execution_count": 35,
   "metadata": {},
   "outputs": [],
   "source": [
    "images = []\n",
    "img_paths = [os.path.abspath(path) for path in img_paths]"
   ]
  },
  {
   "cell_type": "markdown",
   "metadata": {},
   "source": [
    "TASK: We recommend that you (for a start) select a subset of say 4-5 categories. When you have checked that everything works you may extend to say 20 categories. For each category, the\n",
    "set of images should be split in two: A training set and a test set (of equal size). The test set must not include images in the training set. When using few categories you may also limit the number of training images (to say 10) per category."
   ]
  },
  {
   "cell_type": "markdown",
   "metadata": {},
   "source": [
    "We first select 5 categories"
   ]
  },
  {
   "cell_type": "code",
   "execution_count": 36,
   "metadata": {},
   "outputs": [
    {
     "name": "stdout",
     "output_type": "stream",
     "text": [
      "Categories chosen: pigeon, pizza, platypus, pyramid, revolver\n",
      "Training images: 50, Test images: 50\n"
     ]
    }
   ],
   "source": [
    "# Selects the first five categories\n",
    "five_categories = sorted(label_counts.keys())[:5]\n",
    "print(\"Categories chosen:\", \", \".join(five_categories))\n",
    "\n",
    "train_imgs_5cat = []\n",
    "test_imgs_5cat = []\n",
    "\n",
    "num_images_per_category = 10 ## Limit the number of images per category to 10 for training and 10 for testing\n",
    "\n",
    "for category in five_categories:\n",
    "    category_imgs = [img_path for img_path, label in zip(img_paths, labels) if label == category]\n",
    "    random.shuffle(category_imgs)\n",
    "    \n",
    "    # Split the images into training and test sets\n",
    "    train_imgs_5cat.extend(category_imgs[:num_images_per_category])\n",
    "    test_imgs_5cat.extend(category_imgs[num_images_per_category:num_images_per_category*2])\n",
    "\n",
    "print(f'Training images: {len(train_imgs_5cat)}, Test images: {len(test_imgs_5cat)}')"
   ]
  },
  {
   "cell_type": "markdown",
   "metadata": {},
   "source": [
    "extend to 20 categories "
   ]
  },
  {
   "cell_type": "code",
   "execution_count": 37,
   "metadata": {},
   "outputs": [
    {
     "name": "stdout",
     "output_type": "stream",
     "text": [
      "Categories chosen: pigeon, pizza, platypus, pyramid, revolver, rhino, rooster, saxophone, schooner, scissors, scorpion, sea_horse, snoopy, soccer_ball, stapler, starfish, stegosaurus, stop_sign, strawberry, sunflower\n",
      "Training images: 561, Test images: 561\n"
     ]
    }
   ],
   "source": [
    "# Select 20 categories\n",
    "twenty_categories = sorted(label_counts.keys())[:20]\n",
    "print(\"Categories chosen:\", \", \".join(twenty_categories))\n",
    "\n",
    "train_imgs_20cat = []\n",
    "test_imgs_20cat = []\n",
    "\n",
    "for category in twenty_categories:\n",
    "    category_imgs = [img_path for img_path, label in zip(img_paths, labels) if label == category]\n",
    "    random.shuffle(category_imgs)\n",
    "    \n",
    "    num_images_per_category = len(category_imgs) // 2  # Split the images into training and test sets equally\n",
    "    \n",
    "    train_imgs_20cat.extend(category_imgs[:num_images_per_category])\n",
    "    test_imgs_20cat.extend(category_imgs[num_images_per_category:num_images_per_category*2])\n",
    "\n",
    "print(f'Training images: {len(train_imgs_20cat)}, Test images: {len(test_imgs_20cat)}')"
   ]
  },
  {
   "cell_type": "markdown",
   "metadata": {},
   "source": [
    "TASK: You should extract visual words using SIFT descriptors (ignoring position, orientation and scale) or similar descriptors extracted at interest points. To compute the descriptors, we recommend to use OpenCV’s sift, but other options are possible."
   ]
  },
  {
   "cell_type": "markdown",
   "metadata": {},
   "source": [
    "NOTE TO SELF(can delete) : SIFT (Scale-Invariant Feature Transform) - detect and describe local features in images. \n",
    "\n",
    "Scale-space Extrema Detection: Create a series of images by applying Gaussian blur with increasing σ. Subtract each adjacent pair of images to get the DoG images. Identify local maxima and minima in the DoG images by comparing each pixel to its neighbors in both the current image and adjacent scales.\n",
    "\n",
    "Keypoint Localization: Fit a quadratic function to the local sample points to determine the interpolated location of the extremum. Discard keypoints with low contrast (below a threshold) or those that are poorly localized along edges (using the Hessian matrix).\n",
    "\n",
    "Orientation Assignment: For each keypoint, consider a region around it. Compute the gradient magnitude and orientation for each pixel in the region. Create a histogram of gradient orientations (typically 36 bins covering 360 degrees).\n",
    "Assign the dominant orientation(s) to the keypoint. If there are multiple peaks in the histogram, create multiple keypoints with different orientations.\n",
    "\n",
    "Keypoint Descriptor: Take a 16x16 window around the keypoint, oriented according to the keypoint's orientation.\n",
    "Divide this window into 4x4 sub-regions. For each sub-region, compute a histogram of gradient orientations (typically 8 bins).\n",
    "Concatenate these histograms to form a 128-dimensional vector (4x4x8).\n",
    "\n",
    "Matching: For each keypoint descriptor in one image, find the closest descriptor in the other image using a distance metric \n",
    "Apply a ratio test to filter out poor matches (e.g., the ratio of the distance to the closest neighbor to the distance of the second closest neighbor should be below a threshold)."
   ]
  },
  {
   "cell_type": "code",
   "execution_count": 38,
   "metadata": {},
   "outputs": [
    {
     "name": "stdout",
     "output_type": "stream",
     "text": [
      "Total number of training descriptors for the training set with 20 categories: 247942\n"
     ]
    }
   ],
   "source": [
    "def compute_sift_descriptors(image):\n",
    "    sift = cv2.SIFT_create()\n",
    "    keypoints, descriptors = sift.detectAndCompute(image, None)\n",
    "    return descriptors\n",
    "\n",
    "\n",
    "train_descriptors = []\n",
    "for img_path in train_imgs_20cat: #we take the train set with 20 categories\n",
    "    img = cv2.imread(img_path)\n",
    "    img = cv2.cvtColor(img, cv2.COLOR_BGR2RGB)\n",
    "    descriptors = compute_sift_descriptors(img)\n",
    "    if descriptors is not None:\n",
    "        train_descriptors.append(descriptors)\n",
    "\n",
    "# Concatenate the descriptors into a matrix, one descriptor per row\n",
    "train_descriptors_matrix = np.vstack(train_descriptors)\n",
    "\n",
    "\n",
    "print(f'Total number of training descriptors for the training set with 20 categories: {train_descriptors_matrix.shape[0]}')"
   ]
  },
  {
   "cell_type": "code",
   "execution_count": 39,
   "metadata": {},
   "outputs": [
    {
     "name": "stdout",
     "output_type": "stream",
     "text": [
      "Total number of training descriptors for the training set with 5 categories: 24991\n"
     ]
    }
   ],
   "source": [
    "train_descriptors_small = []\n",
    "for img_path in train_imgs_5cat: #we take the train set with 5 categories\n",
    "    img = cv2.imread(img_path)\n",
    "    img = cv2.cvtColor(img, cv2.COLOR_BGR2RGB)\n",
    "    descriptors = compute_sift_descriptors(img)\n",
    "    if descriptors is not None:\n",
    "        train_descriptors_small.append(descriptors)\n",
    "\n",
    "train_descriptors_matrix_small = np.vstack(train_descriptors_small)\n",
    "\n",
    "print(f'Total number of training descriptors for the training set with 5 categories: {train_descriptors_matrix_small.shape[0]}')"
   ]
  },
  {
   "cell_type": "code",
   "execution_count": 40,
   "metadata": {},
   "outputs": [
    {
     "name": "stdout",
     "output_type": "stream",
     "text": [
      "[  3.   0.   0.   1.  21.  12.   0.   0.  14.   0.   0.   0.   2.   0.\n",
      "   1.   6.   1.   0.   0.   0.   1.   2.   1.   2.   0.   0.   0.   0.\n",
      "   0.   0.   0.   0.  33.  16.  10. 114. 104.  20.   0.   2. 128.  29.\n",
      "   5.  11.   8.  10.  13.  65.  24.   2.   1.   1.  64. 109.  20.  23.\n",
      "  13.   8.   2.   2.  22.  35.   4.   5.  30.  11.   9.  83.  64.  68.\n",
      " 128.  75. 128.  29.   4.   6.   5.   6.  87. 128.  35.   8.   3.  13.\n",
      "  95.  91.  10.  15.  29.  14.   6.   9.  65. 105.   4.   5.   4.   4.\n",
      "  12.   7.   4.  20. 126.  48.   6.  10.  65.  54.   5.   4.  69.  79.\n",
      "   1.   0.  70. 128.  29.  17.   8.   4.   4.   7. 120.  59.  20.  29.\n",
      "   3.   3.]\n"
     ]
    }
   ],
   "source": [
    "# print out one of the descriptors\n",
    "print(train_descriptors_matrix[0])"
   ]
  },
  {
   "cell_type": "markdown",
   "metadata": {},
   "source": [
    "# 1 Codebook generation"
   ]
  },
  {
   "cell_type": "markdown",
   "metadata": {},
   "source": [
    "Task: In order to generate a code book, select a set of training images. Then Extract\n",
    "SIFT features from the training images (ignore position, orientation and scale).\n",
    "The SIFT features should be concatenated into a matrix, one descriptor per row.\n",
    "Then you should run the k-means clustering algorithm on the subset of training\n",
    "descriptors to extract good prototype (visual word) clusters. A reasonable k\n",
    "should be small (say between 200 and 500) for a small number of categories\n",
    "(say 5) and larger (say between 500 and 2000) for a larger number of categories.\n",
    "Also, a good value of k may depend on the complexity of your data. You should\n",
    "experiment with a few different values of k (but beware that this can be rather\n",
    "time-consuming).\n",
    "\n",
    "Once clustering has been obtained, classify each training descriptor to the\n",
    "closest cluster centers) and form the bag of words (BoW) for each image in the\n",
    "image training set."
   ]
  },
  {
   "cell_type": "markdown",
   "metadata": {},
   "source": [
    "We are first evaluating which is the best value for k for the subset with 5 categories. We report the Silhouette score.\n",
    "The Silhouette score is a metric used to evaluate the quality of clustering. It measures how similar an object is to its own cluster (cohesion) compared to other clusters (separation). The score ranges from -1 to 1. 1: Indicates that the sample is far away from the neighboring clusters and well matched to its own cluster. 0: Indicates that the sample is on or very close to the decision boundary between two neighboring clusters. -1: Indicates that the sample might have been assigned to the wrong cluster"
   ]
  },
  {
   "cell_type": "markdown",
   "metadata": {},
   "source": [
    "### Evaluate best k means for 5 categories"
   ]
  },
  {
   "cell_type": "code",
   "execution_count": 62,
   "metadata": {},
   "outputs": [
    {
     "name": "stdout",
     "output_type": "stream",
     "text": [
      "k=200, Silhouette Score=0.045862238854169846, SSE=1490305664.0\n",
      "k=300, Silhouette Score=0.04367801547050476, SSE=1410824960.0\n",
      "k=400, Silhouette Score=0.04107268154621124, SSE=1357388672.0\n",
      "k=500, Silhouette Score=0.04064876213669777, SSE=1312706560.0\n",
      "k=600, Silhouette Score=0.040139004588127136, SSE=1279084672.0\n",
      "k=700, Silhouette Score=0.038081761449575424, SSE=1251566848.0\n",
      "k=800, Silhouette Score=0.03863711655139923, SSE=1223150848.0\n",
      "k=900, Silhouette Score=0.03852487727999687, SSE=1200928768.0\n",
      "k=1000, Silhouette Score=0.038786787539720535, SSE=1177860352.0\n",
      "Best k for 5 categories: 200\n"
     ]
    }
   ],
   "source": [
    "from sklearn.decomposition import PCA\n",
    "\n",
    "scores_5_cat = []\n",
    "sse_5_cat = []\n",
    "def evaluate_k_means(descriptors, k_values):\n",
    "    best_k = None\n",
    "    best_score = -1\n",
    "    for k in k_values:\n",
    "        kmeans = KMeans(n_clusters=k, random_state=0).fit(descriptors)\n",
    "        labels = kmeans.labels_\n",
    "        score = silhouette_score(descriptors, labels)\n",
    "        scores_5_cat.append(score)\n",
    "        sse = kmeans.inertia_ # Sum of squared distances of samples to their closest cluster center.\n",
    "        sse_5_cat.append(sse)\n",
    "       \n",
    "        print(f'k={k}, Silhouette Score={score}, SSE={sse}')\n",
    "        if score > best_score:\n",
    "            best_score = score\n",
    "            best_k = k\n",
    "    return best_k\n",
    "\n",
    "# Reduces noise in feature space\n",
    "pca = PCA(n_components=50)\n",
    "reduced_descriptors = pca.fit_transform(train_descriptors_matrix_small)\n",
    "\n",
    "k_values_5cat = range(200, 1001, 100)\n",
    "best_k_5cat = evaluate_k_means(reduced_descriptors, k_values_5cat)\n",
    "print(f'Best k for 5 categories: {best_k_5cat}')"
   ]
  },
  {
   "cell_type": "code",
   "execution_count": 63,
   "metadata": {},
   "outputs": [
    {
     "data": {
      "image/png": "[encoded data removed]",
      "text/plain": [
       "<Figure size 500x300 with 2 Axes>"
      ]
     },
     "metadata": {},
     "output_type": "display_data"
    }
   ],
   "source": [
    "fig, ax1 = plt.subplots(figsize=(5, 3))\n",
    "\n",
    "# Plot Silhouette Score\n",
    "ax1.plot(k_values_5cat, scores_5_cat, marker='o', linestyle='-', color='b', label='Silhouette Score')\n",
    "ax1.set_xlabel('Number of Clusters (k)')\n",
    "ax1.set_ylabel('Silhouette Score', color='b')\n",
    "ax1.tick_params(axis='y', labelcolor='b')\n",
    "ax1.set_xticks(k_values_5cat)\n",
    "ax1.grid(True)\n",
    "\n",
    "# Create a second y-axis for SSE\n",
    "ax2 = ax1.twinx()\n",
    "ax2.plot(k_values_5cat, sse_5_cat, marker='s', linestyle='--', color='r', label='SSE')\n",
    "ax2.set_ylabel('Sum of Squared Errors (SSE)', color='r')\n",
    "ax2.tick_params(axis='y', labelcolor='r')\n",
    "\n",
    "# Add a title\n",
    "plt.title('Silhouette Score and SSE vs Number of Clusters (k)')\n",
    "\n",
    "# Show the plot\n",
    "fig.tight_layout()\n",
    "plt.show()"
   ]
  },
  {
   "cell_type": "code",
   "execution_count": 47,
   "metadata": {},
   "outputs": [
    {
     "data": {
      "image/png": "[encoded data removed]",
      "text/plain": [
       "<Figure size 500x300 with 1 Axes>"
      ]
     },
     "metadata": {},
     "output_type": "display_data"
    }
   ],
   "source": [
    "import matplotlib.pyplot as plt\n",
    "\n",
    "plt.figure(figsize=(5, 3)) \n",
    "plt.plot(k_values_5cat, scores_5_cat, marker='o', linestyle='-', color='b')\n",
    "plt.xlabel('Number of Clusters (k)')\n",
    "plt.ylabel('Silhouette Score')\n",
    "plt.title('Silhouette Score vs Number of Clusters (k)')\n",
    "plt.xticks(k_values_5cat)\n",
    "plt.grid(True)\n",
    "plt.show()"
   ]
  },
  {
   "cell_type": "markdown",
   "metadata": {},
   "source": [
    "### Evaluate best k means for 20 categories"
   ]
  },
  {
   "cell_type": "code",
   "execution_count": 51,
   "metadata": {},
   "outputs": [
    {
     "name": "stdout",
     "output_type": "stream",
     "text": [
      "Computing PCA for 20 categories...\n"
     ]
    },
    {
     "ename": "KeyboardInterrupt",
     "evalue": "",
     "output_type": "error",
     "traceback": [
      "\u001b[1;31m---------------------------------------------------------------------------\u001b[0m",
      "\u001b[1;31mKeyboardInterrupt\u001b[0m                         Traceback (most recent call last)",
      "Cell \u001b[1;32mIn[51], line 28\u001b[0m\n\u001b[0;32m     26\u001b[0m pca \u001b[38;5;241m=\u001b[39m IncrementalPCA(n_components\u001b[38;5;241m=\u001b[39m\u001b[38;5;241m100\u001b[39m, batch_size\u001b[38;5;241m=\u001b[39m\u001b[38;5;241m500\u001b[39m)  \u001b[38;5;66;03m# Adjust batch_size as needed\u001b[39;00m\n\u001b[0;32m     27\u001b[0m \u001b[38;5;28mprint\u001b[39m(\u001b[38;5;124m\"\u001b[39m\u001b[38;5;124mComputing PCA for 20 categories...\u001b[39m\u001b[38;5;124m\"\u001b[39m)\n\u001b[1;32m---> 28\u001b[0m reduced_descriptors_20 \u001b[38;5;241m=\u001b[39m pca\u001b[38;5;241m.\u001b[39mfit_transform(train_descriptors_matrix)\n\u001b[0;32m     30\u001b[0m \u001b[38;5;28mprint\u001b[39m(\u001b[38;5;124m\"\u001b[39m\u001b[38;5;124mNormalizing features for 20 categories...\u001b[39m\u001b[38;5;124m\"\u001b[39m)\n\u001b[0;32m     31\u001b[0m scaler \u001b[38;5;241m=\u001b[39m StandardScaler()\n",
      "File \u001b[1;32mc:\\Users\\jkeir\\anaconda3\\Lib\\site-packages\\sklearn\\utils\\_set_output.py:316\u001b[0m, in \u001b[0;36m_wrap_method_output.<locals>.wrapped\u001b[1;34m(self, X, *args, **kwargs)\u001b[0m\n\u001b[0;32m    314\u001b[0m \u001b[38;5;129m@wraps\u001b[39m(f)\n\u001b[0;32m    315\u001b[0m \u001b[38;5;28;01mdef\u001b[39;00m \u001b[38;5;21mwrapped\u001b[39m(\u001b[38;5;28mself\u001b[39m, X, \u001b[38;5;241m*\u001b[39margs, \u001b[38;5;241m*\u001b[39m\u001b[38;5;241m*\u001b[39mkwargs):\n\u001b[1;32m--> 316\u001b[0m     data_to_wrap \u001b[38;5;241m=\u001b[39m f(\u001b[38;5;28mself\u001b[39m, X, \u001b[38;5;241m*\u001b[39margs, \u001b[38;5;241m*\u001b[39m\u001b[38;5;241m*\u001b[39mkwargs)\n\u001b[0;32m    317\u001b[0m     \u001b[38;5;28;01mif\u001b[39;00m \u001b[38;5;28misinstance\u001b[39m(data_to_wrap, \u001b[38;5;28mtuple\u001b[39m):\n\u001b[0;32m    318\u001b[0m         \u001b[38;5;66;03m# only wrap the first output for cross decomposition\u001b[39;00m\n\u001b[0;32m    319\u001b[0m         return_tuple \u001b[38;5;241m=\u001b[39m (\n\u001b[0;32m    320\u001b[0m             _wrap_data_with_container(method, data_to_wrap[\u001b[38;5;241m0\u001b[39m], X, \u001b[38;5;28mself\u001b[39m),\n\u001b[0;32m    321\u001b[0m             \u001b[38;5;241m*\u001b[39mdata_to_wrap[\u001b[38;5;241m1\u001b[39m:],\n\u001b[0;32m    322\u001b[0m         )\n",
      "File \u001b[1;32mc:\\Users\\jkeir\\anaconda3\\Lib\\site-packages\\sklearn\\base.py:1098\u001b[0m, in \u001b[0;36mTransformerMixin.fit_transform\u001b[1;34m(self, X, y, **fit_params)\u001b[0m\n\u001b[0;32m   1083\u001b[0m         warnings\u001b[38;5;241m.\u001b[39mwarn(\n\u001b[0;32m   1084\u001b[0m             (\n\u001b[0;32m   1085\u001b[0m                 \u001b[38;5;124mf\u001b[39m\u001b[38;5;124m\"\u001b[39m\u001b[38;5;124mThis object (\u001b[39m\u001b[38;5;132;01m{\u001b[39;00m\u001b[38;5;28mself\u001b[39m\u001b[38;5;241m.\u001b[39m\u001b[38;5;18m__class__\u001b[39m\u001b[38;5;241m.\u001b[39m\u001b[38;5;18m__name__\u001b[39m\u001b[38;5;132;01m}\u001b[39;00m\u001b[38;5;124m) has a `transform`\u001b[39m\u001b[38;5;124m\"\u001b[39m\n\u001b[1;32m   (...)\u001b[0m\n\u001b[0;32m   1093\u001b[0m             \u001b[38;5;167;01mUserWarning\u001b[39;00m,\n\u001b[0;32m   1094\u001b[0m         )\n\u001b[0;32m   1096\u001b[0m \u001b[38;5;28;01mif\u001b[39;00m y \u001b[38;5;129;01mis\u001b[39;00m \u001b[38;5;28;01mNone\u001b[39;00m:\n\u001b[0;32m   1097\u001b[0m     \u001b[38;5;66;03m# fit method of arity 1 (unsupervised transformation)\u001b[39;00m\n\u001b[1;32m-> 1098\u001b[0m     \u001b[38;5;28;01mreturn\u001b[39;00m \u001b[38;5;28mself\u001b[39m\u001b[38;5;241m.\u001b[39mfit(X, \u001b[38;5;241m*\u001b[39m\u001b[38;5;241m*\u001b[39mfit_params)\u001b[38;5;241m.\u001b[39mtransform(X)\n\u001b[0;32m   1099\u001b[0m \u001b[38;5;28;01melse\u001b[39;00m:\n\u001b[0;32m   1100\u001b[0m     \u001b[38;5;66;03m# fit method of arity 2 (supervised transformation)\u001b[39;00m\n\u001b[0;32m   1101\u001b[0m     \u001b[38;5;28;01mreturn\u001b[39;00m \u001b[38;5;28mself\u001b[39m\u001b[38;5;241m.\u001b[39mfit(X, y, \u001b[38;5;241m*\u001b[39m\u001b[38;5;241m*\u001b[39mfit_params)\u001b[38;5;241m.\u001b[39mtransform(X)\n",
      "File \u001b[1;32mc:\\Users\\jkeir\\anaconda3\\Lib\\site-packages\\sklearn\\base.py:1473\u001b[0m, in \u001b[0;36m_fit_context.<locals>.decorator.<locals>.wrapper\u001b[1;34m(estimator, *args, **kwargs)\u001b[0m\n\u001b[0;32m   1466\u001b[0m     estimator\u001b[38;5;241m.\u001b[39m_validate_params()\n\u001b[0;32m   1468\u001b[0m \u001b[38;5;28;01mwith\u001b[39;00m config_context(\n\u001b[0;32m   1469\u001b[0m     skip_parameter_validation\u001b[38;5;241m=\u001b[39m(\n\u001b[0;32m   1470\u001b[0m         prefer_skip_nested_validation \u001b[38;5;129;01mor\u001b[39;00m global_skip_validation\n\u001b[0;32m   1471\u001b[0m     )\n\u001b[0;32m   1472\u001b[0m ):\n\u001b[1;32m-> 1473\u001b[0m     \u001b[38;5;28;01mreturn\u001b[39;00m fit_method(estimator, \u001b[38;5;241m*\u001b[39margs, \u001b[38;5;241m*\u001b[39m\u001b[38;5;241m*\u001b[39mkwargs)\n",
      "File \u001b[1;32mc:\\Users\\jkeir\\anaconda3\\Lib\\site-packages\\sklearn\\decomposition\\_incremental_pca.py:247\u001b[0m, in \u001b[0;36mIncrementalPCA.fit\u001b[1;34m(self, X, y)\u001b[0m\n\u001b[0;32m    245\u001b[0m     \u001b[38;5;28;01mif\u001b[39;00m sparse\u001b[38;5;241m.\u001b[39missparse(X_batch):\n\u001b[0;32m    246\u001b[0m         X_batch \u001b[38;5;241m=\u001b[39m X_batch\u001b[38;5;241m.\u001b[39mtoarray()\n\u001b[1;32m--> 247\u001b[0m     \u001b[38;5;28mself\u001b[39m\u001b[38;5;241m.\u001b[39mpartial_fit(X_batch, check_input\u001b[38;5;241m=\u001b[39m\u001b[38;5;28;01mFalse\u001b[39;00m)\n\u001b[0;32m    249\u001b[0m \u001b[38;5;28;01mreturn\u001b[39;00m \u001b[38;5;28mself\u001b[39m\n",
      "File \u001b[1;32mc:\\Users\\jkeir\\anaconda3\\Lib\\site-packages\\sklearn\\base.py:1473\u001b[0m, in \u001b[0;36m_fit_context.<locals>.decorator.<locals>.wrapper\u001b[1;34m(estimator, *args, **kwargs)\u001b[0m\n\u001b[0;32m   1466\u001b[0m     estimator\u001b[38;5;241m.\u001b[39m_validate_params()\n\u001b[0;32m   1468\u001b[0m \u001b[38;5;28;01mwith\u001b[39;00m config_context(\n\u001b[0;32m   1469\u001b[0m     skip_parameter_validation\u001b[38;5;241m=\u001b[39m(\n\u001b[0;32m   1470\u001b[0m         prefer_skip_nested_validation \u001b[38;5;129;01mor\u001b[39;00m global_skip_validation\n\u001b[0;32m   1471\u001b[0m     )\n\u001b[0;32m   1472\u001b[0m ):\n\u001b[1;32m-> 1473\u001b[0m     \u001b[38;5;28;01mreturn\u001b[39;00m fit_method(estimator, \u001b[38;5;241m*\u001b[39margs, \u001b[38;5;241m*\u001b[39m\u001b[38;5;241m*\u001b[39mkwargs)\n",
      "File \u001b[1;32mc:\\Users\\jkeir\\anaconda3\\Lib\\site-packages\\sklearn\\decomposition\\_incremental_pca.py:357\u001b[0m, in \u001b[0;36mIncrementalPCA.partial_fit\u001b[1;34m(self, X, y, check_input)\u001b[0m\n\u001b[0;32m    348\u001b[0m     X \u001b[38;5;241m=\u001b[39m np\u001b[38;5;241m.\u001b[39mvstack(\n\u001b[0;32m    349\u001b[0m         (\n\u001b[0;32m    350\u001b[0m             \u001b[38;5;28mself\u001b[39m\u001b[38;5;241m.\u001b[39msingular_values_\u001b[38;5;241m.\u001b[39mreshape((\u001b[38;5;241m-\u001b[39m\u001b[38;5;241m1\u001b[39m, \u001b[38;5;241m1\u001b[39m)) \u001b[38;5;241m*\u001b[39m \u001b[38;5;28mself\u001b[39m\u001b[38;5;241m.\u001b[39mcomponents_,\n\u001b[1;32m   (...)\u001b[0m\n\u001b[0;32m    353\u001b[0m         )\n\u001b[0;32m    354\u001b[0m     )\n\u001b[0;32m    356\u001b[0m U, S, Vt \u001b[38;5;241m=\u001b[39m linalg\u001b[38;5;241m.\u001b[39msvd(X, full_matrices\u001b[38;5;241m=\u001b[39m\u001b[38;5;28;01mFalse\u001b[39;00m, check_finite\u001b[38;5;241m=\u001b[39m\u001b[38;5;28;01mFalse\u001b[39;00m)\n\u001b[1;32m--> 357\u001b[0m U, Vt \u001b[38;5;241m=\u001b[39m svd_flip(U, Vt, u_based_decision\u001b[38;5;241m=\u001b[39m\u001b[38;5;28;01mFalse\u001b[39;00m)\n\u001b[0;32m    358\u001b[0m explained_variance \u001b[38;5;241m=\u001b[39m S\u001b[38;5;241m*\u001b[39m\u001b[38;5;241m*\u001b[39m\u001b[38;5;241m2\u001b[39m \u001b[38;5;241m/\u001b[39m (n_total_samples \u001b[38;5;241m-\u001b[39m \u001b[38;5;241m1\u001b[39m)\n\u001b[0;32m    359\u001b[0m explained_variance_ratio \u001b[38;5;241m=\u001b[39m S\u001b[38;5;241m*\u001b[39m\u001b[38;5;241m*\u001b[39m\u001b[38;5;241m2\u001b[39m \u001b[38;5;241m/\u001b[39m np\u001b[38;5;241m.\u001b[39msum(col_var \u001b[38;5;241m*\u001b[39m n_total_samples)\n",
      "File \u001b[1;32mc:\\Users\\jkeir\\anaconda3\\Lib\\site-packages\\sklearn\\utils\\extmath.py:848\u001b[0m, in \u001b[0;36msvd_flip\u001b[1;34m(u, v, u_based_decision)\u001b[0m\n\u001b[0;32m    843\u001b[0m         out[:, n] \u001b[38;5;241m=\u001b[39m arrays[n][ix[:, n]]\n\u001b[0;32m    845\u001b[0m     \u001b[38;5;28;01mreturn\u001b[39;00m out\n\u001b[1;32m--> 848\u001b[0m \u001b[38;5;28;01mdef\u001b[39;00m \u001b[38;5;21msvd_flip\u001b[39m(u, v, u_based_decision\u001b[38;5;241m=\u001b[39m\u001b[38;5;28;01mTrue\u001b[39;00m):\n\u001b[0;32m    849\u001b[0m \u001b[38;5;250m    \u001b[39m\u001b[38;5;124;03m\"\"\"Sign correction to ensure deterministic output from SVD.\u001b[39;00m\n\u001b[0;32m    850\u001b[0m \n\u001b[0;32m    851\u001b[0m \u001b[38;5;124;03m    Adjusts the columns of u and the rows of v such that the loadings in the\u001b[39;00m\n\u001b[1;32m   (...)\u001b[0m\n\u001b[0;32m    884\u001b[0m \u001b[38;5;124;03m        Array v with adjusted rows and the same dimensions as v.\u001b[39;00m\n\u001b[0;32m    885\u001b[0m \u001b[38;5;124;03m    \"\"\"\u001b[39;00m\n\u001b[0;32m    886\u001b[0m     xp, _ \u001b[38;5;241m=\u001b[39m get_namespace(\u001b[38;5;241m*\u001b[39m[a \u001b[38;5;28;01mfor\u001b[39;00m a \u001b[38;5;129;01min\u001b[39;00m [u, v] \u001b[38;5;28;01mif\u001b[39;00m a \u001b[38;5;129;01mis\u001b[39;00m \u001b[38;5;129;01mnot\u001b[39;00m \u001b[38;5;28;01mNone\u001b[39;00m])\n",
      "\u001b[1;31mKeyboardInterrupt\u001b[0m: "
     ]
    }
   ],
   "source": [
    "from sklearn.decomposition import IncrementalPCA\n",
    "from sklearn.cluster import MiniBatchKMeans\n",
    "from sklearn.preprocessing import StandardScaler\n",
    "from sklearn.metrics import silhouette_score\n",
    "\n",
    "scores_20_cat = []\n",
    "\n",
    "def evaluate_k_means_fast(descriptors, k_values):\n",
    "    best_k = None\n",
    "    best_score = -1\n",
    "    \n",
    "    \n",
    "    for k in k_values:\n",
    "        kmeans = MiniBatchKMeans(n_clusters=k, random_state=0, batch_size=500).fit(descriptors)\n",
    "        labels = kmeans.labels_\n",
    "        score = silhouette_score(descriptors, labels, sample_size=min(1000, len(descriptors)))  # Sample to speed up\n",
    "        scores_20_cat.append(score)\n",
    "        print(f'k={k}, Silhouette Score={score}')\n",
    "        \n",
    "        if score > best_score:\n",
    "            best_score = score\n",
    "            best_k = k\n",
    "    \n",
    "    return best_k, scores_20_cat\n",
    "\n",
    "pca = IncrementalPCA(n_components=100, batch_size=500)  # Adjust batch_size as needed\n",
    "print(\"Computing PCA for 20 categories...\")\n",
    "reduced_descriptors_20 = pca.fit_transform(train_descriptors_matrix)\n",
    "\n",
    "print(\"Normalizing features for 20 categories...\")\n",
    "scaler = StandardScaler()\n",
    "reduced_descriptors_20 = scaler.fit_transform(reduced_descriptors_20)\n",
    "\n",
    "k_values_20cat = range(50, 500, 50)\n",
    "print(\"Computing K Means for 20 categories...\")\n",
    "best_k_20cat = evaluate_k_means_fast(reduced_descriptors_20, k_values_20cat)\n",
    "print(f'Best k for 5 categories: {best_k_20cat}')"
   ]
  },
  {
   "cell_type": "code",
   "execution_count": 49,
   "metadata": {},
   "outputs": [
    {
     "data": {
      "image/png": "[encoded data removed]",
      "text/plain": [
       "<Figure size 500x300 with 1 Axes>"
      ]
     },
     "metadata": {},
     "output_type": "display_data"
    }
   ],
   "source": [
    "import matplotlib.pyplot as plt\n",
    "\n",
    "plt.figure(figsize=(5, 3)) \n",
    "plt.plot(k_values_20cat, scores_20_cat, marker='o', linestyle='-', color='b')\n",
    "plt.xlabel('Number of Clusters (k)')\n",
    "plt.ylabel('Silhouette Score')\n",
    "plt.title('Silhouette Score vs Number of Clusters (k)')\n",
    "plt.xticks(k_values_20cat)\n",
    "plt.grid(True)\n",
    "plt.show()"
   ]
  },
  {
   "cell_type": "code",
   "execution_count": 50,
   "metadata": {},
   "outputs": [
    {
     "ename": "KeyboardInterrupt",
     "evalue": "",
     "output_type": "error",
     "traceback": [
      "\u001b[1;31m---------------------------------------------------------------------------\u001b[0m",
      "\u001b[1;31mKeyboardInterrupt\u001b[0m                         Traceback (most recent call last)",
      "Cell \u001b[1;32mIn[50], line 26\u001b[0m\n\u001b[0;32m     23\u001b[0m    \u001b[38;5;28;01mreturn\u001b[39;00m best_k\n\u001b[0;32m     25\u001b[0m k_values_20cat \u001b[38;5;241m=\u001b[39m \u001b[38;5;28mrange\u001b[39m(\u001b[38;5;241m500\u001b[39m, \u001b[38;5;241m2000\u001b[39m, \u001b[38;5;241m500\u001b[39m) \n\u001b[1;32m---> 26\u001b[0m best_k_20cat \u001b[38;5;241m=\u001b[39m evaluate_k_means_minibatch(train_descriptors_matrix, k_values_20cat)\n\u001b[0;32m     27\u001b[0m \u001b[38;5;28mprint\u001b[39m(\u001b[38;5;124mf\u001b[39m\u001b[38;5;124m'\u001b[39m\u001b[38;5;124mBest k for the training set with 20 categories: \u001b[39m\u001b[38;5;132;01m{\u001b[39;00mbest_k_20cat\u001b[38;5;132;01m}\u001b[39;00m\u001b[38;5;124m'\u001b[39m)\n",
      "Cell \u001b[1;32mIn[50], line 15\u001b[0m, in \u001b[0;36mevaluate_k_means_minibatch\u001b[1;34m(descriptors, k_values)\u001b[0m\n\u001b[0;32m     12\u001b[0m     score \u001b[38;5;241m=\u001b[39m silhouette_score(descriptors, labels)\n\u001b[0;32m     13\u001b[0m     \u001b[38;5;28;01mreturn\u001b[39;00m k, score\n\u001b[1;32m---> 15\u001b[0m results \u001b[38;5;241m=\u001b[39m Parallel(n_jobs\u001b[38;5;241m=\u001b[39m\u001b[38;5;241m-\u001b[39m\u001b[38;5;241m1\u001b[39m)(delayed(evaluate_single_k)(k) \u001b[38;5;28;01mfor\u001b[39;00m k \u001b[38;5;129;01min\u001b[39;00m k_values)\n\u001b[0;32m     17\u001b[0m \u001b[38;5;28;01mfor\u001b[39;00m k, score \u001b[38;5;129;01min\u001b[39;00m results:\n\u001b[0;32m     18\u001b[0m     \u001b[38;5;28mprint\u001b[39m(\u001b[38;5;124mf\u001b[39m\u001b[38;5;124m'\u001b[39m\u001b[38;5;124mk=\u001b[39m\u001b[38;5;132;01m{\u001b[39;00mk\u001b[38;5;132;01m}\u001b[39;00m\u001b[38;5;124m, Silhouette Score=\u001b[39m\u001b[38;5;132;01m{\u001b[39;00mscore\u001b[38;5;132;01m}\u001b[39;00m\u001b[38;5;124m'\u001b[39m)\n",
      "File \u001b[1;32mc:\\Users\\jkeir\\anaconda3\\Lib\\site-packages\\joblib\\parallel.py:2007\u001b[0m, in \u001b[0;36mParallel.__call__\u001b[1;34m(self, iterable)\u001b[0m\n\u001b[0;32m   2001\u001b[0m \u001b[38;5;66;03m# The first item from the output is blank, but it makes the interpreter\u001b[39;00m\n\u001b[0;32m   2002\u001b[0m \u001b[38;5;66;03m# progress until it enters the Try/Except block of the generator and\u001b[39;00m\n\u001b[0;32m   2003\u001b[0m \u001b[38;5;66;03m# reaches the first `yield` statement. This starts the asynchronous\u001b[39;00m\n\u001b[0;32m   2004\u001b[0m \u001b[38;5;66;03m# dispatch of the tasks to the workers.\u001b[39;00m\n\u001b[0;32m   2005\u001b[0m \u001b[38;5;28mnext\u001b[39m(output)\n\u001b[1;32m-> 2007\u001b[0m \u001b[38;5;28;01mreturn\u001b[39;00m output \u001b[38;5;28;01mif\u001b[39;00m \u001b[38;5;28mself\u001b[39m\u001b[38;5;241m.\u001b[39mreturn_generator \u001b[38;5;28;01melse\u001b[39;00m \u001b[38;5;28mlist\u001b[39m(output)\n",
      "File \u001b[1;32mc:\\Users\\jkeir\\anaconda3\\Lib\\site-packages\\joblib\\parallel.py:1650\u001b[0m, in \u001b[0;36mParallel._get_outputs\u001b[1;34m(self, iterator, pre_dispatch)\u001b[0m\n\u001b[0;32m   1647\u001b[0m     \u001b[38;5;28;01myield\u001b[39;00m\n\u001b[0;32m   1649\u001b[0m     \u001b[38;5;28;01mwith\u001b[39;00m \u001b[38;5;28mself\u001b[39m\u001b[38;5;241m.\u001b[39m_backend\u001b[38;5;241m.\u001b[39mretrieval_context():\n\u001b[1;32m-> 1650\u001b[0m         \u001b[38;5;28;01myield from\u001b[39;00m \u001b[38;5;28mself\u001b[39m\u001b[38;5;241m.\u001b[39m_retrieve()\n\u001b[0;32m   1652\u001b[0m \u001b[38;5;28;01mexcept\u001b[39;00m \u001b[38;5;167;01mGeneratorExit\u001b[39;00m:\n\u001b[0;32m   1653\u001b[0m     \u001b[38;5;66;03m# The generator has been garbage collected before being fully\u001b[39;00m\n\u001b[0;32m   1654\u001b[0m     \u001b[38;5;66;03m# consumed. This aborts the remaining tasks if possible and warn\u001b[39;00m\n\u001b[0;32m   1655\u001b[0m     \u001b[38;5;66;03m# the user if necessary.\u001b[39;00m\n\u001b[0;32m   1656\u001b[0m     \u001b[38;5;28mself\u001b[39m\u001b[38;5;241m.\u001b[39m_exception \u001b[38;5;241m=\u001b[39m \u001b[38;5;28;01mTrue\u001b[39;00m\n",
      "File \u001b[1;32mc:\\Users\\jkeir\\anaconda3\\Lib\\site-packages\\joblib\\parallel.py:1762\u001b[0m, in \u001b[0;36mParallel._retrieve\u001b[1;34m(self)\u001b[0m\n\u001b[0;32m   1757\u001b[0m \u001b[38;5;66;03m# If the next job is not ready for retrieval yet, we just wait for\u001b[39;00m\n\u001b[0;32m   1758\u001b[0m \u001b[38;5;66;03m# async callbacks to progress.\u001b[39;00m\n\u001b[0;32m   1759\u001b[0m \u001b[38;5;28;01mif\u001b[39;00m ((\u001b[38;5;28mlen\u001b[39m(\u001b[38;5;28mself\u001b[39m\u001b[38;5;241m.\u001b[39m_jobs) \u001b[38;5;241m==\u001b[39m \u001b[38;5;241m0\u001b[39m) \u001b[38;5;129;01mor\u001b[39;00m\n\u001b[0;32m   1760\u001b[0m     (\u001b[38;5;28mself\u001b[39m\u001b[38;5;241m.\u001b[39m_jobs[\u001b[38;5;241m0\u001b[39m]\u001b[38;5;241m.\u001b[39mget_status(\n\u001b[0;32m   1761\u001b[0m         timeout\u001b[38;5;241m=\u001b[39m\u001b[38;5;28mself\u001b[39m\u001b[38;5;241m.\u001b[39mtimeout) \u001b[38;5;241m==\u001b[39m TASK_PENDING)):\n\u001b[1;32m-> 1762\u001b[0m     time\u001b[38;5;241m.\u001b[39msleep(\u001b[38;5;241m0.01\u001b[39m)\n\u001b[0;32m   1763\u001b[0m     \u001b[38;5;28;01mcontinue\u001b[39;00m\n\u001b[0;32m   1765\u001b[0m \u001b[38;5;66;03m# We need to be careful: the job list can be filling up as\u001b[39;00m\n\u001b[0;32m   1766\u001b[0m \u001b[38;5;66;03m# we empty it and Python list are not thread-safe by\u001b[39;00m\n\u001b[0;32m   1767\u001b[0m \u001b[38;5;66;03m# default hence the use of the lock\u001b[39;00m\n",
      "\u001b[1;31mKeyboardInterrupt\u001b[0m: "
     ]
    }
   ],
   "source": [
    "# #TO DO:\n",
    "# from sklearn.cluster import MiniBatchKMeans\n",
    "# from joblib import Parallel, delayed\n",
    "\n",
    "# def evaluate_k_means_minibatch(descriptors, k_values):\n",
    "#    best_k = None\n",
    "#    best_score = -1\n",
    "\n",
    "#    def evaluate_single_k(k):\n",
    "#        kmeans = MiniBatchKMeans(n_clusters=k, random_state=0, batch_size=500).fit(descriptors)\n",
    "#        labels = kmeans.labels_\n",
    "#        score = silhouette_score(descriptors, labels)\n",
    "#        return k, score\n",
    "\n",
    "#    results = Parallel(n_jobs=-1)(delayed(evaluate_single_k)(k) for k in k_values)\n",
    "\n",
    "#    for k, score in results:\n",
    "#        print(f'k={k}, Silhouette Score={score}')\n",
    "#        if score > best_score:\n",
    "#            best_score = score\n",
    "#            best_k = k\n",
    "\n",
    "#    return best_k\n",
    "\n",
    "# k_values_20cat = range(500, 2000, 500) \n",
    "# best_k_20cat = evaluate_k_means_minibatch(train_descriptors_matrix, k_values_20cat)\n",
    "# print(f'Best k for the training set with 20 categories: {best_k_20cat}')"
   ]
  },
  {
   "cell_type": "markdown",
   "metadata": {},
   "source": [
    "Then we implement the k-means clustering on the training descriptors for the 2 different subsets. Clustering results to classify each descriptor to the closest cluster center. Then, for each image, count the number of descriptors assigned to each cluster to form a histogram (BoW vector)."
   ]
  },
  {
   "cell_type": "code",
   "execution_count": null,
   "metadata": {},
   "outputs": [
    {
     "name": "stdout",
     "output_type": "stream",
     "text": [
      "Number of visual words (clusters): 200\n"
     ]
    }
   ],
   "source": [
    "kmeans_5 = KMeans(n_clusters=best_k_5cat, random_state=42)\n",
    "kmeans_5.fit(train_descriptors_matrix_small)\n",
    "\n",
    "visual_words = kmeans_5.cluster_centers_ # Get the cluster centers (visual words)\n",
    "\n",
    "print(f'Number of visual words (clusters): {visual_words.shape[0]}')"
   ]
  },
  {
   "cell_type": "code",
   "execution_count": 16,
   "metadata": {},
   "outputs": [],
   "source": [
    "# TO DO: \n",
    "#kmeans_20 = KMeans(n_clusters=best_k_20cat, random_state=42)\n",
    "#kmeans_20.fit(train_descriptors_matrix)\n",
    "#\n",
    "#visual_words_20 = kmeans_20.cluster_centers_\n",
    "#\n",
    "#print(f'Number of visual words (clusters): {visual_words_20.shape[0]}')"
   ]
  },
  {
   "cell_type": "markdown",
   "metadata": {},
   "source": [
    "BoW representations "
   ]
  },
  {
   "cell_type": "code",
   "execution_count": null,
   "metadata": {},
   "outputs": [
    {
     "name": "stdout",
     "output_type": "stream",
     "text": [
      "Number of BoW vectors for the training set with 5 categories: 50\n"
     ]
    }
   ],
   "source": [
    "def form_bow(descriptors_list, kmeans):\n",
    "    bow_list = []\n",
    "    for descriptors in descriptors_list:\n",
    "        labels = kmeans.predict(descriptors) # # Predict the closest cluster for each descriptor\n",
    "        bow = np.bincount(labels, minlength=kmeans.n_clusters) # Create a histogram of cluster assignments\n",
    "        bow_list.append(bow)\n",
    "    return np.array(bow_list)\n",
    "\n",
    "bow_list_5cat = form_bow(train_descriptors_small, kmeans_5)\n",
    "\n",
    "print(f'Number of BoW vectors for the training set with 5 categories: {len(bow_list_5cat)}')"
   ]
  },
  {
   "cell_type": "code",
   "execution_count": 18,
   "metadata": {},
   "outputs": [],
   "source": [
    "# TO DO:\n",
    "#bow_list_20cat = form_bow(train_descriptors, kmeans_20)\n",
    "#print(f'Number of BoW vectors for the training set with 20 categories: {len(bow_list_20cat)}')"
   ]
  },
  {
   "cell_type": "markdown",
   "metadata": {},
   "source": [
    "# 2 Indexing"
   ]
  },
  {
   "cell_type": "markdown",
   "metadata": {},
   "source": [
    "TASK: The next step consists in content indexing. For each image in the test set you\n",
    "should:\n",
    "\n",
    "• Extract the SIFT descriptors of the feature points in the image,\n",
    "\n",
    "• Project the descriptors onto the codebook, i.e., for each descriptor the\n",
    "closest cluster prototype should be found,\n",
    "\n",
    "• Construct the generated corresponding bag of words, i.e, word histogram.\n",
    "Please note that you have already performed the same steps for the training\n",
    "images during codebook generation.\n",
    "\n",
    "Now construct and save a table that would contain, per entry at least the\n",
    "file name, the true category, if it belongs to the training- or test set, and the\n",
    "corresponding bag of words / word histogram. The table need only be computed\n",
    "once and then used repeatably in the following retrieval experiments."
   ]
  },
  {
   "cell_type": "code",
   "execution_count": null,
   "metadata": {},
   "outputs": [
    {
     "name": "stdout",
     "output_type": "stream",
     "text": [
      "Total number of test descriptors for the test set with 5 categories: 23330\n"
     ]
    }
   ],
   "source": [
    "test_descriptors_small = []\n",
    "for img_path in test_imgs_5cat:\n",
    "    img = cv2.imread(img_path)\n",
    "    img = cv2.cvtColor(img, cv2.COLOR_BGR2RGB)\n",
    "    descriptors = compute_sift_descriptors(img)\n",
    "    if descriptors is not None:\n",
    "        test_descriptors_small.append(descriptors)\n",
    "\n",
    "test_descriptors_matrix_small = np.vstack(test_descriptors_small)\n",
    "\n",
    "print(f'Total number of test descriptors for the test set with 5 categories: {test_descriptors_matrix_small.shape[0]}')"
   ]
  },
  {
   "cell_type": "code",
   "execution_count": null,
   "metadata": {},
   "outputs": [
    {
     "name": "stdout",
     "output_type": "stream",
     "text": [
      "Number of BoW vectors for the test set with 5 categories: 50\n"
     ]
    }
   ],
   "source": [
    "bow_list_test_5cat = form_bow(test_descriptors_small, kmeans_5)\n",
    "\n",
    "print(f'Number of BoW vectors for the test set with 5 categories: {len(bow_list_test_5cat)}')"
   ]
  },
  {
   "cell_type": "code",
   "execution_count": 21,
   "metadata": {},
   "outputs": [],
   "source": [
    "# TO DO\n",
    "#test_descriptors = []\n",
    "#for img_path in test_imgs_20cat:\n",
    "#    img = cv2.imread(img_path)\n",
    "#    img = cv2.cvtColor(img, cv2.COLOR_BGR2RGB)\n",
    "#    descriptors = compute_sift_descriptors(img)\n",
    "#    if descriptors is not None:\n",
    "#        test_descriptors.append(descriptors)\n",
    "#\n",
    "#test_descriptors_matrix = np.vstack(test_descriptors)\n",
    "#\n",
    "#print(f'Total number of test descriptors for the test set with 20 categories: {test_descriptors_matrix.shape[0]}')\n",
    "\n",
    "#bow_list_test_20cat = form_bow(test_descriptors, kmeans_20)\n",
    "\n",
    "#print(f'Number of BoW vectors for the test set with 20 categories: {len(bow_list_test_20cat)}')"
   ]
  },
  {
   "cell_type": "code",
   "execution_count": 22,
   "metadata": {},
   "outputs": [
    {
     "name": "stdout",
     "output_type": "stream",
     "text": [
      "Table saved as 'bow_table_5cat.csv'\n"
     ]
    }
   ],
   "source": [
    "data_5cat = []\n",
    "\n",
    "for img_path, bow in zip(train_imgs_5cat, bow_list_5cat):\n",
    "    category = Path(img_path).parent.name\n",
    "    data_5cat.append([img_path, category, 'train', bow])\n",
    "\n",
    "for img_path, bow in zip(test_imgs_5cat, bow_list_test_5cat):\n",
    "    category = Path(img_path).parent.name\n",
    "    data_5cat.append([img_path, category, 'test', bow])\n",
    "\n",
    "df_bow_5cat = pd.DataFrame(data_5cat, columns=['file_name', 'category', 'set_type', 'bow'])\n",
    "\n",
    "df_bow_5cat.to_csv('bow_table_5cat.csv', index=False)\n",
    "\n",
    "print(\"Table saved as 'bow_table_5cat.csv'\")"
   ]
  },
  {
   "cell_type": "code",
   "execution_count": 23,
   "metadata": {},
   "outputs": [
    {
     "data": {
      "text/html": [
       "<div>\n",
       "<style scoped>\n",
       "    .dataframe tbody tr th:only-of-type {\n",
       "        vertical-align: middle;\n",
       "    }\n",
       "\n",
       "    .dataframe tbody tr th {\n",
       "        vertical-align: top;\n",
       "    }\n",
       "\n",
       "    .dataframe thead th {\n",
       "        text-align: right;\n",
       "    }\n",
       "</style>\n",
       "<table border=\"1\" class=\"dataframe\">\n",
       "  <thead>\n",
       "    <tr style=\"text-align: right;\">\n",
       "      <th></th>\n",
       "      <th>file_name</th>\n",
       "      <th>category</th>\n",
       "      <th>set_type</th>\n",
       "      <th>bow</th>\n",
       "    </tr>\n",
       "  </thead>\n",
       "  <tbody>\n",
       "    <tr>\n",
       "      <th>0</th>\n",
       "      <td>c:\\Users\\jkeir\\OneDrive\\Documents\\GitHub\\visio...</td>\n",
       "      <td>pigeon</td>\n",
       "      <td>train</td>\n",
       "      <td>[0, 0, 2, 0, 0, 0, 0, 3, 0, 1, 0, 0, 3, 0, 3, ...</td>\n",
       "    </tr>\n",
       "    <tr>\n",
       "      <th>1</th>\n",
       "      <td>c:\\Users\\jkeir\\OneDrive\\Documents\\GitHub\\visio...</td>\n",
       "      <td>pigeon</td>\n",
       "      <td>train</td>\n",
       "      <td>[0, 0, 1, 2, 3, 0, 2, 2, 3, 2, 7, 0, 3, 5, 3, ...</td>\n",
       "    </tr>\n",
       "    <tr>\n",
       "      <th>2</th>\n",
       "      <td>c:\\Users\\jkeir\\OneDrive\\Documents\\GitHub\\visio...</td>\n",
       "      <td>pigeon</td>\n",
       "      <td>train</td>\n",
       "      <td>[1, 4, 5, 2, 0, 0, 0, 9, 1, 0, 2, 1, 1, 1, 0, ...</td>\n",
       "    </tr>\n",
       "    <tr>\n",
       "      <th>3</th>\n",
       "      <td>c:\\Users\\jkeir\\OneDrive\\Documents\\GitHub\\visio...</td>\n",
       "      <td>pigeon</td>\n",
       "      <td>train</td>\n",
       "      <td>[0, 1, 11, 2, 2, 0, 3, 3, 2, 2, 3, 1, 1, 1, 2,...</td>\n",
       "    </tr>\n",
       "    <tr>\n",
       "      <th>4</th>\n",
       "      <td>c:\\Users\\jkeir\\OneDrive\\Documents\\GitHub\\visio...</td>\n",
       "      <td>pigeon</td>\n",
       "      <td>train</td>\n",
       "      <td>[14, 11, 0, 11, 6, 13, 12, 3, 1, 2, 1, 17, 4, ...</td>\n",
       "    </tr>\n",
       "  </tbody>\n",
       "</table>\n",
       "</div>"
      ],
      "text/plain": [
       "                                           file_name category set_type  \\\n",
       "0  c:\\Users\\jkeir\\OneDrive\\Documents\\GitHub\\visio...   pigeon    train   \n",
       "1  c:\\Users\\jkeir\\OneDrive\\Documents\\GitHub\\visio...   pigeon    train   \n",
       "2  c:\\Users\\jkeir\\OneDrive\\Documents\\GitHub\\visio...   pigeon    train   \n",
       "3  c:\\Users\\jkeir\\OneDrive\\Documents\\GitHub\\visio...   pigeon    train   \n",
       "4  c:\\Users\\jkeir\\OneDrive\\Documents\\GitHub\\visio...   pigeon    train   \n",
       "\n",
       "                                                 bow  \n",
       "0  [0, 0, 2, 0, 0, 0, 0, 3, 0, 1, 0, 0, 3, 0, 3, ...  \n",
       "1  [0, 0, 1, 2, 3, 0, 2, 2, 3, 2, 7, 0, 3, 5, 3, ...  \n",
       "2  [1, 4, 5, 2, 0, 0, 0, 9, 1, 0, 2, 1, 1, 1, 0, ...  \n",
       "3  [0, 1, 11, 2, 2, 0, 3, 3, 2, 2, 3, 1, 1, 1, 2,...  \n",
       "4  [14, 11, 0, 11, 6, 13, 12, 3, 1, 2, 1, 17, 4, ...  "
      ]
     },
     "execution_count": 23,
     "metadata": {},
     "output_type": "execute_result"
    }
   ],
   "source": [
    "df_bow_5cat.head()"
   ]
  },
  {
   "cell_type": "code",
   "execution_count": 24,
   "metadata": {},
   "outputs": [],
   "source": [
    "#TO DO\n",
    "#data_20cat = []\n",
    "#\n",
    "#for img_path, bow in zip(train_imgs_20cat, bow_list_20cat):\n",
    "#    category = Path(img_path).parent.name\n",
    "#    data_20cat.append([img_path, category, 'train', bow])\n",
    "#\n",
    "#for img_path, bow in zip(test_imgs_20cat, bow_list_test_20cat):\n",
    "#    category = Path(img_path).parent.name\n",
    "#    data_20cat.append([img_path, category, 'test', bow])\n",
    "#\n",
    "#df_bow_20cat = pd.DataFrame(data_20cat, columns=['file_name', 'category', 'set_type', 'bow'])\n",
    "#\n",
    "#df_bow_20cat.to_csv('bow_table_20cat.csv', index=False)\n",
    "#\n",
    "#print(\"Table saved as 'bow_table_20cat.csv'\")"
   ]
  },
  {
   "cell_type": "markdown",
   "metadata": {},
   "source": [
    "# 3 Retrieving"
   ]
  },
  {
   "cell_type": "markdown",
   "metadata": {},
   "source": [
    "TASK: Finally, you should implement retrieving of images using some of the similarity\n",
    "measures discussed in the course slides. You may use: \n",
    "\n",
    "• common words\n",
    "\n",
    "• tf-ifd similarity\n",
    "\n",
    "• Bhattacharyya distance or Kullback-Leibler divergence\n",
    "\n",
    "Please argue for your choice or report the differences in result when applying\n",
    "the different measures.\n",
    "\n",
    "Your report should show commented results for two experiments. \n",
    "\n",
    "In the first\n",
    "you consider retrieving training images. \n",
    "\n",
    "In the second you test how well you\n",
    "can classify test images. Otherwise the two test are identical. \n",
    "\n",
    "For each test you\n",
    "should count:\n",
    "• The mean reciprocal rank (i.e. the average across all queries of 1/ranki ,\n",
    "where ranki is the rank position of the first correct category for the i’th\n",
    "query).\n",
    "• How often (in per cent) the correct category is in top-3"
   ]
  },
  {
   "cell_type": "markdown",
   "metadata": {},
   "source": [
    "5 category subset"
   ]
  },
  {
   "cell_type": "code",
   "execution_count": 25,
   "metadata": {},
   "outputs": [],
   "source": [
    "df = pd.read_csv('bow_table_5cat.csv')"
   ]
  },
  {
   "cell_type": "code",
   "execution_count": 26,
   "metadata": {},
   "outputs": [],
   "source": [
    "def parse_bow(bow_string):\n",
    "    \"\"\"\n",
    "    Parses a bag-of-words (BOW) string representation into a NumPy array.\n",
    "\n",
    "    Parameters:\n",
    "    - bow_string: str, the BOW string representation with numbers separated by spaces.\n",
    "\n",
    "    Returns:\n",
    "    - NumPy array of integers representing the BOW vector.\n",
    "    \"\"\"\n",
    "    clean_bow = bow_string.replace('\\n', ' ').replace('  ', ' ').strip('[]')\n",
    "    bow_list = [int(x) for x in clean_bow.split()]\n",
    "    return np.array(bow_list)\n",
    "\n",
    "\n",
    "def common_words_similarity(bow1, bow2):\n",
    "    \"\"\"\n",
    "    Computes the similarity between two BOW vectors based on the number of common words.\n",
    "\n",
    "    Parameters:\n",
    "    - bow1: NumPy array, the first BOW vector.\n",
    "    - bow2: NumPy array, the second BOW vector.\n",
    "\n",
    "    Returns:\n",
    "    - Integer representing the sum of the minimum word counts for each term in the vectors.\n",
    "    \"\"\"\n",
    "    return np.sum(np.minimum(bow1, bow2))\n",
    "\n",
    "\n",
    "def compute_idf(df):\n",
    "    \"\"\"\n",
    "    Computes the Inverse Document Frequency (IDF) for terms in the dataset.\n",
    "\n",
    "    Parameters:\n",
    "    - df: Pandas DataFrame, containing the 'bow' column with parsed BOW vectors.\n",
    "\n",
    "    Returns:\n",
    "    - NumPy array of IDF values for each term in the vocabulary.\n",
    "    \"\"\"\n",
    "    num_docs = len(df)\n",
    "    term_frequencies = np.sum(np.vstack(df['bow']), axis=0)  # Sum BOW vectors across all documents\n",
    "    idf = np.log((num_docs + 1) / (1 + term_frequencies)) + 1  # Smooth IDF\n",
    "    return idf\n",
    "\n",
    "\n",
    "def tf_idf_similarity(bow1, bow2, idf):\n",
    "    \"\"\"\n",
    "    Computes the cosine similarity between two TF-IDF vectors.\n",
    "\n",
    "    Parameters:\n",
    "    - bow1: NumPy array, the first BOW vector.\n",
    "    - bow2: NumPy array, the second BOW vector.\n",
    "    - idf: NumPy array, precomputed IDF values.\n",
    "\n",
    "    Returns:\n",
    "    - Float representing the cosine similarity between the two TF-IDF vectors.\n",
    "    \"\"\"\n",
    "    tf_idf1 = bow1 * idf\n",
    "    tf_idf2 = bow2 * idf\n",
    "    return 1 - cosine(tf_idf1, tf_idf2)\n",
    "\n",
    "\n",
    "def bhattacharyya_distance(bow1, bow2):\n",
    "    \"\"\"\n",
    "    Computes the Bhattacharyya distance between two probability distributions.\n",
    "\n",
    "    Parameters:\n",
    "    - bow1: NumPy array, the first BOW vector.\n",
    "    - bow2: NumPy array, the second BOW vector.\n",
    "\n",
    "    Returns:\n",
    "    - Float representing the Bhattacharyya distance.\n",
    "    \"\"\"\n",
    "    return -np.log(np.sum(np.sqrt(bow1 * bow2)))\n",
    "\n",
    "\n",
    "def kl_divergence(bow1, bow2):\n",
    "    \"\"\"\n",
    "    Computes the Kullback-Leibler (KL) divergence between two probability distributions.\n",
    "\n",
    "    Parameters:\n",
    "    - bow1: NumPy array, the first probability distribution.\n",
    "    - bow2: NumPy array, the second probability distribution.\n",
    "\n",
    "    Returns:\n",
    "    - Float representing the KL divergence.\n",
    "    \"\"\"\n",
    "    return entropy(bow1, bow2)\n",
    "\n",
    "\n",
    "def retrieve_images(query_bow, df, similarity_measure):\n",
    "    \"\"\"\n",
    "    Retrieves images from a dataset based on similarity to a query BOW vector.\n",
    "\n",
    "    Parameters:\n",
    "    - query_bow: NumPy array, the query BOW vector.\n",
    "    - df: Pandas DataFrame, containing images and their BOW vectors.\n",
    "    - similarity_measure: Function, the similarity measure to use for comparison.\n",
    "\n",
    "    Returns:\n",
    "    - List of tuples containing file name, category, and similarity score, sorted by similarity.\n",
    "    \"\"\"\n",
    "    similarities = []\n",
    "    for _, row in df.iterrows():\n",
    "        bow = row['bow']  # Use the parsed NumPy array directly\n",
    "        similarity = similarity_measure(query_bow, bow)\n",
    "        similarities.append((row['file_name'], row['category'], similarity))\n",
    "    similarities.sort(key=lambda x: x[2], reverse=True)\n",
    "    return similarities\n",
    "\n",
    "\n",
    "def evaluate_retrieval(df, similarity_measure):\n",
    "    \"\"\"\n",
    "    Evaluates the retrieval performance of a similarity measure using Mean Reciprocal Rank (MRR) and Top-3 accuracy.\n",
    "\n",
    "    Parameters:\n",
    "    - df: Pandas DataFrame, containing images and their BOW vectors.\n",
    "    - similarity_measure: Function, the similarity measure to use for comparison.\n",
    "\n",
    "    Returns:\n",
    "    - mrr: Float, the Mean Reciprocal Rank across all queries.\n",
    "    - top3_percentage: Float, the percentage of queries where the correct category is in the top 3 results.\n",
    "    \"\"\"\n",
    "    mrr = 0\n",
    "    top3_count = 0\n",
    "    num_queries = len(df)\n",
    "\n",
    "    for query_index in range(num_queries):\n",
    "        query_bow = df.iloc[query_index]['bow']\n",
    "        query_category = df.iloc[query_index]['category']\n",
    "        results = retrieve_images(query_bow, df, similarity_measure)\n",
    "\n",
    "        # Calculate rank of the first correct category\n",
    "        rank = next((i for i, result in enumerate(results) if result[1] == query_category), None)\n",
    "        if rank is not None:\n",
    "            mrr += 1 / (rank + 1)\n",
    "            if rank < 3:\n",
    "                top3_count += 1\n",
    "\n",
    "    mrr /= num_queries\n",
    "    top3_percentage = (top3_count / num_queries) * 100\n",
    "    return mrr, top3_percentage"
   ]
  },
  {
   "cell_type": "code",
   "execution_count": 27,
   "metadata": {},
   "outputs": [],
   "source": [
    "# Function to perform experiments and print results\n",
    "def perform_experiment(set_name, dataset, similarity_measures):\n",
    "    print(f\"\\n--- Results for {set_name} Set ---\")\n",
    "    for name, similarity_measure in similarity_measures.items():\n",
    "        mrr, top3 = evaluate_retrieval(dataset, similarity_measure)\n",
    "        print(f\"Similarity Measure: {name}\")\n",
    "        print(f\"  - Mean Reciprocal Rank (MRR): {mrr:.4f}\")\n",
    "        print(f\"  - Top-3 Accuracy: {top3:.2f}%\")"
   ]
  },
  {
   "cell_type": "code",
   "execution_count": 28,
   "metadata": {},
   "outputs": [],
   "source": [
    "df['bow'] = df['bow'].apply(parse_bow)\n",
    "\n",
    "idf = compute_idf(df)"
   ]
  },
  {
   "cell_type": "markdown",
   "metadata": {},
   "source": [
    "### Experiment 1 - retrieving training images"
   ]
  },
  {
   "cell_type": "code",
   "execution_count": null,
   "metadata": {},
   "outputs": [
    {
     "ename": "AttributeError",
     "evalue": "'numpy.ndarray' object has no attribute 'replace'",
     "output_type": "error",
     "traceback": [
      "\u001b[1;31m---------------------------------------------------------------------------\u001b[0m",
      "\u001b[1;31mAttributeError\u001b[0m                            Traceback (most recent call last)",
      "Cell \u001b[1;32mIn[29], line 3\u001b[0m\n\u001b[0;32m      1\u001b[0m training_set \u001b[38;5;241m=\u001b[39m df[df[\u001b[38;5;124m'\u001b[39m\u001b[38;5;124mset_type\u001b[39m\u001b[38;5;124m'\u001b[39m] \u001b[38;5;241m==\u001b[39m \u001b[38;5;124m'\u001b[39m\u001b[38;5;124mtrain\u001b[39m\u001b[38;5;124m'\u001b[39m]\n\u001b[1;32m----> 3\u001b[0m training_set[\u001b[38;5;124m'\u001b[39m\u001b[38;5;124mbow\u001b[39m\u001b[38;5;124m'\u001b[39m] \u001b[38;5;241m=\u001b[39m training_set[\u001b[38;5;124m'\u001b[39m\u001b[38;5;124mbow\u001b[39m\u001b[38;5;124m'\u001b[39m]\u001b[38;5;241m.\u001b[39mapply(parse_bow)\n\u001b[0;32m      5\u001b[0m similarity_measures \u001b[38;5;241m=\u001b[39m { \u001b[38;5;124m'\u001b[39m\u001b[38;5;124mCommon Words\u001b[39m\u001b[38;5;124m'\u001b[39m: common_words_similarity, \n\u001b[0;32m      6\u001b[0m                        \u001b[38;5;124m'\u001b[39m\u001b[38;5;124mTF-IDF\u001b[39m\u001b[38;5;124m'\u001b[39m: \u001b[38;5;28;01mlambda\u001b[39;00m bow1, bow2: tf_idf_similarity(bow1, bow2, idf), \n\u001b[0;32m      7\u001b[0m                        \u001b[38;5;124m'\u001b[39m\u001b[38;5;124mBhattacharyya\u001b[39m\u001b[38;5;124m'\u001b[39m: bhattacharyya_distance, \n\u001b[0;32m      8\u001b[0m                        \u001b[38;5;124m'\u001b[39m\u001b[38;5;124mKL Divergence\u001b[39m\u001b[38;5;124m'\u001b[39m: kl_divergence }\n\u001b[0;32m     10\u001b[0m perform_experiment(\u001b[38;5;124m\"\u001b[39m\u001b[38;5;124mTraining\u001b[39m\u001b[38;5;124m\"\u001b[39m, training_set, similarity_measures)\n",
      "File \u001b[1;32mc:\\Users\\jkeir\\anaconda3\\Lib\\site-packages\\pandas\\core\\series.py:4924\u001b[0m, in \u001b[0;36mSeries.apply\u001b[1;34m(self, func, convert_dtype, args, by_row, **kwargs)\u001b[0m\n\u001b[0;32m   4789\u001b[0m \u001b[38;5;28;01mdef\u001b[39;00m \u001b[38;5;21mapply\u001b[39m(\n\u001b[0;32m   4790\u001b[0m     \u001b[38;5;28mself\u001b[39m,\n\u001b[0;32m   4791\u001b[0m     func: AggFuncType,\n\u001b[1;32m   (...)\u001b[0m\n\u001b[0;32m   4796\u001b[0m     \u001b[38;5;241m*\u001b[39m\u001b[38;5;241m*\u001b[39mkwargs,\n\u001b[0;32m   4797\u001b[0m ) \u001b[38;5;241m-\u001b[39m\u001b[38;5;241m>\u001b[39m DataFrame \u001b[38;5;241m|\u001b[39m Series:\n\u001b[0;32m   4798\u001b[0m \u001b[38;5;250m    \u001b[39m\u001b[38;5;124;03m\"\"\"\u001b[39;00m\n\u001b[0;32m   4799\u001b[0m \u001b[38;5;124;03m    Invoke function on values of Series.\u001b[39;00m\n\u001b[0;32m   4800\u001b[0m \n\u001b[1;32m   (...)\u001b[0m\n\u001b[0;32m   4915\u001b[0m \u001b[38;5;124;03m    dtype: float64\u001b[39;00m\n\u001b[0;32m   4916\u001b[0m \u001b[38;5;124;03m    \"\"\"\u001b[39;00m\n\u001b[0;32m   4917\u001b[0m     \u001b[38;5;28;01mreturn\u001b[39;00m SeriesApply(\n\u001b[0;32m   4918\u001b[0m         \u001b[38;5;28mself\u001b[39m,\n\u001b[0;32m   4919\u001b[0m         func,\n\u001b[0;32m   4920\u001b[0m         convert_dtype\u001b[38;5;241m=\u001b[39mconvert_dtype,\n\u001b[0;32m   4921\u001b[0m         by_row\u001b[38;5;241m=\u001b[39mby_row,\n\u001b[0;32m   4922\u001b[0m         args\u001b[38;5;241m=\u001b[39margs,\n\u001b[0;32m   4923\u001b[0m         kwargs\u001b[38;5;241m=\u001b[39mkwargs,\n\u001b[1;32m-> 4924\u001b[0m     )\u001b[38;5;241m.\u001b[39mapply()\n",
      "File \u001b[1;32mc:\\Users\\jkeir\\anaconda3\\Lib\\site-packages\\pandas\\core\\apply.py:1427\u001b[0m, in \u001b[0;36mSeriesApply.apply\u001b[1;34m(self)\u001b[0m\n\u001b[0;32m   1424\u001b[0m     \u001b[38;5;28;01mreturn\u001b[39;00m \u001b[38;5;28mself\u001b[39m\u001b[38;5;241m.\u001b[39mapply_compat()\n\u001b[0;32m   1426\u001b[0m \u001b[38;5;66;03m# self.func is Callable\u001b[39;00m\n\u001b[1;32m-> 1427\u001b[0m \u001b[38;5;28;01mreturn\u001b[39;00m \u001b[38;5;28mself\u001b[39m\u001b[38;5;241m.\u001b[39mapply_standard()\n",
      "File \u001b[1;32mc:\\Users\\jkeir\\anaconda3\\Lib\\site-packages\\pandas\\core\\apply.py:1507\u001b[0m, in \u001b[0;36mSeriesApply.apply_standard\u001b[1;34m(self)\u001b[0m\n\u001b[0;32m   1501\u001b[0m \u001b[38;5;66;03m# row-wise access\u001b[39;00m\n\u001b[0;32m   1502\u001b[0m \u001b[38;5;66;03m# apply doesn't have a `na_action` keyword and for backward compat reasons\u001b[39;00m\n\u001b[0;32m   1503\u001b[0m \u001b[38;5;66;03m# we need to give `na_action=\"ignore\"` for categorical data.\u001b[39;00m\n\u001b[0;32m   1504\u001b[0m \u001b[38;5;66;03m# TODO: remove the `na_action=\"ignore\"` when that default has been changed in\u001b[39;00m\n\u001b[0;32m   1505\u001b[0m \u001b[38;5;66;03m#  Categorical (GH51645).\u001b[39;00m\n\u001b[0;32m   1506\u001b[0m action \u001b[38;5;241m=\u001b[39m \u001b[38;5;124m\"\u001b[39m\u001b[38;5;124mignore\u001b[39m\u001b[38;5;124m\"\u001b[39m \u001b[38;5;28;01mif\u001b[39;00m \u001b[38;5;28misinstance\u001b[39m(obj\u001b[38;5;241m.\u001b[39mdtype, CategoricalDtype) \u001b[38;5;28;01melse\u001b[39;00m \u001b[38;5;28;01mNone\u001b[39;00m\n\u001b[1;32m-> 1507\u001b[0m mapped \u001b[38;5;241m=\u001b[39m obj\u001b[38;5;241m.\u001b[39m_map_values(\n\u001b[0;32m   1508\u001b[0m     mapper\u001b[38;5;241m=\u001b[39mcurried, na_action\u001b[38;5;241m=\u001b[39maction, convert\u001b[38;5;241m=\u001b[39m\u001b[38;5;28mself\u001b[39m\u001b[38;5;241m.\u001b[39mconvert_dtype\n\u001b[0;32m   1509\u001b[0m )\n\u001b[0;32m   1511\u001b[0m \u001b[38;5;28;01mif\u001b[39;00m \u001b[38;5;28mlen\u001b[39m(mapped) \u001b[38;5;129;01mand\u001b[39;00m \u001b[38;5;28misinstance\u001b[39m(mapped[\u001b[38;5;241m0\u001b[39m], ABCSeries):\n\u001b[0;32m   1512\u001b[0m     \u001b[38;5;66;03m# GH#43986 Need to do list(mapped) in order to get treated as nested\u001b[39;00m\n\u001b[0;32m   1513\u001b[0m     \u001b[38;5;66;03m#  See also GH#25959 regarding EA support\u001b[39;00m\n\u001b[0;32m   1514\u001b[0m     \u001b[38;5;28;01mreturn\u001b[39;00m obj\u001b[38;5;241m.\u001b[39m_constructor_expanddim(\u001b[38;5;28mlist\u001b[39m(mapped), index\u001b[38;5;241m=\u001b[39mobj\u001b[38;5;241m.\u001b[39mindex)\n",
      "File \u001b[1;32mc:\\Users\\jkeir\\anaconda3\\Lib\\site-packages\\pandas\\core\\base.py:921\u001b[0m, in \u001b[0;36mIndexOpsMixin._map_values\u001b[1;34m(self, mapper, na_action, convert)\u001b[0m\n\u001b[0;32m    918\u001b[0m \u001b[38;5;28;01mif\u001b[39;00m \u001b[38;5;28misinstance\u001b[39m(arr, ExtensionArray):\n\u001b[0;32m    919\u001b[0m     \u001b[38;5;28;01mreturn\u001b[39;00m arr\u001b[38;5;241m.\u001b[39mmap(mapper, na_action\u001b[38;5;241m=\u001b[39mna_action)\n\u001b[1;32m--> 921\u001b[0m \u001b[38;5;28;01mreturn\u001b[39;00m algorithms\u001b[38;5;241m.\u001b[39mmap_array(arr, mapper, na_action\u001b[38;5;241m=\u001b[39mna_action, convert\u001b[38;5;241m=\u001b[39mconvert)\n",
      "File \u001b[1;32mc:\\Users\\jkeir\\anaconda3\\Lib\\site-packages\\pandas\\core\\algorithms.py:1743\u001b[0m, in \u001b[0;36mmap_array\u001b[1;34m(arr, mapper, na_action, convert)\u001b[0m\n\u001b[0;32m   1741\u001b[0m values \u001b[38;5;241m=\u001b[39m arr\u001b[38;5;241m.\u001b[39mastype(\u001b[38;5;28mobject\u001b[39m, copy\u001b[38;5;241m=\u001b[39m\u001b[38;5;28;01mFalse\u001b[39;00m)\n\u001b[0;32m   1742\u001b[0m \u001b[38;5;28;01mif\u001b[39;00m na_action \u001b[38;5;129;01mis\u001b[39;00m \u001b[38;5;28;01mNone\u001b[39;00m:\n\u001b[1;32m-> 1743\u001b[0m     \u001b[38;5;28;01mreturn\u001b[39;00m lib\u001b[38;5;241m.\u001b[39mmap_infer(values, mapper, convert\u001b[38;5;241m=\u001b[39mconvert)\n\u001b[0;32m   1744\u001b[0m \u001b[38;5;28;01melse\u001b[39;00m:\n\u001b[0;32m   1745\u001b[0m     \u001b[38;5;28;01mreturn\u001b[39;00m lib\u001b[38;5;241m.\u001b[39mmap_infer_mask(\n\u001b[0;32m   1746\u001b[0m         values, mapper, mask\u001b[38;5;241m=\u001b[39misna(values)\u001b[38;5;241m.\u001b[39mview(np\u001b[38;5;241m.\u001b[39muint8), convert\u001b[38;5;241m=\u001b[39mconvert\n\u001b[0;32m   1747\u001b[0m     )\n",
      "File \u001b[1;32mlib.pyx:2972\u001b[0m, in \u001b[0;36mpandas._libs.lib.map_infer\u001b[1;34m()\u001b[0m\n",
      "Cell \u001b[1;32mIn[26], line 11\u001b[0m, in \u001b[0;36mparse_bow\u001b[1;34m(bow_string)\u001b[0m\n\u001b[0;32m      1\u001b[0m \u001b[38;5;28;01mdef\u001b[39;00m \u001b[38;5;21mparse_bow\u001b[39m(bow_string):\n\u001b[0;32m      2\u001b[0m \u001b[38;5;250m    \u001b[39m\u001b[38;5;124;03m\"\"\"\u001b[39;00m\n\u001b[0;32m      3\u001b[0m \u001b[38;5;124;03m    Parses a bag-of-words (BOW) string representation into a NumPy array.\u001b[39;00m\n\u001b[0;32m      4\u001b[0m \n\u001b[1;32m   (...)\u001b[0m\n\u001b[0;32m      9\u001b[0m \u001b[38;5;124;03m    - NumPy array of integers representing the BOW vector.\u001b[39;00m\n\u001b[0;32m     10\u001b[0m \u001b[38;5;124;03m    \"\"\"\u001b[39;00m\n\u001b[1;32m---> 11\u001b[0m     clean_bow \u001b[38;5;241m=\u001b[39m bow_string\u001b[38;5;241m.\u001b[39mreplace(\u001b[38;5;124m'\u001b[39m\u001b[38;5;130;01m\\n\u001b[39;00m\u001b[38;5;124m'\u001b[39m, \u001b[38;5;124m'\u001b[39m\u001b[38;5;124m \u001b[39m\u001b[38;5;124m'\u001b[39m)\u001b[38;5;241m.\u001b[39mreplace(\u001b[38;5;124m'\u001b[39m\u001b[38;5;124m  \u001b[39m\u001b[38;5;124m'\u001b[39m, \u001b[38;5;124m'\u001b[39m\u001b[38;5;124m \u001b[39m\u001b[38;5;124m'\u001b[39m)\u001b[38;5;241m.\u001b[39mstrip(\u001b[38;5;124m'\u001b[39m\u001b[38;5;124m[]\u001b[39m\u001b[38;5;124m'\u001b[39m)\n\u001b[0;32m     12\u001b[0m     bow_list \u001b[38;5;241m=\u001b[39m [\u001b[38;5;28mint\u001b[39m(x) \u001b[38;5;28;01mfor\u001b[39;00m x \u001b[38;5;129;01min\u001b[39;00m clean_bow\u001b[38;5;241m.\u001b[39msplit()]\n\u001b[0;32m     13\u001b[0m     \u001b[38;5;28;01mreturn\u001b[39;00m np\u001b[38;5;241m.\u001b[39marray(bow_list)\n",
      "\u001b[1;31mAttributeError\u001b[0m: 'numpy.ndarray' object has no attribute 'replace'"
     ]
    }
   ],
   "source": [
    "training_set = df[df['set_type'] == 'train']\n",
    "\n",
    "training_set['bow'] = training_set['bow'].apply(parse_bow)\n",
    "\n",
    "similarity_measures = { 'Common Words': common_words_similarity, \n",
    "                       'TF-IDF': lambda bow1, bow2: tf_idf_similarity(bow1, bow2, idf), \n",
    "                       'Bhattacharyya': bhattacharyya_distance, \n",
    "                       'KL Divergence': kl_divergence }\n",
    "\n",
    "perform_experiment(\"Training\", training_set, similarity_measures)\n"
   ]
  },
  {
   "cell_type": "markdown",
   "metadata": {},
   "source": [
    "### Experiment 2 - retrieving test images"
   ]
  },
  {
   "cell_type": "code",
   "execution_count": 130,
   "metadata": {},
   "outputs": [
    {
     "name": "stderr",
     "output_type": "stream",
     "text": [
      "/tmp/ipykernel_102355/4224355731.py:3: SettingWithCopyWarning: \n",
      "A value is trying to be set on a copy of a slice from a DataFrame.\n",
      "Try using .loc[row_indexer,col_indexer] = value instead\n",
      "\n",
      "See the caveats in the documentation: https://pandas.pydata.org/pandas-docs/stable/user_guide/indexing.html#returning-a-view-versus-a-copy\n",
      "  test_set['bow'] = test_set['bow'].apply(parse_bow)\n"
     ]
    },
    {
     "name": "stdout",
     "output_type": "stream",
     "text": [
      "\n",
      "--- Results for Test Set ---\n",
      "Similarity Measure: Common Words\n",
      "  - Mean Reciprocal Rank (MRR): 1.0000\n",
      "  - Top-3 Accuracy: 100.00%\n",
      "Similarity Measure: TF-IDF\n",
      "  - Mean Reciprocal Rank (MRR): 1.0000\n",
      "  - Top-3 Accuracy: 100.00%\n",
      "Similarity Measure: Bhattacharyya\n",
      "  - Mean Reciprocal Rank (MRR): 0.3556\n",
      "  - Top-3 Accuracy: 32.00%\n",
      "Similarity Measure: KL Divergence\n",
      "  - Mean Reciprocal Rank (MRR): 0.2393\n",
      "  - Top-3 Accuracy: 20.00%\n"
     ]
    }
   ],
   "source": [
    "test_set = df[df['set_type'] == 'test']\n",
    "\n",
    "test_set['bow'] = test_set['bow'].apply(parse_bow)\n",
    "\n",
    "perform_experiment(\"Test\", test_set, similarity_measures)"
   ]
  }
 ],
 "metadata": {
  "kernelspec": {
   "display_name": "base",
   "language": "python",
   "name": "python3"
  },
  "language_info": {
   "codemirror_mode": {
    "name": "ipython",
    "version": 3
   },
   "file_extension": ".py",
   "mimetype": "text/x-python",
   "name": "python",
   "nbconvert_exporter": "python",
   "pygments_lexer": "ipython3",
   "version": "3.12.7"
  }
 },
 "nbformat": 4,
 "nbformat_minor": 2
}
