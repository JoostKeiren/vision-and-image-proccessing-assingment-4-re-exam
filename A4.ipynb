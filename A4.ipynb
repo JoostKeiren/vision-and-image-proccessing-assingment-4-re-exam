{
 "cells": [
  {
   "cell_type": "code",
   "execution_count": 163,
   "metadata": {},
   "outputs": [],
   "source": [
    "import os\n",
    "import random\n",
    "import cv2\n",
    "import numpy as np\n",
    "import pandas as pd\n",
    "import matplotlib.pyplot as plt\n",
    "from glob import glob\n",
    "from pathlib import Path\n",
    "from collections import Counter\n",
    "from scipy.spatial.distance import euclidean, cosine\n",
    "from scipy.stats import entropy\n",
    "from sklearn.cluster import KMeans\n",
    "from sklearn.metrics import silhouette_score\n",
    "from sklearn.metrics.pairwise import cosine_similarity\n",
    "from sklearn.feature_extraction.text import TfidfVectorizer, TfidfTransformer\n",
    "import numpy as np\n",
    "from sklearn.decomposition import PCA"
   ]
  },
  {
   "cell_type": "markdown",
   "metadata": {},
   "source": [
    "## Load images"
   ]
  },
  {
   "cell_type": "code",
   "execution_count": 100,
   "metadata": {},
   "outputs": [
    {
     "name": "stdout",
     "output_type": "stream",
     "text": [
      "Number of categories: 20\n",
      "Category: pigeon, Number of images: 45\n",
      "Category: pizza, Number of images: 53\n",
      "Category: platypus, Number of images: 34\n",
      "Category: pyramid, Number of images: 57\n",
      "Category: revolver, Number of images: 82\n",
      "Category: rhino, Number of images: 59\n",
      "Category: rooster, Number of images: 49\n",
      "Category: saxophone, Number of images: 40\n",
      "Category: schooner, Number of images: 63\n",
      "Category: scissors, Number of images: 39\n",
      "Category: scorpion, Number of images: 84\n",
      "Category: sea_horse, Number of images: 57\n",
      "Category: snoopy, Number of images: 35\n",
      "Category: soccer_ball, Number of images: 64\n",
      "Category: stapler, Number of images: 45\n",
      "Category: starfish, Number of images: 86\n",
      "Category: stegosaurus, Number of images: 59\n",
      "Category: stop_sign, Number of images: 64\n",
      "Category: strawberry, Number of images: 35\n",
      "Category: sunflower, Number of images: 85\n"
     ]
    }
   ],
   "source": [
    "img_paths = glob('Images/*/*.jpg')\n",
    "labels = [Path(path).parent.name for path in img_paths]\n",
    "\n",
    "label_counts = Counter(labels)\n",
    "\n",
    "print(f'Number of categories: {len(label_counts)}')\n",
    "\n",
    "for label, count in label_counts.items():\n",
    "    print(f'Category: {label}, Number of images: {count}')"
   ]
  },
  {
   "cell_type": "code",
   "execution_count": 101,
   "metadata": {},
   "outputs": [],
   "source": [
    "images = []\n",
    "img_paths = [os.path.abspath(path) for path in img_paths]"
   ]
  },
  {
   "cell_type": "markdown",
   "metadata": {},
   "source": [
    "TASK: We recommend that you (for a start) select a subset of say 4-5 categories. When you have checked that everything works you may extend to say 20 categories. For each category, the\n",
    "set of images should be split in two: A training set and a test set (of equal size). The test set must not include images in the training set. When using few categories you may also limit the number of training images (to say 10) per category."
   ]
  },
  {
   "cell_type": "markdown",
   "metadata": {},
   "source": [
    "We first select 5 categories"
   ]
  },
  {
   "cell_type": "code",
   "execution_count": 102,
   "metadata": {},
   "outputs": [
    {
     "name": "stdout",
     "output_type": "stream",
     "text": [
      "Categories chosen: pigeon, pizza, platypus, pyramid, revolver\n",
      "Training images: 50, Test images: 50\n"
     ]
    }
   ],
   "source": [
    "# Selects the first five categories\n",
    "five_categories = sorted(label_counts.keys())[:5]\n",
    "print(\"Categories chosen:\", \", \".join(five_categories))\n",
    "\n",
    "train_imgs_5cat = []\n",
    "test_imgs_5cat = []\n",
    "\n",
    "num_images_per_category = 10 ## Limit the number of images per category to 10 for training and 10 for testing\n",
    "\n",
    "for category in five_categories:\n",
    "    category_imgs = [img_path for img_path, label in zip(img_paths, labels) if label == category]\n",
    "    random.shuffle(category_imgs)\n",
    "    \n",
    "    # Split the images into training and test sets\n",
    "    train_imgs_5cat.extend(category_imgs[:num_images_per_category])\n",
    "    test_imgs_5cat.extend(category_imgs[num_images_per_category:num_images_per_category*2])\n",
    "\n",
    "print(f'Training images: {len(train_imgs_5cat)}, Test images: {len(test_imgs_5cat)}')"
   ]
  },
  {
   "cell_type": "markdown",
   "metadata": {},
   "source": [
    "extend to 20 categories "
   ]
  },
  {
   "cell_type": "code",
   "execution_count": 103,
   "metadata": {},
   "outputs": [
    {
     "name": "stdout",
     "output_type": "stream",
     "text": [
      "Categories chosen: pigeon, pizza, platypus, pyramid, revolver, rhino, rooster, saxophone, schooner, scissors, scorpion, sea_horse, snoopy, soccer_ball, stapler, starfish, stegosaurus, stop_sign, strawberry, sunflower\n",
      "Training images: 561, Test images: 561\n"
     ]
    }
   ],
   "source": [
    "# Select 20 categories\n",
    "twenty_categories = sorted(label_counts.keys())[:20]\n",
    "print(\"Categories chosen:\", \", \".join(twenty_categories))\n",
    "\n",
    "train_imgs_20cat = []\n",
    "test_imgs_20cat = []\n",
    "\n",
    "for category in twenty_categories:\n",
    "    category_imgs = [img_path for img_path, label in zip(img_paths, labels) if label == category]\n",
    "    random.shuffle(category_imgs)\n",
    "    \n",
    "    num_images_per_category = len(category_imgs) // 2  # Split the images into training and test sets equally\n",
    "    \n",
    "    train_imgs_20cat.extend(category_imgs[:num_images_per_category])\n",
    "    test_imgs_20cat.extend(category_imgs[num_images_per_category:num_images_per_category*2])\n",
    "\n",
    "print(f'Training images: {len(train_imgs_20cat)}, Test images: {len(test_imgs_20cat)}')"
   ]
  },
  {
   "cell_type": "markdown",
   "metadata": {},
   "source": [
    "TASK: You should extract visual words using SIFT descriptors (ignoring position, orientation and scale) or similar descriptors extracted at interest points. To compute the descriptors, we recommend to use OpenCV’s sift, but other options are possible."
   ]
  },
  {
   "cell_type": "markdown",
   "metadata": {},
   "source": [
    "NOTE TO SELF(can delete) : SIFT (Scale-Invariant Feature Transform) - detect and describe local features in images. \n",
    "\n",
    "Scale-space Extrema Detection: Create a series of images by applying Gaussian blur with increasing σ. Subtract each adjacent pair of images to get the DoG images. Identify local maxima and minima in the DoG images by comparing each pixel to its neighbors in both the current image and adjacent scales.\n",
    "\n",
    "Keypoint Localization: Fit a quadratic function to the local sample points to determine the interpolated location of the extremum. Discard keypoints with low contrast (below a threshold) or those that are poorly localized along edges (using the Hessian matrix).\n",
    "\n",
    "Orientation Assignment: For each keypoint, consider a region around it. Compute the gradient magnitude and orientation for each pixel in the region. Create a histogram of gradient orientations (typically 36 bins covering 360 degrees).\n",
    "Assign the dominant orientation(s) to the keypoint. If there are multiple peaks in the histogram, create multiple keypoints with different orientations.\n",
    "\n",
    "Keypoint Descriptor: Take a 16x16 window around the keypoint, oriented according to the keypoint's orientation.\n",
    "Divide this window into 4x4 sub-regions. For each sub-region, compute a histogram of gradient orientations (typically 8 bins).\n",
    "Concatenate these histograms to form a 128-dimensional vector (4x4x8).\n",
    "\n",
    "Matching: For each keypoint descriptor in one image, find the closest descriptor in the other image using a distance metric \n",
    "Apply a ratio test to filter out poor matches (e.g., the ratio of the distance to the closest neighbor to the distance of the second closest neighbor should be below a threshold)."
   ]
  },
  {
   "cell_type": "code",
   "execution_count": 104,
   "metadata": {},
   "outputs": [
    {
     "name": "stdout",
     "output_type": "stream",
     "text": [
      "Total number of training descriptors for the training set with 20 categories: 248079\n"
     ]
    }
   ],
   "source": [
    "def compute_sift_descriptors(image):\n",
    "    sift = cv2.SIFT_create()\n",
    "    keypoints, descriptors = sift.detectAndCompute(image, None)\n",
    "    return descriptors\n",
    "\n",
    "\n",
    "train_descriptors = []\n",
    "for img_path in train_imgs_20cat: #we take the train set with 20 categories\n",
    "    img = cv2.imread(img_path)\n",
    "    img = cv2.cvtColor(img, cv2.COLOR_BGR2RGB)\n",
    "    descriptors = compute_sift_descriptors(img)\n",
    "    if descriptors is not None:\n",
    "        train_descriptors.append(descriptors)\n",
    "\n",
    "# Concatenate the descriptors into a matrix, one descriptor per row\n",
    "train_descriptors_matrix = np.vstack(train_descriptors)\n",
    "\n",
    "\n",
    "print(f'Total number of training descriptors for the training set with 20 categories: {train_descriptors_matrix.shape[0]}')"
   ]
  },
  {
   "cell_type": "code",
   "execution_count": 105,
   "metadata": {},
   "outputs": [
    {
     "name": "stdout",
     "output_type": "stream",
     "text": [
      "Total number of training descriptors for the training set with 5 categories: 23402\n"
     ]
    }
   ],
   "source": [
    "train_descriptors_small = []\n",
    "for img_path in train_imgs_5cat: #we take the train set with 5 categories\n",
    "    img = cv2.imread(img_path)\n",
    "    img = cv2.cvtColor(img, cv2.COLOR_BGR2RGB)\n",
    "    descriptors = compute_sift_descriptors(img)\n",
    "    if descriptors is not None:\n",
    "        train_descriptors_small.append(descriptors)\n",
    "\n",
    "train_descriptors_matrix_small = np.vstack(train_descriptors_small)\n",
    "\n",
    "print(f'Total number of training descriptors for the training set with 5 categories: {train_descriptors_matrix_small.shape[0]}')"
   ]
  },
  {
   "cell_type": "code",
   "execution_count": 106,
   "metadata": {},
   "outputs": [
    {
     "name": "stdout",
     "output_type": "stream",
     "text": [
      "[ 11.  77.  44.  63.  94.   1.   0.   0.  96. 142.  10.   2.  12.  37.\n",
      "   7.   5.  12.   5.   0.   1.   7.  39.  27.   6.   0.   0.   0.   0.\n",
      "   0.   0.   0.   0.  45.  25.   9.  23. 142.  71.  10.  13. 142.  53.\n",
      "   4.   3.   6.   9.  16.  68.  48.   4.   1.  22.  34.  14.  31.  29.\n",
      "   0.   0.   0.   6.   3.   0.   0.   0.  22.   1.   5.  31. 120.  83.\n",
      "  20.  21. 142.  75.   0.   2.   8.   9.  13.  49.  62.  56.   1.  27.\n",
      " 142.  38.   1.   3.   0.   0.   0.   7.  37.  15.   0.   0.  25.   4.\n",
      "   5.  26.  49.  18.   5.  14. 118.  27.   1.   2.   3.   1.  32. 129.\n",
      "  48.  31.   0.   1.  47.  73.  68.  58.   0.   0.   0.   0.  29.  76.\n",
      "  25.   0.]\n"
     ]
    }
   ],
   "source": [
    "# print out one of the descriptors\n",
    "print(train_descriptors_matrix[0])"
   ]
  },
  {
   "cell_type": "markdown",
   "metadata": {},
   "source": [
    "# 1 Codebook generation"
   ]
  },
  {
   "cell_type": "markdown",
   "metadata": {},
   "source": [
    "Task: In order to generate a code book, select a set of training images. Then Extract\n",
    "SIFT features from the training images (ignore position, orientation and scale).\n",
    "The SIFT features should be concatenated into a matrix, one descriptor per row.\n",
    "Then you should run the k-means clustering algorithm on the subset of training\n",
    "descriptors to extract good prototype (visual word) clusters. A reasonable k\n",
    "should be small (say between 200 and 500) for a small number of categories\n",
    "(say 5) and larger (say between 500 and 2000) for a larger number of categories.\n",
    "Also, a good value of k may depend on the complexity of your data. You should\n",
    "experiment with a few different values of k (but beware that this can be rather\n",
    "time-consuming).\n",
    "\n",
    "Once clustering has been obtained, classify each training descriptor to the\n",
    "closest cluster centers) and form the bag of words (BoW) for each image in the\n",
    "image training set."
   ]
  },
  {
   "cell_type": "markdown",
   "metadata": {},
   "source": [
    "We are first evaluating which is the best value for k for the subset with 5 categories. We report the Silhouette score.\n",
    "The Silhouette score is a metric used to evaluate the quality of clustering. It measures how similar an object is to its own cluster (cohesion) compared to other clusters (separation). The score ranges from -1 to 1. 1: Indicates that the sample is far away from the neighboring clusters and well matched to its own cluster. 0: Indicates that the sample is on or very close to the decision boundary between two neighboring clusters. -1: Indicates that the sample might have been assigned to the wrong cluster"
   ]
  },
  {
   "cell_type": "markdown",
   "metadata": {},
   "source": [
    "### Evaluate best k means for 5 categories"
   ]
  },
  {
   "cell_type": "code",
   "execution_count": 107,
   "metadata": {},
   "outputs": [
    {
     "name": "stdout",
     "output_type": "stream",
     "text": [
      "k=200, Silhouette Score=0.03422445431351662, SSE=1769211648.0\n",
      "Cosine Similarity Matrix for k=200:\n",
      "[[0.99999976 0.6299176  0.84819525 ... 0.6834444  0.7189818  0.66112316]\n",
      " [0.6299176  1.         0.6707195  ... 0.56531405 0.61706537 0.59953725]\n",
      " [0.84819525 0.6707195  0.99999994 ... 0.7363579  0.8070843  0.63493705]\n",
      " ...\n",
      " [0.6834444  0.56531405 0.7363579  ... 1.         0.7058678  0.6207254 ]\n",
      " [0.7189818  0.61706537 0.8070843  ... 0.7058678  0.9999999  0.72687334]\n",
      " [0.66112316 0.59953725 0.63493705 ... 0.6207254  0.72687334 0.9999999 ]]\n",
      "k=300, Silhouette Score=0.031257688999176025, SSE=1688164352.0\n",
      "Cosine Similarity Matrix for k=300:\n",
      "[[1.0000002  0.5671048  0.78543526 ... 0.72289914 0.54504335 0.5769184 ]\n",
      " [0.5671048  0.99999976 0.6301477  ... 0.5905907  0.78264177 0.4709506 ]\n",
      " [0.78543526 0.6301477  1.0000002  ... 0.6062361  0.7233343  0.53494436]\n",
      " ...\n",
      " [0.72289914 0.5905907  0.6062361  ... 1.0000002  0.57100827 0.51703405]\n",
      " [0.54504335 0.78264177 0.7233343  ... 0.57100827 1.0000001  0.4627571 ]\n",
      " [0.5769184  0.4709506  0.53494436 ... 0.51703405 0.4627571  1.0000001 ]]\n",
      "k=400, Silhouette Score=0.03165672719478607, SSE=1630726528.0\n",
      "Cosine Similarity Matrix for k=400:\n",
      "[[0.99999976 0.5334433  0.7922093  ... 0.81588167 0.45221853 0.66328305]\n",
      " [0.5334433  1.0000001  0.60875595 ... 0.4261252  0.7296255  0.5467893 ]\n",
      " [0.7922093  0.60875595 0.9999999  ... 0.7566026  0.5648202  0.7612789 ]\n",
      " ...\n",
      " [0.81588167 0.4261252  0.7566026  ... 0.9999999  0.41543424 0.65685266]\n",
      " [0.45221853 0.7296255  0.5648202  ... 0.41543424 0.99999994 0.4855915 ]\n",
      " [0.66328305 0.5467893  0.7612789  ... 0.65685266 0.4855915  0.9999999 ]]\n",
      "k=500, Silhouette Score=0.030343666672706604, SSE=1585364480.0\n",
      "Cosine Similarity Matrix for k=500:\n",
      "[[0.9999999  0.5529963  0.71246517 ... 0.7474197  0.6542055  0.6494634 ]\n",
      " [0.5529963  0.9999999  0.6651618  ... 0.6994417  0.6826029  0.7263963 ]\n",
      " [0.71246517 0.6651618  1.         ... 0.832387   0.58978593 0.6232352 ]\n",
      " ...\n",
      " [0.7474197  0.6994417  0.832387   ... 1.         0.7911337  0.6427934 ]\n",
      " [0.6542055  0.6826029  0.58978593 ... 0.7911337  0.9999999  0.6977226 ]\n",
      " [0.6494634  0.7263963  0.6232352  ... 0.6427934  0.6977226  1.0000002 ]]\n",
      "k=600, Silhouette Score=0.02912970446050167, SSE=1548702080.0\n",
      "Cosine Similarity Matrix for k=600:\n",
      "[[0.9999999  0.5547689  0.71203905 ... 0.5827676  0.64077705 0.4881024 ]\n",
      " [0.5547689  0.99999994 0.6599488  ... 0.73852473 0.7585756  0.67473954]\n",
      " [0.71203905 0.6599488  1.0000001  ... 0.5519318  0.6175189  0.515879  ]\n",
      " ...\n",
      " [0.5827676  0.73852473 0.5519318  ... 1.0000002  0.6837211  0.8069107 ]\n",
      " [0.64077705 0.7585756  0.6175189  ... 0.6837211  1.         0.63892233]\n",
      " [0.4881024  0.67473954 0.515879   ... 0.8069107  0.63892233 1.        ]]\n",
      "k=700, Silhouette Score=0.028903093189001083, SSE=1517276544.0\n",
      "Cosine Similarity Matrix for k=700:\n",
      "[[1.0000002  0.54510885 0.7086562  ... 0.7135749  0.4889148  0.565761  ]\n",
      " [0.54510885 1.0000001  0.6144255  ... 0.58425033 0.6375121  0.6380659 ]\n",
      " [0.7086562  0.6144255  1.         ... 0.6934079  0.5473114  0.43563098]\n",
      " ...\n",
      " [0.7135749  0.58425033 0.6934079  ... 1.0000001  0.6319108  0.5886751 ]\n",
      " [0.4889148  0.6375121  0.5473114  ... 0.6319108  1.         0.6222265 ]\n",
      " [0.565761   0.6380659  0.43563098 ... 0.5886751  0.6222265  1.0000001 ]]\n",
      "k=800, Silhouette Score=0.02924766205251217, SSE=1488567168.0\n",
      "Cosine Similarity Matrix for k=800:\n",
      "[[1.0000002  0.5533277  0.714344   ... 0.5965955  0.6940206  0.59450424]\n",
      " [0.5533277  1.         0.63313067 ... 0.7336824  0.5118384  0.84703946]\n",
      " [0.714344   0.63313067 0.9999998  ... 0.5442928  0.6425067  0.64095956]\n",
      " ...\n",
      " [0.5965955  0.7336824  0.5442928  ... 1.         0.69504976 0.7658948 ]\n",
      " [0.6940206  0.5118384  0.6425067  ... 0.69504976 1.0000001  0.5770662 ]\n",
      " [0.59450424 0.84703946 0.64095956 ... 0.7658948  0.5770662  0.9999997 ]]\n",
      "k=900, Silhouette Score=0.02891063690185547, SSE=1463538944.0\n",
      "Cosine Similarity Matrix for k=900:\n",
      "[[0.9999999  0.5657197  0.6826613  ... 0.5207077  0.5057173  0.7024542 ]\n",
      " [0.5657197  1.0000001  0.628364   ... 0.7541138  0.71776074 0.54827344]\n",
      " [0.6826613  0.628364   0.9999999  ... 0.43798077 0.5798263  0.7084718 ]\n",
      " ...\n",
      " [0.5207077  0.7541138  0.43798077 ... 0.9999998  0.58487666 0.5080109 ]\n",
      " [0.5057173  0.71776074 0.5798263  ... 0.58487666 1.0000001  0.5210496 ]\n",
      " [0.7024542  0.54827344 0.7084718  ... 0.5080109  0.5210496  1.        ]]\n",
      "k=1000, Silhouette Score=0.029419617727398872, SSE=1439921024.0\n",
      "Cosine Similarity Matrix for k=1000:\n",
      "[[0.9999999  0.5727508  0.69869256 ... 0.55021167 0.48376536 0.55170697]\n",
      " [0.5727508  0.9999999  0.6268648  ... 0.72678024 0.7164382  0.7393256 ]\n",
      " [0.69869256 0.6268648  1.0000001  ... 0.5430221  0.4940686  0.5585879 ]\n",
      " ...\n",
      " [0.55021167 0.72678024 0.5430221  ... 1.0000001  0.68506044 0.8075865 ]\n",
      " [0.48376536 0.7164382  0.4940686  ... 0.68506044 1.0000002  0.5527237 ]\n",
      " [0.55170697 0.7393256  0.5585879  ... 0.8075865  0.5527237  0.9999998 ]]\n",
      "Best k for 5 categories: 200\n"
     ]
    }
   ],
   "source": [
    "from sklearn.cluster import KMeans\n",
    "from sklearn.metrics import silhouette_score\n",
    "from sklearn.metrics.pairwise import cosine_similarity\n",
    "import numpy as np\n",
    "\n",
    "scores_5_cat = []\n",
    "sse_5_cat = []\n",
    "cos_sim_matrices = []\n",
    "\n",
    "def evaluate_k_means(descriptors, k_values):\n",
    "    best_k = None\n",
    "    best_score = -1\n",
    "    for k in k_values:\n",
    "        kmeans = KMeans(n_clusters=k, random_state=0).fit(descriptors)\n",
    "        labels = kmeans.labels_\n",
    "        score = silhouette_score(descriptors, labels)\n",
    "        scores_5_cat.append(score)\n",
    "        sse = kmeans.inertia_  # Sum of squared distances of samples to their closest cluster center.\n",
    "        sse_5_cat.append(sse)\n",
    "       \n",
    "        print(f'k={k}, Silhouette Score={score}, SSE={sse}')\n",
    "        if score > best_score:\n",
    "            best_score = score\n",
    "            best_k = k\n",
    "\n",
    "        # Calculate cosine similarity between cluster centroids\n",
    "        centroids = kmeans.cluster_centers_\n",
    "        cos_sim_matrix = cosine_similarity(centroids)\n",
    "        cos_sim_matrices.append(cos_sim_matrix)\n",
    "        print(f'Cosine Similarity Matrix for k={k}:\\n{cos_sim_matrix}')\n",
    "        \n",
    "    return best_k\n",
    "\n",
    "# Use the original descriptors \n",
    "descriptors = train_descriptors_matrix_small\n",
    "\n",
    "k_values_5cat = range(200, 1001, 100)\n",
    "best_k_5cat = evaluate_k_means(descriptors, k_values_5cat)\n",
    "print(f'Best k for 5 categories: {best_k_5cat}')"
   ]
  },
  {
   "cell_type": "code",
   "execution_count": 108,
   "metadata": {},
   "outputs": [
    {
     "data": {
      "image/png": "[encoded data removed]",
      "text/plain": [
       "<Figure size 500x300 with 2 Axes>"
      ]
     },
     "metadata": {},
     "output_type": "display_data"
    }
   ],
   "source": [
    "fig, ax1 = plt.subplots(figsize=(5, 3))\n",
    "\n",
    "# Plot Silhouette Score\n",
    "ax1.plot(k_values_5cat, scores_5_cat, marker='o', linestyle='-', color='b', label='Silhouette Score')\n",
    "ax1.set_xlabel('Number of Clusters (k)')\n",
    "ax1.set_ylabel('Silhouette Score', color='b')\n",
    "ax1.tick_params(axis='y', labelcolor='b')\n",
    "ax1.set_xticks(k_values_5cat)\n",
    "ax1.grid(True)\n",
    "\n",
    "# Create a second y-axis for SSE\n",
    "ax2 = ax1.twinx()\n",
    "ax2.plot(k_values_5cat, sse_5_cat, marker='s', linestyle='--', color='r', label='SSE')\n",
    "ax2.set_ylabel('Sum of Squared Errors (SSE)', color='r')\n",
    "ax2.tick_params(axis='y', labelcolor='r')\n",
    "\n",
    "# Add a title\n",
    "plt.title('Silhouette Score and SSE vs Number of Clusters (k)')\n",
    "\n",
    "# Show the plot\n",
    "fig.tight_layout()\n",
    "plt.show()"
   ]
  },
  {
   "cell_type": "code",
   "execution_count": 109,
   "metadata": {},
   "outputs": [
    {
     "data": {
      "image/png": "[encoded data removed]",
      "text/plain": [
       "<Figure size 500x300 with 1 Axes>"
      ]
     },
     "metadata": {},
     "output_type": "display_data"
    }
   ],
   "source": [
    "import matplotlib.pyplot as plt\n",
    "\n",
    "plt.figure(figsize=(5, 3)) \n",
    "plt.plot(k_values_5cat, scores_5_cat, marker='o', linestyle='-', color='b')\n",
    "plt.xlabel('Number of Clusters (k)')\n",
    "plt.ylabel('Silhouette Score')\n",
    "plt.title('Silhouette Score vs Number of Clusters (k)')\n",
    "plt.xticks(k_values_5cat)\n",
    "plt.grid(True)\n",
    "plt.show()"
   ]
  },
  {
   "cell_type": "markdown",
   "metadata": {},
   "source": [
    "### Evaluate best k means for 20 categories"
   ]
  },
  {
   "cell_type": "code",
   "execution_count": 110,
   "metadata": {},
   "outputs": [
    {
     "name": "stdout",
     "output_type": "stream",
     "text": [
      "Computing PCA for 20 categories...\n",
      "Normalizing features for 20 categories...\n"
     ]
    },
    {
     "name": "stderr",
     "output_type": "stream",
     "text": [
      "c:\\Users\\jonaz\\anaconda3\\envs\\VIP-ENV\\Lib\\site-packages\\sklearn\\cluster\\_kmeans.py:1952: UserWarning: MiniBatchKMeans is known to have a memory leak on Windows with MKL, when there are less chunks than available threads. You can prevent it by setting batch_size >= 3072 or by setting the environment variable OMP_NUM_THREADS=2\n",
      "  warnings.warn(\n"
     ]
    },
    {
     "name": "stdout",
     "output_type": "stream",
     "text": [
      "k=500, Silhouette Score=-0.11209976955380936\n"
     ]
    },
    {
     "name": "stderr",
     "output_type": "stream",
     "text": [
      "c:\\Users\\jonaz\\anaconda3\\envs\\VIP-ENV\\Lib\\site-packages\\sklearn\\cluster\\_kmeans.py:1952: UserWarning: MiniBatchKMeans is known to have a memory leak on Windows with MKL, when there are less chunks than available threads. You can prevent it by setting batch_size >= 3072 or by setting the environment variable OMP_NUM_THREADS=2\n",
      "  warnings.warn(\n"
     ]
    },
    {
     "name": "stdout",
     "output_type": "stream",
     "text": [
      "k=750, Silhouette Score=-0.10064187373610381\n"
     ]
    },
    {
     "name": "stderr",
     "output_type": "stream",
     "text": [
      "c:\\Users\\jonaz\\anaconda3\\envs\\VIP-ENV\\Lib\\site-packages\\sklearn\\cluster\\_kmeans.py:1952: UserWarning: MiniBatchKMeans is known to have a memory leak on Windows with MKL, when there are less chunks than available threads. You can prevent it by setting batch_size >= 3072 or by setting the environment variable OMP_NUM_THREADS=2\n",
      "  warnings.warn(\n"
     ]
    },
    {
     "name": "stdout",
     "output_type": "stream",
     "text": [
      "k=1000, Silhouette Score=-0.07948778763900134\n"
     ]
    },
    {
     "name": "stderr",
     "output_type": "stream",
     "text": [
      "c:\\Users\\jonaz\\anaconda3\\envs\\VIP-ENV\\Lib\\site-packages\\sklearn\\cluster\\_kmeans.py:1952: UserWarning: MiniBatchKMeans is known to have a memory leak on Windows with MKL, when there are less chunks than available threads. You can prevent it by setting batch_size >= 3072 or by setting the environment variable OMP_NUM_THREADS=2\n",
      "  warnings.warn(\n"
     ]
    },
    {
     "name": "stdout",
     "output_type": "stream",
     "text": [
      "k=1250, Silhouette Score=-0.07082909476981646\n"
     ]
    },
    {
     "name": "stderr",
     "output_type": "stream",
     "text": [
      "c:\\Users\\jonaz\\anaconda3\\envs\\VIP-ENV\\Lib\\site-packages\\sklearn\\cluster\\_kmeans.py:1952: UserWarning: MiniBatchKMeans is known to have a memory leak on Windows with MKL, when there are less chunks than available threads. You can prevent it by setting batch_size >= 3072 or by setting the environment variable OMP_NUM_THREADS=2\n",
      "  warnings.warn(\n"
     ]
    },
    {
     "name": "stdout",
     "output_type": "stream",
     "text": [
      "k=1500, Silhouette Score=-0.0679469417604084\n"
     ]
    },
    {
     "name": "stderr",
     "output_type": "stream",
     "text": [
      "c:\\Users\\jonaz\\anaconda3\\envs\\VIP-ENV\\Lib\\site-packages\\sklearn\\cluster\\_kmeans.py:1952: UserWarning: MiniBatchKMeans is known to have a memory leak on Windows with MKL, when there are less chunks than available threads. You can prevent it by setting batch_size >= 3072 or by setting the environment variable OMP_NUM_THREADS=2\n",
      "  warnings.warn(\n"
     ]
    },
    {
     "name": "stdout",
     "output_type": "stream",
     "text": [
      "k=1750, Silhouette Score=-0.0644800585306322\n"
     ]
    },
    {
     "name": "stderr",
     "output_type": "stream",
     "text": [
      "c:\\Users\\jonaz\\anaconda3\\envs\\VIP-ENV\\Lib\\site-packages\\sklearn\\cluster\\_kmeans.py:1952: UserWarning: MiniBatchKMeans is known to have a memory leak on Windows with MKL, when there are less chunks than available threads. You can prevent it by setting batch_size >= 3072 or by setting the environment variable OMP_NUM_THREADS=2\n",
      "  warnings.warn(\n"
     ]
    },
    {
     "name": "stdout",
     "output_type": "stream",
     "text": [
      "k=2000, Silhouette Score=-0.06401012436405046\n",
      "Best k for 20 categories: 2000\n"
     ]
    }
   ],
   "source": [
    "from sklearn.decomposition import IncrementalPCA\n",
    "from sklearn.cluster import MiniBatchKMeans\n",
    "from sklearn.preprocessing import StandardScaler\n",
    "from sklearn.metrics import silhouette_score\n",
    "\n",
    "scores_20_cat = []\n",
    "sse_20_cat = []\n",
    "\n",
    "def evaluate_k_means_fast(descriptors, k_values):\n",
    "    best_k = None\n",
    "    best_score = -1\n",
    "    \n",
    "    \n",
    "    for k in k_values:\n",
    "        kmeans = MiniBatchKMeans(n_clusters=k, random_state=0, batch_size=500).fit(descriptors)\n",
    "        labels = kmeans.labels_\n",
    "        score = silhouette_score(descriptors, labels, sample_size=min(1000, len(descriptors)))  # Sample to speed up\n",
    "        scores_20_cat.append(score)\n",
    "        sse = kmeans.inertia_  # Sum of squared distances of samples to their closest cluster center.\n",
    "        sse_20_cat.append(sse)\n",
    "        print(f'k={k}, Silhouette Score={score}')\n",
    "        \n",
    "        if score > best_score:\n",
    "            best_score = score\n",
    "            best_k = k\n",
    "    \n",
    "    return best_k, scores_20_cat\n",
    "\n",
    "pca = IncrementalPCA(n_components=100, batch_size=500)  # Adjust batch_size as needed\n",
    "print(\"Computing PCA for 20 categories...\")\n",
    "reduced_descriptors_20 = pca.fit_transform(train_descriptors_matrix)\n",
    "\n",
    "print(\"Normalizing features for 20 categories...\")\n",
    "scaler = StandardScaler()\n",
    "reduced_descriptors_20 = scaler.fit_transform(reduced_descriptors_20)\n",
    "\n",
    "k_values_20cat = range(500, 2001, 250)\n",
    "\n",
    "result = evaluate_k_means_fast(reduced_descriptors_20, k_values_20cat)\n",
    "\n",
    "best_k_20cat = int(result[0])  # Extract the first element of the tuple\n",
    "print(f'Best k for 20 categories: {best_k_20cat}')"
   ]
  },
  {
   "cell_type": "code",
   "execution_count": 111,
   "metadata": {},
   "outputs": [
    {
     "data": {
      "image/png": "[encoded data removed]",
      "text/plain": [
       "<Figure size 500x300 with 1 Axes>"
      ]
     },
     "metadata": {},
     "output_type": "display_data"
    }
   ],
   "source": [
    "import matplotlib.pyplot as plt\n",
    "\n",
    "plt.figure(figsize=(5, 3)) \n",
    "plt.plot(k_values_20cat, scores_20_cat, marker='o', linestyle='-', color='b')\n",
    "plt.xlabel('Number of Clusters (k)')\n",
    "plt.ylabel('Silhouette Score')\n",
    "plt.title('Silhouette Score vs Number of Clusters (k)')\n",
    "plt.xticks(k_values_20cat)\n",
    "plt.grid(True)\n",
    "plt.show()"
   ]
  },
  {
   "cell_type": "code",
   "execution_count": 112,
   "metadata": {},
   "outputs": [
    {
     "data": {
      "image/png": "[encoded data removed]",
      "text/plain": [
       "<Figure size 500x300 with 2 Axes>"
      ]
     },
     "metadata": {},
     "output_type": "display_data"
    }
   ],
   "source": [
    "fig, ax1 = plt.subplots(figsize=(5, 3))\n",
    "\n",
    "# Plot Silhouette Score\n",
    "ax1.plot(k_values_20cat, scores_20_cat, marker='o', linestyle='-', color='b', label='Silhouette Score')\n",
    "ax1.set_xlabel('Number of Clusters (k)')\n",
    "ax1.set_ylabel('Silhouette Score', color='b')\n",
    "ax1.tick_params(axis='y', labelcolor='b')\n",
    "ax1.set_xticks(k_values_5cat)\n",
    "ax1.grid(True)\n",
    "\n",
    "# Create a second y-axis for SSE\n",
    "ax2 = ax1.twinx()\n",
    "ax2.plot(k_values_20cat, sse_20_cat, marker='s', linestyle='--', color='r', label='SSE')\n",
    "ax2.set_ylabel('Sum of Squared Errors (SSE)', color='r')\n",
    "ax2.set_xticks(k_values_20cat)\n",
    "ax2.tick_params(axis='y', labelcolor='r')\n",
    "\n",
    "# Add a title\n",
    "plt.title('Silhouette Score and SSE vs Number of Clusters (k)')\n",
    "\n",
    "# Show the plot\n",
    "fig.tight_layout()\n",
    "plt.show()"
   ]
  },
  {
   "cell_type": "markdown",
   "metadata": {},
   "source": [
    "Then we implement the k-means clustering on the training descriptors for the 2 different subsets. Clustering results to classify each descriptor to the closest cluster center. Then, for each image, count the number of descriptors assigned to each cluster to form a histogram (BoW vector)."
   ]
  },
  {
   "cell_type": "code",
   "execution_count": 113,
   "metadata": {},
   "outputs": [
    {
     "name": "stdout",
     "output_type": "stream",
     "text": [
      "Number of visual words (clusters): 200\n"
     ]
    }
   ],
   "source": [
    "kmeans_5 = KMeans(n_clusters=best_k_5cat, random_state=42)\n",
    "kmeans_5.fit(train_descriptors_matrix_small)\n",
    "\n",
    "visual_words = kmeans_5.cluster_centers_ # Get the cluster centers (visual words)\n",
    "\n",
    "print(f'Number of visual words (clusters): {visual_words.shape[0]}')"
   ]
  },
  {
   "cell_type": "code",
   "execution_count": 114,
   "metadata": {},
   "outputs": [
    {
     "name": "stdout",
     "output_type": "stream",
     "text": [
      "Number of visual words (clusters): 2000\n"
     ]
    }
   ],
   "source": [
    "kmeans_20 = KMeans(n_clusters=best_k_20cat, random_state=42)\n",
    "kmeans_20.fit(train_descriptors_matrix)\n",
    "\n",
    "visual_words_20 = kmeans_20.cluster_centers_\n",
    "\n",
    "print(f'Number of visual words (clusters): {visual_words_20.shape[0]}')"
   ]
  },
  {
   "cell_type": "markdown",
   "metadata": {},
   "source": [
    "BoW representations "
   ]
  },
  {
   "cell_type": "code",
   "execution_count": 115,
   "metadata": {},
   "outputs": [
    {
     "name": "stdout",
     "output_type": "stream",
     "text": [
      "Number of BoW vectors for the training set with 5 categories: 50\n"
     ]
    }
   ],
   "source": [
    "def form_bow(descriptors_list, kmeans):\n",
    "    bow_list = []\n",
    "    for descriptors in descriptors_list:\n",
    "        labels = kmeans.predict(descriptors) # # Predict the closest cluster for each descriptor\n",
    "        bow = np.bincount(labels, minlength=kmeans.n_clusters) # Create a histogram of cluster assignments\n",
    "        bow_list.append(bow)\n",
    "    return np.array(bow_list)\n",
    "\n",
    "bow_list_5cat = form_bow(train_descriptors_small, kmeans_5)\n",
    "\n",
    "print(f'Number of BoW vectors for the training set with 5 categories: {len(bow_list_5cat)}')"
   ]
  },
  {
   "cell_type": "code",
   "execution_count": 116,
   "metadata": {},
   "outputs": [
    {
     "name": "stdout",
     "output_type": "stream",
     "text": [
      "Number of BoW vectors for the training set with 20 categories: 561\n"
     ]
    }
   ],
   "source": [
    "# TO DO:\n",
    "bow_list_20cat = form_bow(train_descriptors, kmeans_20)\n",
    "print(f'Number of BoW vectors for the training set with 20 categories: {len(bow_list_20cat)}')"
   ]
  },
  {
   "cell_type": "markdown",
   "metadata": {},
   "source": [
    "# 2 Indexing"
   ]
  },
  {
   "cell_type": "markdown",
   "metadata": {},
   "source": [
    "TASK: The next step consists in content indexing. For each image in the test set you\n",
    "should:\n",
    "\n",
    "• Extract the SIFT descriptors of the feature points in the image,\n",
    "\n",
    "• Project the descriptors onto the codebook, i.e., for each descriptor the\n",
    "closest cluster prototype should be found,\n",
    "\n",
    "• Construct the generated corresponding bag of words, i.e, word histogram.\n",
    "Please note that you have already performed the same steps for the training\n",
    "images during codebook generation.\n",
    "\n",
    "Now construct and save a table that would contain, per entry at least the\n",
    "file name, the true category, if it belongs to the training- or test set, and the\n",
    "corresponding bag of words / word histogram. The table need only be computed\n",
    "once and then used repeatably in the following retrieval experiments."
   ]
  },
  {
   "cell_type": "code",
   "execution_count": 200,
   "metadata": {},
   "outputs": [
    {
     "name": "stdout",
     "output_type": "stream",
     "text": [
      "Total number of test descriptors for the test set with 5 categories: 20444\n"
     ]
    }
   ],
   "source": [
    "test_descriptors_small = []\n",
    "for img_path in test_imgs_5cat:\n",
    "    img = cv2.imread(img_path)\n",
    "    img = cv2.cvtColor(img, cv2.COLOR_BGR2RGB)\n",
    "    descriptors = compute_sift_descriptors(img)\n",
    "    if descriptors is not None:\n",
    "        test_descriptors_small.append(descriptors)\n",
    "\n",
    "test_descriptors_matrix_small = np.vstack(test_descriptors_small)\n",
    "\n",
    "print(f'Total number of test descriptors for the test set with 5 categories: {test_descriptors_matrix_small.shape[0]}')"
   ]
  },
  {
   "cell_type": "code",
   "execution_count": 201,
   "metadata": {},
   "outputs": [
    {
     "name": "stdout",
     "output_type": "stream",
     "text": [
      "Number of BoW vectors for the test set with 5 categories: 50\n"
     ]
    }
   ],
   "source": [
    "bow_list_test_5cat = form_bow(test_descriptors_small, kmeans_5)\n",
    "\n",
    "print(f'Number of BoW vectors for the test set with 5 categories: {len(bow_list_test_5cat)}')"
   ]
  },
  {
   "cell_type": "code",
   "execution_count": 119,
   "metadata": {},
   "outputs": [
    {
     "name": "stdout",
     "output_type": "stream",
     "text": [
      "Total number of test descriptors for the test set with 20 categories: 244588\n",
      "Number of BoW vectors for the test set with 20 categories: 561\n"
     ]
    }
   ],
   "source": [
    "test_descriptors = []\n",
    "for img_path in test_imgs_20cat:\n",
    "   img = cv2.imread(img_path)\n",
    "   img = cv2.cvtColor(img, cv2.COLOR_BGR2RGB)\n",
    "   descriptors = compute_sift_descriptors(img)\n",
    "   if descriptors is not None:\n",
    "       test_descriptors.append(descriptors)\n",
    "\n",
    "test_descriptors_matrix = np.vstack(test_descriptors)\n",
    "\n",
    "print(f'Total number of test descriptors for the test set with 20 categories: {test_descriptors_matrix.shape[0]}')\n",
    "\n",
    "bow_list_test_20cat = form_bow(test_descriptors, kmeans_20)\n",
    "\n",
    "print(f'Number of BoW vectors for the test set with 20 categories: {len(bow_list_test_20cat)}')"
   ]
  },
  {
   "cell_type": "code",
   "execution_count": 202,
   "metadata": {},
   "outputs": [
    {
     "name": "stdout",
     "output_type": "stream",
     "text": [
      "Table saved as 'bow_table_5cat.csv'\n"
     ]
    }
   ],
   "source": [
    "data_5cat = []\n",
    "\n",
    "for img_path, bow in zip(train_imgs_5cat, bow_list_5cat):\n",
    "    category = Path(img_path).parent.name\n",
    "    data_5cat.append([img_path, category, 'train', bow])\n",
    "\n",
    "for img_path, bow in zip(test_imgs_5cat, bow_list_test_5cat):\n",
    "    category = Path(img_path).parent.name\n",
    "    data_5cat.append([img_path, category, 'test', bow])\n",
    "\n",
    "df_bow_5cat = pd.DataFrame(data_5cat, columns=['file_name', 'category', 'set_type', 'bow'])\n",
    "\n",
    "df_bow_5cat.to_csv('bow_table_5cat.csv', index=False)\n",
    "\n",
    "print(\"Table saved as 'bow_table_5cat.csv'\")"
   ]
  },
  {
   "cell_type": "code",
   "execution_count": 121,
   "metadata": {},
   "outputs": [
    {
     "data": {
      "text/html": [
       "<div>\n",
       "<style scoped>\n",
       "    .dataframe tbody tr th:only-of-type {\n",
       "        vertical-align: middle;\n",
       "    }\n",
       "\n",
       "    .dataframe tbody tr th {\n",
       "        vertical-align: top;\n",
       "    }\n",
       "\n",
       "    .dataframe thead th {\n",
       "        text-align: right;\n",
       "    }\n",
       "</style>\n",
       "<table border=\"1\" class=\"dataframe\">\n",
       "  <thead>\n",
       "    <tr style=\"text-align: right;\">\n",
       "      <th></th>\n",
       "      <th>file_name</th>\n",
       "      <th>category</th>\n",
       "      <th>set_type</th>\n",
       "      <th>bow</th>\n",
       "    </tr>\n",
       "  </thead>\n",
       "  <tbody>\n",
       "    <tr>\n",
       "      <th>0</th>\n",
       "      <td>c:\\Users\\jonaz\\git\\vision-and-image-proccessin...</td>\n",
       "      <td>pigeon</td>\n",
       "      <td>train</td>\n",
       "      <td>[2, 8, 3, 2, 2, 5, 3, 3, 3, 1, 0, 3, 1, 4, 1, ...</td>\n",
       "    </tr>\n",
       "    <tr>\n",
       "      <th>1</th>\n",
       "      <td>c:\\Users\\jonaz\\git\\vision-and-image-proccessin...</td>\n",
       "      <td>pigeon</td>\n",
       "      <td>train</td>\n",
       "      <td>[1, 0, 1, 3, 2, 1, 7, 9, 1, 4, 2, 2, 4, 3, 0, ...</td>\n",
       "    </tr>\n",
       "    <tr>\n",
       "      <th>2</th>\n",
       "      <td>c:\\Users\\jonaz\\git\\vision-and-image-proccessin...</td>\n",
       "      <td>pigeon</td>\n",
       "      <td>train</td>\n",
       "      <td>[0, 5, 0, 1, 0, 0, 1, 0, 2, 0, 0, 1, 2, 0, 0, ...</td>\n",
       "    </tr>\n",
       "    <tr>\n",
       "      <th>3</th>\n",
       "      <td>c:\\Users\\jonaz\\git\\vision-and-image-proccessin...</td>\n",
       "      <td>pigeon</td>\n",
       "      <td>train</td>\n",
       "      <td>[0, 8, 0, 0, 0, 0, 0, 0, 1, 2, 0, 0, 1, 0, 0, ...</td>\n",
       "    </tr>\n",
       "    <tr>\n",
       "      <th>4</th>\n",
       "      <td>c:\\Users\\jonaz\\git\\vision-and-image-proccessin...</td>\n",
       "      <td>pigeon</td>\n",
       "      <td>train</td>\n",
       "      <td>[1, 6, 0, 0, 1, 3, 1, 0, 0, 0, 0, 1, 4, 0, 0, ...</td>\n",
       "    </tr>\n",
       "  </tbody>\n",
       "</table>\n",
       "</div>"
      ],
      "text/plain": [
       "                                           file_name category set_type  \\\n",
       "0  c:\\Users\\jonaz\\git\\vision-and-image-proccessin...   pigeon    train   \n",
       "1  c:\\Users\\jonaz\\git\\vision-and-image-proccessin...   pigeon    train   \n",
       "2  c:\\Users\\jonaz\\git\\vision-and-image-proccessin...   pigeon    train   \n",
       "3  c:\\Users\\jonaz\\git\\vision-and-image-proccessin...   pigeon    train   \n",
       "4  c:\\Users\\jonaz\\git\\vision-and-image-proccessin...   pigeon    train   \n",
       "\n",
       "                                                 bow  \n",
       "0  [2, 8, 3, 2, 2, 5, 3, 3, 3, 1, 0, 3, 1, 4, 1, ...  \n",
       "1  [1, 0, 1, 3, 2, 1, 7, 9, 1, 4, 2, 2, 4, 3, 0, ...  \n",
       "2  [0, 5, 0, 1, 0, 0, 1, 0, 2, 0, 0, 1, 2, 0, 0, ...  \n",
       "3  [0, 8, 0, 0, 0, 0, 0, 0, 1, 2, 0, 0, 1, 0, 0, ...  \n",
       "4  [1, 6, 0, 0, 1, 3, 1, 0, 0, 0, 0, 1, 4, 0, 0, ...  "
      ]
     },
     "execution_count": 121,
     "metadata": {},
     "output_type": "execute_result"
    }
   ],
   "source": [
    "df_bow_5cat.head()"
   ]
  },
  {
   "cell_type": "code",
   "execution_count": 210,
   "metadata": {},
   "outputs": [
    {
     "name": "stdout",
     "output_type": "stream",
     "text": [
      "Table saved as 'bow_table_20cat.csv'\n"
     ]
    }
   ],
   "source": [
    "# Assuming bow is a numpy array in the format like: [1, 0, 0, ..., 2, 1]\n",
    "# Loop to convert the numpy arrays into string format\n",
    "data_20cat = []\n",
    "\n",
    "for img_path, bow in zip(train_imgs_20cat, bow_list_20cat):\n",
    "   category = Path(img_path).parent.name\n",
    "   # Convert BoW array to a string\n",
    "   bow_str = ','.join(map(str, bow))\n",
    "   data_20cat.append([img_path, category, 'train', bow_str])\n",
    "\n",
    "for img_path, bow in zip(test_imgs_20cat, bow_list_test_20cat):\n",
    "   category = Path(img_path).parent.name\n",
    "   # Convert BoW array to a string\n",
    "   bow_str = ','.join(map(str, bow))\n",
    "   data_20cat.append([img_path, category, 'test', bow_str])\n",
    "\n",
    "# Now we create the dataframe and save to CSV\n",
    "df_bow_20cat = pd.DataFrame(data_20cat, columns=['file_name', 'category', 'set_type', 'bow'])\n",
    "df_bow_20cat.to_csv('bow_table_20cat.csv', index=False)\n",
    "\n",
    "print(\"Table saved as 'bow_table_20cat.csv'\")"
   ]
  },
  {
   "cell_type": "code",
   "execution_count": 199,
   "metadata": {},
   "outputs": [
    {
     "name": "stdout",
     "output_type": "stream",
     "text": [
      "Table saved as 'bow_table_20cat.csv'\n"
     ]
    }
   ],
   "source": [
    "# data_20cat = []\n",
    "\n",
    "# for img_path, bow in zip(train_imgs_20cat, bow_list_20cat):\n",
    "#    category = Path(img_path).parent.name\n",
    "#    data_20cat.append([img_path, category, 'train', bow])\n",
    "\n",
    "# for img_path, bow in zip(test_imgs_20cat, bow_list_test_20cat):\n",
    "#    category = Path(img_path).parent.name\n",
    "#    data_20cat.append([img_path, category, 'test', bow])\n",
    "\n",
    "# df_bow_20cat = pd.DataFrame(data_20cat, columns=['file_name', 'category', 'set_type', 'bow'])\n",
    "\n",
    "# df_bow_20cat.to_csv('bow_table_20cat.csv', index=False)\n",
    "\n",
    "# print(\"Table saved as 'bow_table_20cat.csv'\")"
   ]
  },
  {
   "cell_type": "code",
   "execution_count": 212,
   "metadata": {},
   "outputs": [
    {
     "data": {
      "text/html": [
       "<div>\n",
       "<style scoped>\n",
       "    .dataframe tbody tr th:only-of-type {\n",
       "        vertical-align: middle;\n",
       "    }\n",
       "\n",
       "    .dataframe tbody tr th {\n",
       "        vertical-align: top;\n",
       "    }\n",
       "\n",
       "    .dataframe thead th {\n",
       "        text-align: right;\n",
       "    }\n",
       "</style>\n",
       "<table border=\"1\" class=\"dataframe\">\n",
       "  <thead>\n",
       "    <tr style=\"text-align: right;\">\n",
       "      <th></th>\n",
       "      <th>file_name</th>\n",
       "      <th>category</th>\n",
       "      <th>set_type</th>\n",
       "      <th>bow</th>\n",
       "    </tr>\n",
       "  </thead>\n",
       "  <tbody>\n",
       "    <tr>\n",
       "      <th>0</th>\n",
       "      <td>c:\\Users\\jonaz\\git\\vision-and-image-proccessin...</td>\n",
       "      <td>pigeon</td>\n",
       "      <td>train</td>\n",
       "      <td>0,1,0,0,1,2,2,0,0,1,0,0,1,0,2,1,1,0,0,1,0,0,2,...</td>\n",
       "    </tr>\n",
       "    <tr>\n",
       "      <th>1</th>\n",
       "      <td>c:\\Users\\jonaz\\git\\vision-and-image-proccessin...</td>\n",
       "      <td>pigeon</td>\n",
       "      <td>train</td>\n",
       "      <td>0,0,3,0,0,0,0,0,0,0,0,0,0,0,0,0,0,0,1,0,0,2,0,...</td>\n",
       "    </tr>\n",
       "    <tr>\n",
       "      <th>2</th>\n",
       "      <td>c:\\Users\\jonaz\\git\\vision-and-image-proccessin...</td>\n",
       "      <td>pigeon</td>\n",
       "      <td>train</td>\n",
       "      <td>0,0,0,0,0,0,0,0,0,0,0,0,0,0,0,0,1,0,0,0,0,0,0,...</td>\n",
       "    </tr>\n",
       "    <tr>\n",
       "      <th>3</th>\n",
       "      <td>c:\\Users\\jonaz\\git\\vision-and-image-proccessin...</td>\n",
       "      <td>pigeon</td>\n",
       "      <td>train</td>\n",
       "      <td>0,0,2,0,0,0,0,0,0,0,0,0,0,0,0,0,0,0,8,0,0,0,0,...</td>\n",
       "    </tr>\n",
       "    <tr>\n",
       "      <th>4</th>\n",
       "      <td>c:\\Users\\jonaz\\git\\vision-and-image-proccessin...</td>\n",
       "      <td>pigeon</td>\n",
       "      <td>train</td>\n",
       "      <td>0,0,2,0,0,0,0,0,0,0,0,0,0,0,0,0,0,1,1,0,0,2,1,...</td>\n",
       "    </tr>\n",
       "  </tbody>\n",
       "</table>\n",
       "</div>"
      ],
      "text/plain": [
       "                                           file_name category set_type  \\\n",
       "0  c:\\Users\\jonaz\\git\\vision-and-image-proccessin...   pigeon    train   \n",
       "1  c:\\Users\\jonaz\\git\\vision-and-image-proccessin...   pigeon    train   \n",
       "2  c:\\Users\\jonaz\\git\\vision-and-image-proccessin...   pigeon    train   \n",
       "3  c:\\Users\\jonaz\\git\\vision-and-image-proccessin...   pigeon    train   \n",
       "4  c:\\Users\\jonaz\\git\\vision-and-image-proccessin...   pigeon    train   \n",
       "\n",
       "                                                 bow  \n",
       "0  0,1,0,0,1,2,2,0,0,1,0,0,1,0,2,1,1,0,0,1,0,0,2,...  \n",
       "1  0,0,3,0,0,0,0,0,0,0,0,0,0,0,0,0,0,0,1,0,0,2,0,...  \n",
       "2  0,0,0,0,0,0,0,0,0,0,0,0,0,0,0,0,1,0,0,0,0,0,0,...  \n",
       "3  0,0,2,0,0,0,0,0,0,0,0,0,0,0,0,0,0,0,8,0,0,0,0,...  \n",
       "4  0,0,2,0,0,0,0,0,0,0,0,0,0,0,0,0,0,1,1,0,0,2,1,...  "
      ]
     },
     "execution_count": 212,
     "metadata": {},
     "output_type": "execute_result"
    }
   ],
   "source": [
    "df_bow_20cat.head()"
   ]
  },
  {
   "cell_type": "markdown",
   "metadata": {},
   "source": [
    "# 3 Retrieving"
   ]
  },
  {
   "cell_type": "markdown",
   "metadata": {},
   "source": [
    "TASK: Finally, you should implement retrieving of images using some of the similarity\n",
    "measures discussed in the course slides. You may use: \n",
    "\n",
    "• common words\n",
    "\n",
    "• tf-ifd similarity\n",
    "\n",
    "• Bhattacharyya distance or Kullback-Leibler divergence\n",
    "\n",
    "Please argue for your choice or report the differences in result when applying\n",
    "the different measures.\n",
    "\n",
    "Your report should show commented results for two experiments. \n",
    "\n",
    "In the first\n",
    "you consider retrieving training images. \n",
    "\n",
    "In the second you test how well you\n",
    "can classify test images. Otherwise the two test are identical. \n",
    "\n",
    "For each test you\n",
    "should count:\n",
    "• The mean reciprocal rank (i.e. the average across all queries of 1/ranki ,\n",
    "where ranki is the rank position of the first correct category for the i’th\n",
    "query).\n",
    "• How often (in per cent) the correct category is in top-3"
   ]
  },
  {
   "cell_type": "markdown",
   "metadata": {},
   "source": [
    "### 5 category subset"
   ]
  },
  {
   "cell_type": "code",
   "execution_count": 247,
   "metadata": {},
   "outputs": [],
   "source": [
    "df = pd.read_csv('bow_table_5cat.csv')"
   ]
  },
  {
   "cell_type": "code",
   "execution_count": 248,
   "metadata": {},
   "outputs": [],
   "source": [
    "def parse_bow(bow_string):\n",
    "    \"\"\"\n",
    "    Parses a bag-of-words (BOW) string representation into a NumPy array.\n",
    "    \"\"\"\n",
    "    if isinstance(bow_string, np.ndarray):  # Already a NumPy array\n",
    "        return bow_string  \n",
    "\n",
    "    if isinstance(bow_string, str):  # If it's a string, process it\n",
    "        clean_bow = bow_string.replace('\\n', ' ').replace('  ', ' ').strip('[]')\n",
    "        bow_list = [int(x) for x in clean_bow.split()]\n",
    "        return np.array(bow_list)\n",
    "\n",
    "    raise ValueError(f\"Unexpected type in 'bow' column: {type(bow_string)}\")\n",
    "\n",
    "\n",
    "def common_words_similarity(bow1, bow2):\n",
    "    \"\"\"\n",
    "    Computes the similarity between two BOW vectors based on the number of common words.\n",
    "\n",
    "    Parameters:\n",
    "    - bow1: NumPy array, the first BOW vector.\n",
    "    - bow2: NumPy array, the second BOW vector.\n",
    "\n",
    "    Returns:\n",
    "    - Integer representing the sum of the minimum word counts for each term in the vectors.\n",
    "    \"\"\"\n",
    "    return np.sum(np.minimum(bow1, bow2))\n",
    "\n",
    "\n",
    "def compute_idf(df):\n",
    "    \"\"\"\n",
    "    Computes the Inverse Document Frequency (IDF) for terms in the dataset.\n",
    "\n",
    "    Parameters:\n",
    "    - df: Pandas DataFrame, containing the 'bow' column with parsed BOW vectors.\n",
    "\n",
    "    Returns:\n",
    "    - NumPy array of IDF values for each term in the vocabulary.\n",
    "    \"\"\"\n",
    "    num_docs = len(df)\n",
    "    term_frequencies = np.sum(np.vstack(df['bow']), axis=0)  # Sum BOW vectors across all documents\n",
    "    idf = np.log((num_docs + 1) / (1 + term_frequencies)) + 1  # Smooth IDF\n",
    "    return idf\n",
    "\n",
    "\n",
    "def tf_idf_similarity(bow1, bow2, idf):\n",
    "    \"\"\"\n",
    "    Computes the cosine similarity between two TF-IDF vectors.\n",
    "\n",
    "    Parameters:\n",
    "    - bow1: NumPy array, the first BOW vector.\n",
    "    - bow2: NumPy array, the second BOW vector.\n",
    "    - idf: NumPy array, precomputed IDF values.\n",
    "\n",
    "    Returns:\n",
    "    - Float representing the cosine similarity between the two TF-IDF vectors.\n",
    "    \"\"\"\n",
    "    tf_idf1 = bow1 * idf\n",
    "    tf_idf2 = bow2 * idf\n",
    "    return 1 - cosine(tf_idf1, tf_idf2)\n",
    "\n",
    "\n",
    "def bhattacharyya_distance(bow1, bow2):\n",
    "    \"\"\"\n",
    "    Computes the Bhattacharyya distance between two probability distributions.\n",
    "\n",
    "    Parameters:\n",
    "    - bow1: NumPy array, the first BOW vector.\n",
    "    - bow2: NumPy array, the second BOW vector.\n",
    "\n",
    "    Returns:\n",
    "    - Float representing the Bhattacharyya distance.\n",
    "    \"\"\"\n",
    "    return -np.log(np.sum(np.sqrt(bow1 * bow2)))\n",
    "\n",
    "\n",
    "def kl_divergence(bow1, bow2):\n",
    "    \"\"\"\n",
    "    Computes the Kullback-Leibler (KL) divergence between two probability distributions.\n",
    "\n",
    "    Parameters:\n",
    "    - bow1: NumPy array, the first probability distribution.\n",
    "    - bow2: NumPy array, the second probability distribution.\n",
    "\n",
    "    Returns:\n",
    "    - Float representing the KL divergence.\n",
    "    \"\"\"\n",
    "    return entropy(bow1, bow2)\n",
    "\n",
    "\n",
    "def retrieve_images(query_bow, df, similarity_measure):\n",
    "    \"\"\"\n",
    "    Retrieves images from a dataset based on similarity to a query BOW vector.\n",
    "\n",
    "    Parameters:\n",
    "    - query_bow: NumPy array, the query BOW vector.\n",
    "    - df: Pandas DataFrame, containing images and their BOW vectors.\n",
    "    - similarity_measure: Function, the similarity measure to use for comparison.\n",
    "\n",
    "    Returns:\n",
    "    - List of tuples containing file name, category, and similarity score, sorted by similarity.\n",
    "    \"\"\"\n",
    "    similarities = []\n",
    "    for _, row in df.iterrows():\n",
    "        bow = row['bow']  # Use the parsed NumPy array directly\n",
    "        similarity = similarity_measure(query_bow, bow)\n",
    "        similarities.append((row['file_name'], row['category'], similarity))\n",
    "    similarities.sort(key=lambda x: x[2], reverse=True)\n",
    "    return similarities\n",
    "\n",
    "\n",
    "def evaluate_retrieval(df, similarity_measure):\n",
    "    \"\"\"\n",
    "    Evaluates the retrieval performance of a similarity measure using Mean Reciprocal Rank (MRR) and Top-3 accuracy.\n",
    "\n",
    "    Parameters:\n",
    "    - df: Pandas DataFrame, containing images and their BOW vectors.\n",
    "    - similarity_measure: Function, the similarity measure to use for comparison.\n",
    "\n",
    "    Returns:\n",
    "    - mrr: Float, the Mean Reciprocal Rank across all queries.\n",
    "    - top3_percentage: Float, the percentage of queries where the correct category is in the top 3 results.\n",
    "    \"\"\"\n",
    "    mrr = 0\n",
    "    top3_count = 0\n",
    "    num_queries = len(df)\n",
    "\n",
    "    for query_index in range(num_queries):\n",
    "        query_bow = df.iloc[query_index]['bow']\n",
    "        query_category = df.iloc[query_index]['category']\n",
    "        results = retrieve_images(query_bow, df, similarity_measure)\n",
    "\n",
    "        # Calculate rank of the first correct category\n",
    "        rank = next((i for i, result in enumerate(results) if result[1] == query_category), None)\n",
    "        if rank is not None:\n",
    "            mrr += 1 / (rank + 1)\n",
    "            if rank < 3:\n",
    "                top3_count += 1\n",
    "\n",
    "    mrr /= num_queries\n",
    "    top3_percentage = (top3_count / num_queries) * 100\n",
    "    return mrr, top3_percentage"
   ]
  },
  {
   "cell_type": "code",
   "execution_count": 249,
   "metadata": {},
   "outputs": [],
   "source": [
    "# Function to perform experiments and print results\n",
    "def perform_experiment(set_name, dataset, similarity_measures):\n",
    "    print(f\"\\n--- Results for {set_name} Set ---\")\n",
    "    for name, similarity_measure in similarity_measures.items():\n",
    "        mrr, top3 = evaluate_retrieval(dataset, similarity_measure)\n",
    "        print(f\"Similarity Measure: {name}\")\n",
    "        print(f\"  - Mean Reciprocal Rank (MRR): {mrr:.4f}\")\n",
    "        print(f\"  - Top-3 Accuracy: {top3:.2f}%\")"
   ]
  },
  {
   "cell_type": "code",
   "execution_count": 243,
   "metadata": {},
   "outputs": [
    {
     "ename": "ValueError",
     "evalue": "invalid literal for int() with base 10: ' 2 8 3 2 2 5 3 3 3 1 0 3 1 4 1 1 3 12 2 0 3 3 0 8  7 3 3 3 1 4 3 0 1 9 6 1 3 3 3 4 0 3 5 5 0 2 0 5  0 3 3 5 10 4 4 1 1 0 1 1 0 0 1 0 0 0 4 2 0 6 7 1 11 1 5 6 2 1 1 2 1 6 8 3 2 1 2 1 6 1 4 10 0 5 3 1 ",
     "output_type": "error",
     "traceback": [
      "\u001b[1;31m---------------------------------------------------------------------------\u001b[0m",
      "\u001b[1;31mValueError\u001b[0m                                Traceback (most recent call last)",
      "Cell \u001b[1;32mIn[250], line 1\u001b[0m\n\u001b[1;32m----> 1\u001b[0m df[\u001b[38;5;124m'\u001b[39m\u001b[38;5;124mbow\u001b[39m\u001b[38;5;124m'\u001b[39m] \u001b[38;5;241m=\u001b[39m \u001b[43mdf\u001b[49m\u001b[43m[\u001b[49m\u001b[38;5;124;43m'\u001b[39;49m\u001b[38;5;124;43mbow\u001b[39;49m\u001b[38;5;124;43m'\u001b[39;49m\u001b[43m]\u001b[49m\u001b[38;5;241;43m.\u001b[39;49m\u001b[43mapply\u001b[49m\u001b[43m(\u001b[49m\u001b[43mparse_bow\u001b[49m\u001b[43m)\u001b[49m\n\u001b[0;32m      3\u001b[0m idf \u001b[38;5;241m=\u001b[39m compute_idf(df)\n",
      "File \u001b[1;32mc:\\Users\\jonaz\\anaconda3\\envs\\VIP-ENV\\Lib\\site-packages\\pandas\\core\\series.py:4924\u001b[0m, in \u001b[0;36mSeries.apply\u001b[1;34m(self, func, convert_dtype, args, by_row, **kwargs)\u001b[0m\n\u001b[0;32m   4789\u001b[0m \u001b[38;5;28;01mdef\u001b[39;00m \u001b[38;5;21mapply\u001b[39m(\n\u001b[0;32m   4790\u001b[0m     \u001b[38;5;28mself\u001b[39m,\n\u001b[0;32m   4791\u001b[0m     func: AggFuncType,\n\u001b[1;32m   (...)\u001b[0m\n\u001b[0;32m   4796\u001b[0m     \u001b[38;5;241m*\u001b[39m\u001b[38;5;241m*\u001b[39mkwargs,\n\u001b[0;32m   4797\u001b[0m ) \u001b[38;5;241m-\u001b[39m\u001b[38;5;241m>\u001b[39m DataFrame \u001b[38;5;241m|\u001b[39m Series:\n\u001b[0;32m   4798\u001b[0m \u001b[38;5;250m    \u001b[39m\u001b[38;5;124;03m\"\"\"\u001b[39;00m\n\u001b[0;32m   4799\u001b[0m \u001b[38;5;124;03m    Invoke function on values of Series.\u001b[39;00m\n\u001b[0;32m   4800\u001b[0m \n\u001b[1;32m   (...)\u001b[0m\n\u001b[0;32m   4915\u001b[0m \u001b[38;5;124;03m    dtype: float64\u001b[39;00m\n\u001b[0;32m   4916\u001b[0m \u001b[38;5;124;03m    \"\"\"\u001b[39;00m\n\u001b[0;32m   4917\u001b[0m     \u001b[38;5;28;01mreturn\u001b[39;00m \u001b[43mSeriesApply\u001b[49m\u001b[43m(\u001b[49m\n\u001b[0;32m   4918\u001b[0m \u001b[43m        \u001b[49m\u001b[38;5;28;43mself\u001b[39;49m\u001b[43m,\u001b[49m\n\u001b[0;32m   4919\u001b[0m \u001b[43m        \u001b[49m\u001b[43mfunc\u001b[49m\u001b[43m,\u001b[49m\n\u001b[0;32m   4920\u001b[0m \u001b[43m        \u001b[49m\u001b[43mconvert_dtype\u001b[49m\u001b[38;5;241;43m=\u001b[39;49m\u001b[43mconvert_dtype\u001b[49m\u001b[43m,\u001b[49m\n\u001b[0;32m   4921\u001b[0m \u001b[43m        \u001b[49m\u001b[43mby_row\u001b[49m\u001b[38;5;241;43m=\u001b[39;49m\u001b[43mby_row\u001b[49m\u001b[43m,\u001b[49m\n\u001b[0;32m   4922\u001b[0m \u001b[43m        \u001b[49m\u001b[43margs\u001b[49m\u001b[38;5;241;43m=\u001b[39;49m\u001b[43margs\u001b[49m\u001b[43m,\u001b[49m\n\u001b[0;32m   4923\u001b[0m \u001b[43m        \u001b[49m\u001b[43mkwargs\u001b[49m\u001b[38;5;241;43m=\u001b[39;49m\u001b[43mkwargs\u001b[49m\u001b[43m,\u001b[49m\n\u001b[1;32m-> 4924\u001b[0m \u001b[43m    \u001b[49m\u001b[43m)\u001b[49m\u001b[38;5;241;43m.\u001b[39;49m\u001b[43mapply\u001b[49m\u001b[43m(\u001b[49m\u001b[43m)\u001b[49m\n",
      "File \u001b[1;32mc:\\Users\\jonaz\\anaconda3\\envs\\VIP-ENV\\Lib\\site-packages\\pandas\\core\\apply.py:1427\u001b[0m, in \u001b[0;36mSeriesApply.apply\u001b[1;34m(self)\u001b[0m\n\u001b[0;32m   1424\u001b[0m     \u001b[38;5;28;01mreturn\u001b[39;00m \u001b[38;5;28mself\u001b[39m\u001b[38;5;241m.\u001b[39mapply_compat()\n\u001b[0;32m   1426\u001b[0m \u001b[38;5;66;03m# self.func is Callable\u001b[39;00m\n\u001b[1;32m-> 1427\u001b[0m \u001b[38;5;28;01mreturn\u001b[39;00m \u001b[38;5;28;43mself\u001b[39;49m\u001b[38;5;241;43m.\u001b[39;49m\u001b[43mapply_standard\u001b[49m\u001b[43m(\u001b[49m\u001b[43m)\u001b[49m\n",
      "File \u001b[1;32mc:\\Users\\jonaz\\anaconda3\\envs\\VIP-ENV\\Lib\\site-packages\\pandas\\core\\apply.py:1507\u001b[0m, in \u001b[0;36mSeriesApply.apply_standard\u001b[1;34m(self)\u001b[0m\n\u001b[0;32m   1501\u001b[0m \u001b[38;5;66;03m# row-wise access\u001b[39;00m\n\u001b[0;32m   1502\u001b[0m \u001b[38;5;66;03m# apply doesn't have a `na_action` keyword and for backward compat reasons\u001b[39;00m\n\u001b[0;32m   1503\u001b[0m \u001b[38;5;66;03m# we need to give `na_action=\"ignore\"` for categorical data.\u001b[39;00m\n\u001b[0;32m   1504\u001b[0m \u001b[38;5;66;03m# TODO: remove the `na_action=\"ignore\"` when that default has been changed in\u001b[39;00m\n\u001b[0;32m   1505\u001b[0m \u001b[38;5;66;03m#  Categorical (GH51645).\u001b[39;00m\n\u001b[0;32m   1506\u001b[0m action \u001b[38;5;241m=\u001b[39m \u001b[38;5;124m\"\u001b[39m\u001b[38;5;124mignore\u001b[39m\u001b[38;5;124m\"\u001b[39m \u001b[38;5;28;01mif\u001b[39;00m \u001b[38;5;28misinstance\u001b[39m(obj\u001b[38;5;241m.\u001b[39mdtype, CategoricalDtype) \u001b[38;5;28;01melse\u001b[39;00m \u001b[38;5;28;01mNone\u001b[39;00m\n\u001b[1;32m-> 1507\u001b[0m mapped \u001b[38;5;241m=\u001b[39m \u001b[43mobj\u001b[49m\u001b[38;5;241;43m.\u001b[39;49m\u001b[43m_map_values\u001b[49m\u001b[43m(\u001b[49m\n\u001b[0;32m   1508\u001b[0m \u001b[43m    \u001b[49m\u001b[43mmapper\u001b[49m\u001b[38;5;241;43m=\u001b[39;49m\u001b[43mcurried\u001b[49m\u001b[43m,\u001b[49m\u001b[43m \u001b[49m\u001b[43mna_action\u001b[49m\u001b[38;5;241;43m=\u001b[39;49m\u001b[43maction\u001b[49m\u001b[43m,\u001b[49m\u001b[43m \u001b[49m\u001b[43mconvert\u001b[49m\u001b[38;5;241;43m=\u001b[39;49m\u001b[38;5;28;43mself\u001b[39;49m\u001b[38;5;241;43m.\u001b[39;49m\u001b[43mconvert_dtype\u001b[49m\n\u001b[0;32m   1509\u001b[0m \u001b[43m\u001b[49m\u001b[43m)\u001b[49m\n\u001b[0;32m   1511\u001b[0m \u001b[38;5;28;01mif\u001b[39;00m \u001b[38;5;28mlen\u001b[39m(mapped) \u001b[38;5;129;01mand\u001b[39;00m \u001b[38;5;28misinstance\u001b[39m(mapped[\u001b[38;5;241m0\u001b[39m], ABCSeries):\n\u001b[0;32m   1512\u001b[0m     \u001b[38;5;66;03m# GH#43986 Need to do list(mapped) in order to get treated as nested\u001b[39;00m\n\u001b[0;32m   1513\u001b[0m     \u001b[38;5;66;03m#  See also GH#25959 regarding EA support\u001b[39;00m\n\u001b[0;32m   1514\u001b[0m     \u001b[38;5;28;01mreturn\u001b[39;00m obj\u001b[38;5;241m.\u001b[39m_constructor_expanddim(\u001b[38;5;28mlist\u001b[39m(mapped), index\u001b[38;5;241m=\u001b[39mobj\u001b[38;5;241m.\u001b[39mindex)\n",
      "File \u001b[1;32mc:\\Users\\jonaz\\anaconda3\\envs\\VIP-ENV\\Lib\\site-packages\\pandas\\core\\base.py:921\u001b[0m, in \u001b[0;36mIndexOpsMixin._map_values\u001b[1;34m(self, mapper, na_action, convert)\u001b[0m\n\u001b[0;32m    918\u001b[0m \u001b[38;5;28;01mif\u001b[39;00m \u001b[38;5;28misinstance\u001b[39m(arr, ExtensionArray):\n\u001b[0;32m    919\u001b[0m     \u001b[38;5;28;01mreturn\u001b[39;00m arr\u001b[38;5;241m.\u001b[39mmap(mapper, na_action\u001b[38;5;241m=\u001b[39mna_action)\n\u001b[1;32m--> 921\u001b[0m \u001b[38;5;28;01mreturn\u001b[39;00m \u001b[43malgorithms\u001b[49m\u001b[38;5;241;43m.\u001b[39;49m\u001b[43mmap_array\u001b[49m\u001b[43m(\u001b[49m\u001b[43marr\u001b[49m\u001b[43m,\u001b[49m\u001b[43m \u001b[49m\u001b[43mmapper\u001b[49m\u001b[43m,\u001b[49m\u001b[43m \u001b[49m\u001b[43mna_action\u001b[49m\u001b[38;5;241;43m=\u001b[39;49m\u001b[43mna_action\u001b[49m\u001b[43m,\u001b[49m\u001b[43m \u001b[49m\u001b[43mconvert\u001b[49m\u001b[38;5;241;43m=\u001b[39;49m\u001b[43mconvert\u001b[49m\u001b[43m)\u001b[49m\n",
      "File \u001b[1;32mc:\\Users\\jonaz\\anaconda3\\envs\\VIP-ENV\\Lib\\site-packages\\pandas\\core\\algorithms.py:1743\u001b[0m, in \u001b[0;36mmap_array\u001b[1;34m(arr, mapper, na_action, convert)\u001b[0m\n\u001b[0;32m   1741\u001b[0m values \u001b[38;5;241m=\u001b[39m arr\u001b[38;5;241m.\u001b[39mastype(\u001b[38;5;28mobject\u001b[39m, copy\u001b[38;5;241m=\u001b[39m\u001b[38;5;28;01mFalse\u001b[39;00m)\n\u001b[0;32m   1742\u001b[0m \u001b[38;5;28;01mif\u001b[39;00m na_action \u001b[38;5;129;01mis\u001b[39;00m \u001b[38;5;28;01mNone\u001b[39;00m:\n\u001b[1;32m-> 1743\u001b[0m     \u001b[38;5;28;01mreturn\u001b[39;00m \u001b[43mlib\u001b[49m\u001b[38;5;241;43m.\u001b[39;49m\u001b[43mmap_infer\u001b[49m\u001b[43m(\u001b[49m\u001b[43mvalues\u001b[49m\u001b[43m,\u001b[49m\u001b[43m \u001b[49m\u001b[43mmapper\u001b[49m\u001b[43m,\u001b[49m\u001b[43m \u001b[49m\u001b[43mconvert\u001b[49m\u001b[38;5;241;43m=\u001b[39;49m\u001b[43mconvert\u001b[49m\u001b[43m)\u001b[49m\n\u001b[0;32m   1744\u001b[0m \u001b[38;5;28;01melse\u001b[39;00m:\n\u001b[0;32m   1745\u001b[0m     \u001b[38;5;28;01mreturn\u001b[39;00m lib\u001b[38;5;241m.\u001b[39mmap_infer_mask(\n\u001b[0;32m   1746\u001b[0m         values, mapper, mask\u001b[38;5;241m=\u001b[39misna(values)\u001b[38;5;241m.\u001b[39mview(np\u001b[38;5;241m.\u001b[39muint8), convert\u001b[38;5;241m=\u001b[39mconvert\n\u001b[0;32m   1747\u001b[0m     )\n",
      "File \u001b[1;32mlib.pyx:2972\u001b[0m, in \u001b[0;36mpandas._libs.lib.map_infer\u001b[1;34m()\u001b[0m\n",
      "Cell \u001b[1;32mIn[248], line 4\u001b[0m, in \u001b[0;36mparse_bow\u001b[1;34m(bow_string)\u001b[0m\n\u001b[0;32m      2\u001b[0m \u001b[38;5;28;01mif\u001b[39;00m \u001b[38;5;28misinstance\u001b[39m(bow_string, \u001b[38;5;28mstr\u001b[39m):\n\u001b[0;32m      3\u001b[0m     clean_bow \u001b[38;5;241m=\u001b[39m bow_string\u001b[38;5;241m.\u001b[39mreplace(\u001b[38;5;124m'\u001b[39m\u001b[38;5;130;01m\\n\u001b[39;00m\u001b[38;5;124m'\u001b[39m, \u001b[38;5;124m'\u001b[39m\u001b[38;5;124m \u001b[39m\u001b[38;5;124m'\u001b[39m)\u001b[38;5;241m.\u001b[39mreplace(\u001b[38;5;124m'\u001b[39m\u001b[38;5;124m  \u001b[39m\u001b[38;5;124m'\u001b[39m, \u001b[38;5;124m'\u001b[39m\u001b[38;5;124m \u001b[39m\u001b[38;5;124m'\u001b[39m)\u001b[38;5;241m.\u001b[39mstrip(\u001b[38;5;124m'\u001b[39m\u001b[38;5;124m[]\u001b[39m\u001b[38;5;124m'\u001b[39m)\n\u001b[1;32m----> 4\u001b[0m     bow_list \u001b[38;5;241m=\u001b[39m [\u001b[38;5;28;43mint\u001b[39;49m\u001b[43m(\u001b[49m\u001b[43mx\u001b[49m\u001b[43m)\u001b[49m \u001b[38;5;28;01mfor\u001b[39;00m x \u001b[38;5;129;01min\u001b[39;00m clean_bow\u001b[38;5;241m.\u001b[39msplit(\u001b[38;5;124m'\u001b[39m\u001b[38;5;124m,\u001b[39m\u001b[38;5;124m'\u001b[39m)]  \u001b[38;5;66;03m# Split on commas\u001b[39;00m\n\u001b[0;32m      5\u001b[0m     \u001b[38;5;28;01mreturn\u001b[39;00m np\u001b[38;5;241m.\u001b[39marray(bow_list)\n\u001b[0;32m      6\u001b[0m \u001b[38;5;28;01melse\u001b[39;00m:\n",
      "\u001b[1;31mValueError\u001b[0m: invalid literal for int() with base 10: ' 2 8 3 2 2 5 3 3 3 1 0 3 1 4 1 1 3 12 2 0 3 3 0 8  7 3 3 3 1 4 3 0 1 9 6 1 3 3 3 4 0 3 5 5 0 2 0 5  0 3 3 5 10 4 4 1 1 0 1 1 0 0 1 0 0 0 4 2 0 6 7 1 11 1 5 6 2 1 1 2 1 6 8 3 2 1 2 1 6 1 4 10 0 5 3 1 "
     ]
    }
   ],
   "source": [
    "df['bow'] = df['bow'].apply(parse_bow)\n",
    "\n",
    "idf = compute_idf(df)"
   ]
  },
  {
   "cell_type": "markdown",
   "metadata": {},
   "source": [
    "### Experiment 1 - retrieving training images"
   ]
  },
  {
   "cell_type": "code",
   "execution_count": 217,
   "metadata": {},
   "outputs": [
    {
     "name": "stderr",
     "output_type": "stream",
     "text": [
      "C:\\Users\\jonaz\\AppData\\Local\\Temp\\ipykernel_23324\\3413021990.py:3: SettingWithCopyWarning: \n",
      "A value is trying to be set on a copy of a slice from a DataFrame.\n",
      "Try using .loc[row_indexer,col_indexer] = value instead\n",
      "\n",
      "See the caveats in the documentation: https://pandas.pydata.org/pandas-docs/stable/user_guide/indexing.html#returning-a-view-versus-a-copy\n",
      "  training_set['bow'] = training_set['bow'].apply(parse_bow)\n"
     ]
    },
    {
     "name": "stdout",
     "output_type": "stream",
     "text": [
      "\n",
      "--- Results for Training Set ---\n",
      "Similarity Measure: Common Words\n",
      "  - Mean Reciprocal Rank (MRR): 1.0000\n",
      "  - Top-3 Accuracy: 100.00%\n",
      "Similarity Measure: TF-IDF\n",
      "  - Mean Reciprocal Rank (MRR): 1.0000\n",
      "  - Top-3 Accuracy: 100.00%\n",
      "Similarity Measure: Bhattacharyya\n",
      "  - Mean Reciprocal Rank (MRR): 0.3275\n",
      "  - Top-3 Accuracy: 30.00%\n",
      "Similarity Measure: KL Divergence\n",
      "  - Mean Reciprocal Rank (MRR): 0.2391\n",
      "  - Top-3 Accuracy: 20.00%\n"
     ]
    }
   ],
   "source": [
    "training_set = df[df['set_type'] == 'train']\n",
    "\n",
    "training_set['bow'] = training_set['bow'].apply(parse_bow)\n",
    "\n",
    "similarity_measures = { 'Common Words': common_words_similarity, \n",
    "                       'TF-IDF': lambda bow1, bow2: tf_idf_similarity(bow1, bow2, idf), \n",
    "                       'Bhattacharyya': bhattacharyya_distance, \n",
    "                       'KL Divergence': kl_divergence }\n",
    "\n",
    "perform_experiment(\"Training\", training_set, similarity_measures)\n"
   ]
  },
  {
   "cell_type": "markdown",
   "metadata": {},
   "source": [
    "### Experiment 2 - retrieving test images"
   ]
  },
  {
   "cell_type": "code",
   "execution_count": 218,
   "metadata": {},
   "outputs": [
    {
     "name": "stderr",
     "output_type": "stream",
     "text": [
      "C:\\Users\\jonaz\\AppData\\Local\\Temp\\ipykernel_23324\\4224355731.py:3: SettingWithCopyWarning: \n",
      "A value is trying to be set on a copy of a slice from a DataFrame.\n",
      "Try using .loc[row_indexer,col_indexer] = value instead\n",
      "\n",
      "See the caveats in the documentation: https://pandas.pydata.org/pandas-docs/stable/user_guide/indexing.html#returning-a-view-versus-a-copy\n",
      "  test_set['bow'] = test_set['bow'].apply(parse_bow)\n"
     ]
    },
    {
     "name": "stdout",
     "output_type": "stream",
     "text": [
      "\n",
      "--- Results for Test Set ---\n",
      "Similarity Measure: Common Words\n",
      "  - Mean Reciprocal Rank (MRR): 0.9829\n",
      "  - Top-3 Accuracy: 98.00%\n",
      "Similarity Measure: TF-IDF\n",
      "  - Mean Reciprocal Rank (MRR): 1.0000\n",
      "  - Top-3 Accuracy: 100.00%\n",
      "Similarity Measure: Bhattacharyya\n",
      "  - Mean Reciprocal Rank (MRR): 0.2959\n",
      "  - Top-3 Accuracy: 28.00%\n",
      "Similarity Measure: KL Divergence\n",
      "  - Mean Reciprocal Rank (MRR): 0.2399\n",
      "  - Top-3 Accuracy: 20.00%\n"
     ]
    }
   ],
   "source": [
    "test_set = df[df['set_type'] == 'test']\n",
    "\n",
    "test_set['bow'] = test_set['bow'].apply(parse_bow)\n",
    "\n",
    "perform_experiment(\"Test\", test_set, similarity_measures)"
   ]
  },
  {
   "cell_type": "markdown",
   "metadata": {},
   "source": [
    "# 20 category subset"
   ]
  },
  {
   "cell_type": "code",
   "execution_count": 245,
   "metadata": {},
   "outputs": [],
   "source": [
    "df = pd.read_csv('bow_table_20cat.csv')"
   ]
  },
  {
   "cell_type": "code",
   "execution_count": 232,
   "metadata": {},
   "outputs": [],
   "source": [
    "def parse_bow2(bow_string):\n",
    "    if isinstance(bow_string, str):\n",
    "        clean_bow = bow_string.replace('\\n', ' ').replace('  ', ' ').strip('[]')\n",
    "        bow_list = [int(x) for x in clean_bow.split(',')]  # Split on commas\n",
    "        return np.array(bow_list)\n",
    "    else:\n",
    "        raise ValueError(f\"Unexpected type in 'bow' column: {type(bow_string)}\")\n",
    "\n",
    "def common_words_similarity(bow1, bow2):\n",
    "    \"\"\"\n",
    "    Computes the similarity between two BOW vectors based on the number of common words.\n",
    "\n",
    "    Parameters:\n",
    "    - bow1: NumPy array, the first BOW vector.\n",
    "    - bow2: NumPy array, the second BOW vector.\n",
    "\n",
    "    Returns:\n",
    "    - Integer representing the sum of the minimum word counts for each term in the vectors.\n",
    "    \"\"\"\n",
    "    return np.sum(np.minimum(bow1, bow2))\n",
    "\n",
    "\n",
    "def compute_idf(df):\n",
    "    \"\"\"\n",
    "    Computes the Inverse Document Frequency (IDF) for terms in the dataset.\n",
    "\n",
    "    Parameters:\n",
    "    - df: Pandas DataFrame, containing the 'bow' column with parsed BOW vectors.\n",
    "\n",
    "    Returns:\n",
    "    - NumPy array of IDF values for each term in the vocabulary.\n",
    "    \"\"\"\n",
    "    num_docs = len(df)\n",
    "    term_frequencies = np.sum(np.vstack(df['bow']), axis=0)  # Sum BOW vectors across all documents\n",
    "    idf = np.log((num_docs + 1) / (1 + term_frequencies)) + 1  # Smooth IDF\n",
    "    return idf\n",
    "\n",
    "\n",
    "def tf_idf_similarity(bow1, bow2, idf):\n",
    "    \"\"\"\n",
    "    Computes the cosine similarity between two TF-IDF vectors.\n",
    "\n",
    "    Parameters:\n",
    "    - bow1: NumPy array, the first BOW vector.\n",
    "    - bow2: NumPy array, the second BOW vector.\n",
    "    - idf: NumPy array, precomputed IDF values.\n",
    "\n",
    "    Returns:\n",
    "    - Float representing the cosine similarity between the two TF-IDF vectors.\n",
    "    \"\"\"\n",
    "    tf_idf1 = bow1 * idf\n",
    "    tf_idf2 = bow2 * idf\n",
    "    return 1 - cosine(tf_idf1, tf_idf2)\n",
    "\n",
    "\n",
    "def bhattacharyya_distance(bow1, bow2):\n",
    "    \"\"\"\n",
    "    Computes the Bhattacharyya distance between two probability distributions.\n",
    "\n",
    "    Parameters:\n",
    "    - bow1: NumPy array, the first BOW vector.\n",
    "    - bow2: NumPy array, the second BOW vector.\n",
    "\n",
    "    Returns:\n",
    "    - Float representing the Bhattacharyya distance.\n",
    "    \"\"\"\n",
    "    return -np.log(np.sum(np.sqrt(bow1 * bow2)))\n",
    "\n",
    "\n",
    "def kl_divergence(bow1, bow2):\n",
    "    \"\"\"\n",
    "    Computes the Kullback-Leibler (KL) divergence between two probability distributions.\n",
    "\n",
    "    Parameters:\n",
    "    - bow1: NumPy array, the first probability distribution.\n",
    "    - bow2: NumPy array, the second probability distribution.\n",
    "\n",
    "    Returns:\n",
    "    - Float representing the KL divergence.\n",
    "    \"\"\"\n",
    "    return entropy(bow1, bow2)\n",
    "\n",
    "\n",
    "def retrieve_images(query_bow, df, similarity_measure):\n",
    "    \"\"\"\n",
    "    Retrieves images from a dataset based on similarity to a query BOW vector.\n",
    "\n",
    "    Parameters:\n",
    "    - query_bow: NumPy array, the query BOW vector.\n",
    "    - df: Pandas DataFrame, containing images and their BOW vectors.\n",
    "    - similarity_measure: Function, the similarity measure to use for comparison.\n",
    "\n",
    "    Returns:\n",
    "    - List of tuples containing file name, category, and similarity score, sorted by similarity.\n",
    "    \"\"\"\n",
    "    similarities = []\n",
    "    for _, row in df.iterrows():\n",
    "        bow = row['bow']  # Use the parsed NumPy array directly\n",
    "        similarity = similarity_measure(query_bow, bow)\n",
    "        similarities.append((row['file_name'], row['category'], similarity))\n",
    "    similarities.sort(key=lambda x: x[2], reverse=True)\n",
    "    return similarities\n",
    "\n",
    "\n",
    "def evaluate_retrieval(df, similarity_measure):\n",
    "    \"\"\"\n",
    "    Evaluates the retrieval performance of a similarity measure using Mean Reciprocal Rank (MRR) and Top-3 accuracy.\n",
    "\n",
    "    Parameters:\n",
    "    - df: Pandas DataFrame, containing images and their BOW vectors.\n",
    "    - similarity_measure: Function, the similarity measure to use for comparison.\n",
    "\n",
    "    Returns:\n",
    "    - mrr: Float, the Mean Reciprocal Rank across all queries.\n",
    "    - top3_percentage: Float, the percentage of queries where the correct category is in the top 3 results.\n",
    "    \"\"\"\n",
    "    mrr = 0\n",
    "    top3_count = 0\n",
    "    num_queries = len(df)\n",
    "\n",
    "    for query_index in range(num_queries):\n",
    "        query_bow = df.iloc[query_index]['bow']\n",
    "        query_category = df.iloc[query_index]['category']\n",
    "        results = retrieve_images(query_bow, df, similarity_measure)\n",
    "\n",
    "        # Calculate rank of the first correct category\n",
    "        rank = next((i for i, result in enumerate(results) if result[1] == query_category), None)\n",
    "        if rank is not None:\n",
    "            mrr += 1 / (rank + 1)\n",
    "            if rank < 3:\n",
    "                top3_count += 1\n",
    "\n",
    "    mrr /= num_queries\n",
    "    top3_percentage = (top3_count / num_queries) * 100\n",
    "    return mrr, top3_percentage"
   ]
  },
  {
   "cell_type": "code",
   "execution_count": 233,
   "metadata": {},
   "outputs": [],
   "source": [
    "# Function to perform experiments and print results\n",
    "def perform_experiment(set_name, dataset, similarity_measures):\n",
    "    print(f\"\\n--- Results for {set_name} Set ---\")\n",
    "    for name, similarity_measure in similarity_measures.items():\n",
    "        mrr, top3 = evaluate_retrieval(dataset, similarity_measure)\n",
    "        print(f\"Similarity Measure: {name}\")\n",
    "        print(f\"  - Mean Reciprocal Rank (MRR): {mrr:.4f}\")\n",
    "        print(f\"  - Top-3 Accuracy: {top3:.2f}%\")"
   ]
  },
  {
   "cell_type": "code",
   "execution_count": 246,
   "metadata": {},
   "outputs": [
    {
     "ename": "ValueError",
     "evalue": "invalid literal for int() with base 10: '0,1,0,0,1,2,2,0,0,1,0,0,1,0,2,1,1,0,0,1,0,0,2,0,0,0,0,0,0,1,0,0,1,0,0,0,1,1,1,2,1,1,0,1,1,0,0,0,0,1,0,0,0,0,2,1,0,2,1,2,0,0,0,0,1,1,0,0,0,0,2,1,0,0,0,1,0,3,0,2,1,4,0,2,2,1,1,1,0,0,0,0,0,0,3,0,0,0,1,0",
     "output_type": "error",
     "traceback": [
      "\u001b[1;31m---------------------------------------------------------------------------\u001b[0m",
      "\u001b[1;31mValueError\u001b[0m                                Traceback (most recent call last)",
      "Cell \u001b[1;32mIn[246], line 1\u001b[0m\n\u001b[1;32m----> 1\u001b[0m df[\u001b[38;5;124m'\u001b[39m\u001b[38;5;124mbow\u001b[39m\u001b[38;5;124m'\u001b[39m] \u001b[38;5;241m=\u001b[39m \u001b[43mdf\u001b[49m\u001b[43m[\u001b[49m\u001b[38;5;124;43m'\u001b[39;49m\u001b[38;5;124;43mbow\u001b[39;49m\u001b[38;5;124;43m'\u001b[39;49m\u001b[43m]\u001b[49m\u001b[38;5;241;43m.\u001b[39;49m\u001b[43mapply\u001b[49m\u001b[43m(\u001b[49m\u001b[43mparse_bow\u001b[49m\u001b[43m)\u001b[49m\n\u001b[0;32m      3\u001b[0m idf \u001b[38;5;241m=\u001b[39m compute_idf(df)\n",
      "File \u001b[1;32mc:\\Users\\jonaz\\anaconda3\\envs\\VIP-ENV\\Lib\\site-packages\\pandas\\core\\series.py:4924\u001b[0m, in \u001b[0;36mSeries.apply\u001b[1;34m(self, func, convert_dtype, args, by_row, **kwargs)\u001b[0m\n\u001b[0;32m   4789\u001b[0m \u001b[38;5;28;01mdef\u001b[39;00m \u001b[38;5;21mapply\u001b[39m(\n\u001b[0;32m   4790\u001b[0m     \u001b[38;5;28mself\u001b[39m,\n\u001b[0;32m   4791\u001b[0m     func: AggFuncType,\n\u001b[1;32m   (...)\u001b[0m\n\u001b[0;32m   4796\u001b[0m     \u001b[38;5;241m*\u001b[39m\u001b[38;5;241m*\u001b[39mkwargs,\n\u001b[0;32m   4797\u001b[0m ) \u001b[38;5;241m-\u001b[39m\u001b[38;5;241m>\u001b[39m DataFrame \u001b[38;5;241m|\u001b[39m Series:\n\u001b[0;32m   4798\u001b[0m \u001b[38;5;250m    \u001b[39m\u001b[38;5;124;03m\"\"\"\u001b[39;00m\n\u001b[0;32m   4799\u001b[0m \u001b[38;5;124;03m    Invoke function on values of Series.\u001b[39;00m\n\u001b[0;32m   4800\u001b[0m \n\u001b[1;32m   (...)\u001b[0m\n\u001b[0;32m   4915\u001b[0m \u001b[38;5;124;03m    dtype: float64\u001b[39;00m\n\u001b[0;32m   4916\u001b[0m \u001b[38;5;124;03m    \"\"\"\u001b[39;00m\n\u001b[0;32m   4917\u001b[0m     \u001b[38;5;28;01mreturn\u001b[39;00m \u001b[43mSeriesApply\u001b[49m\u001b[43m(\u001b[49m\n\u001b[0;32m   4918\u001b[0m \u001b[43m        \u001b[49m\u001b[38;5;28;43mself\u001b[39;49m\u001b[43m,\u001b[49m\n\u001b[0;32m   4919\u001b[0m \u001b[43m        \u001b[49m\u001b[43mfunc\u001b[49m\u001b[43m,\u001b[49m\n\u001b[0;32m   4920\u001b[0m \u001b[43m        \u001b[49m\u001b[43mconvert_dtype\u001b[49m\u001b[38;5;241;43m=\u001b[39;49m\u001b[43mconvert_dtype\u001b[49m\u001b[43m,\u001b[49m\n\u001b[0;32m   4921\u001b[0m \u001b[43m        \u001b[49m\u001b[43mby_row\u001b[49m\u001b[38;5;241;43m=\u001b[39;49m\u001b[43mby_row\u001b[49m\u001b[43m,\u001b[49m\n\u001b[0;32m   4922\u001b[0m \u001b[43m        \u001b[49m\u001b[43margs\u001b[49m\u001b[38;5;241;43m=\u001b[39;49m\u001b[43margs\u001b[49m\u001b[43m,\u001b[49m\n\u001b[0;32m   4923\u001b[0m \u001b[43m        \u001b[49m\u001b[43mkwargs\u001b[49m\u001b[38;5;241;43m=\u001b[39;49m\u001b[43mkwargs\u001b[49m\u001b[43m,\u001b[49m\n\u001b[1;32m-> 4924\u001b[0m \u001b[43m    \u001b[49m\u001b[43m)\u001b[49m\u001b[38;5;241;43m.\u001b[39;49m\u001b[43mapply\u001b[49m\u001b[43m(\u001b[49m\u001b[43m)\u001b[49m\n",
      "File \u001b[1;32mc:\\Users\\jonaz\\anaconda3\\envs\\VIP-ENV\\Lib\\site-packages\\pandas\\core\\apply.py:1427\u001b[0m, in \u001b[0;36mSeriesApply.apply\u001b[1;34m(self)\u001b[0m\n\u001b[0;32m   1424\u001b[0m     \u001b[38;5;28;01mreturn\u001b[39;00m \u001b[38;5;28mself\u001b[39m\u001b[38;5;241m.\u001b[39mapply_compat()\n\u001b[0;32m   1426\u001b[0m \u001b[38;5;66;03m# self.func is Callable\u001b[39;00m\n\u001b[1;32m-> 1427\u001b[0m \u001b[38;5;28;01mreturn\u001b[39;00m \u001b[38;5;28;43mself\u001b[39;49m\u001b[38;5;241;43m.\u001b[39;49m\u001b[43mapply_standard\u001b[49m\u001b[43m(\u001b[49m\u001b[43m)\u001b[49m\n",
      "File \u001b[1;32mc:\\Users\\jonaz\\anaconda3\\envs\\VIP-ENV\\Lib\\site-packages\\pandas\\core\\apply.py:1507\u001b[0m, in \u001b[0;36mSeriesApply.apply_standard\u001b[1;34m(self)\u001b[0m\n\u001b[0;32m   1501\u001b[0m \u001b[38;5;66;03m# row-wise access\u001b[39;00m\n\u001b[0;32m   1502\u001b[0m \u001b[38;5;66;03m# apply doesn't have a `na_action` keyword and for backward compat reasons\u001b[39;00m\n\u001b[0;32m   1503\u001b[0m \u001b[38;5;66;03m# we need to give `na_action=\"ignore\"` for categorical data.\u001b[39;00m\n\u001b[0;32m   1504\u001b[0m \u001b[38;5;66;03m# TODO: remove the `na_action=\"ignore\"` when that default has been changed in\u001b[39;00m\n\u001b[0;32m   1505\u001b[0m \u001b[38;5;66;03m#  Categorical (GH51645).\u001b[39;00m\n\u001b[0;32m   1506\u001b[0m action \u001b[38;5;241m=\u001b[39m \u001b[38;5;124m\"\u001b[39m\u001b[38;5;124mignore\u001b[39m\u001b[38;5;124m\"\u001b[39m \u001b[38;5;28;01mif\u001b[39;00m \u001b[38;5;28misinstance\u001b[39m(obj\u001b[38;5;241m.\u001b[39mdtype, CategoricalDtype) \u001b[38;5;28;01melse\u001b[39;00m \u001b[38;5;28;01mNone\u001b[39;00m\n\u001b[1;32m-> 1507\u001b[0m mapped \u001b[38;5;241m=\u001b[39m \u001b[43mobj\u001b[49m\u001b[38;5;241;43m.\u001b[39;49m\u001b[43m_map_values\u001b[49m\u001b[43m(\u001b[49m\n\u001b[0;32m   1508\u001b[0m \u001b[43m    \u001b[49m\u001b[43mmapper\u001b[49m\u001b[38;5;241;43m=\u001b[39;49m\u001b[43mcurried\u001b[49m\u001b[43m,\u001b[49m\u001b[43m \u001b[49m\u001b[43mna_action\u001b[49m\u001b[38;5;241;43m=\u001b[39;49m\u001b[43maction\u001b[49m\u001b[43m,\u001b[49m\u001b[43m \u001b[49m\u001b[43mconvert\u001b[49m\u001b[38;5;241;43m=\u001b[39;49m\u001b[38;5;28;43mself\u001b[39;49m\u001b[38;5;241;43m.\u001b[39;49m\u001b[43mconvert_dtype\u001b[49m\n\u001b[0;32m   1509\u001b[0m \u001b[43m\u001b[49m\u001b[43m)\u001b[49m\n\u001b[0;32m   1511\u001b[0m \u001b[38;5;28;01mif\u001b[39;00m \u001b[38;5;28mlen\u001b[39m(mapped) \u001b[38;5;129;01mand\u001b[39;00m \u001b[38;5;28misinstance\u001b[39m(mapped[\u001b[38;5;241m0\u001b[39m], ABCSeries):\n\u001b[0;32m   1512\u001b[0m     \u001b[38;5;66;03m# GH#43986 Need to do list(mapped) in order to get treated as nested\u001b[39;00m\n\u001b[0;32m   1513\u001b[0m     \u001b[38;5;66;03m#  See also GH#25959 regarding EA support\u001b[39;00m\n\u001b[0;32m   1514\u001b[0m     \u001b[38;5;28;01mreturn\u001b[39;00m obj\u001b[38;5;241m.\u001b[39m_constructor_expanddim(\u001b[38;5;28mlist\u001b[39m(mapped), index\u001b[38;5;241m=\u001b[39mobj\u001b[38;5;241m.\u001b[39mindex)\n",
      "File \u001b[1;32mc:\\Users\\jonaz\\anaconda3\\envs\\VIP-ENV\\Lib\\site-packages\\pandas\\core\\base.py:921\u001b[0m, in \u001b[0;36mIndexOpsMixin._map_values\u001b[1;34m(self, mapper, na_action, convert)\u001b[0m\n\u001b[0;32m    918\u001b[0m \u001b[38;5;28;01mif\u001b[39;00m \u001b[38;5;28misinstance\u001b[39m(arr, ExtensionArray):\n\u001b[0;32m    919\u001b[0m     \u001b[38;5;28;01mreturn\u001b[39;00m arr\u001b[38;5;241m.\u001b[39mmap(mapper, na_action\u001b[38;5;241m=\u001b[39mna_action)\n\u001b[1;32m--> 921\u001b[0m \u001b[38;5;28;01mreturn\u001b[39;00m \u001b[43malgorithms\u001b[49m\u001b[38;5;241;43m.\u001b[39;49m\u001b[43mmap_array\u001b[49m\u001b[43m(\u001b[49m\u001b[43marr\u001b[49m\u001b[43m,\u001b[49m\u001b[43m \u001b[49m\u001b[43mmapper\u001b[49m\u001b[43m,\u001b[49m\u001b[43m \u001b[49m\u001b[43mna_action\u001b[49m\u001b[38;5;241;43m=\u001b[39;49m\u001b[43mna_action\u001b[49m\u001b[43m,\u001b[49m\u001b[43m \u001b[49m\u001b[43mconvert\u001b[49m\u001b[38;5;241;43m=\u001b[39;49m\u001b[43mconvert\u001b[49m\u001b[43m)\u001b[49m\n",
      "File \u001b[1;32mc:\\Users\\jonaz\\anaconda3\\envs\\VIP-ENV\\Lib\\site-packages\\pandas\\core\\algorithms.py:1743\u001b[0m, in \u001b[0;36mmap_array\u001b[1;34m(arr, mapper, na_action, convert)\u001b[0m\n\u001b[0;32m   1741\u001b[0m values \u001b[38;5;241m=\u001b[39m arr\u001b[38;5;241m.\u001b[39mastype(\u001b[38;5;28mobject\u001b[39m, copy\u001b[38;5;241m=\u001b[39m\u001b[38;5;28;01mFalse\u001b[39;00m)\n\u001b[0;32m   1742\u001b[0m \u001b[38;5;28;01mif\u001b[39;00m na_action \u001b[38;5;129;01mis\u001b[39;00m \u001b[38;5;28;01mNone\u001b[39;00m:\n\u001b[1;32m-> 1743\u001b[0m     \u001b[38;5;28;01mreturn\u001b[39;00m \u001b[43mlib\u001b[49m\u001b[38;5;241;43m.\u001b[39;49m\u001b[43mmap_infer\u001b[49m\u001b[43m(\u001b[49m\u001b[43mvalues\u001b[49m\u001b[43m,\u001b[49m\u001b[43m \u001b[49m\u001b[43mmapper\u001b[49m\u001b[43m,\u001b[49m\u001b[43m \u001b[49m\u001b[43mconvert\u001b[49m\u001b[38;5;241;43m=\u001b[39;49m\u001b[43mconvert\u001b[49m\u001b[43m)\u001b[49m\n\u001b[0;32m   1744\u001b[0m \u001b[38;5;28;01melse\u001b[39;00m:\n\u001b[0;32m   1745\u001b[0m     \u001b[38;5;28;01mreturn\u001b[39;00m lib\u001b[38;5;241m.\u001b[39mmap_infer_mask(\n\u001b[0;32m   1746\u001b[0m         values, mapper, mask\u001b[38;5;241m=\u001b[39misna(values)\u001b[38;5;241m.\u001b[39mview(np\u001b[38;5;241m.\u001b[39muint8), convert\u001b[38;5;241m=\u001b[39mconvert\n\u001b[0;32m   1747\u001b[0m     )\n",
      "File \u001b[1;32mlib.pyx:2972\u001b[0m, in \u001b[0;36mpandas._libs.lib.map_infer\u001b[1;34m()\u001b[0m\n",
      "Cell \u001b[1;32mIn[232], line 10\u001b[0m, in \u001b[0;36mparse_bow\u001b[1;34m(bow_string)\u001b[0m\n\u001b[0;32m      8\u001b[0m \u001b[38;5;28;01mif\u001b[39;00m \u001b[38;5;28misinstance\u001b[39m(bow_string, \u001b[38;5;28mstr\u001b[39m):  \u001b[38;5;66;03m# If it's a string, process it\u001b[39;00m\n\u001b[0;32m      9\u001b[0m     clean_bow \u001b[38;5;241m=\u001b[39m bow_string\u001b[38;5;241m.\u001b[39mreplace(\u001b[38;5;124m'\u001b[39m\u001b[38;5;130;01m\\n\u001b[39;00m\u001b[38;5;124m'\u001b[39m, \u001b[38;5;124m'\u001b[39m\u001b[38;5;124m \u001b[39m\u001b[38;5;124m'\u001b[39m)\u001b[38;5;241m.\u001b[39mreplace(\u001b[38;5;124m'\u001b[39m\u001b[38;5;124m  \u001b[39m\u001b[38;5;124m'\u001b[39m, \u001b[38;5;124m'\u001b[39m\u001b[38;5;124m \u001b[39m\u001b[38;5;124m'\u001b[39m)\u001b[38;5;241m.\u001b[39mstrip(\u001b[38;5;124m'\u001b[39m\u001b[38;5;124m[]\u001b[39m\u001b[38;5;124m'\u001b[39m)\n\u001b[1;32m---> 10\u001b[0m     bow_list \u001b[38;5;241m=\u001b[39m [\u001b[38;5;28;43mint\u001b[39;49m\u001b[43m(\u001b[49m\u001b[43mx\u001b[49m\u001b[43m)\u001b[49m \u001b[38;5;28;01mfor\u001b[39;00m x \u001b[38;5;129;01min\u001b[39;00m clean_bow\u001b[38;5;241m.\u001b[39msplit()]\n\u001b[0;32m     11\u001b[0m     \u001b[38;5;28;01mreturn\u001b[39;00m np\u001b[38;5;241m.\u001b[39marray(bow_list)\n\u001b[0;32m     13\u001b[0m \u001b[38;5;28;01mraise\u001b[39;00m \u001b[38;5;167;01mValueError\u001b[39;00m(\u001b[38;5;124mf\u001b[39m\u001b[38;5;124m\"\u001b[39m\u001b[38;5;124mUnexpected type in \u001b[39m\u001b[38;5;124m'\u001b[39m\u001b[38;5;124mbow\u001b[39m\u001b[38;5;124m'\u001b[39m\u001b[38;5;124m column: \u001b[39m\u001b[38;5;132;01m{\u001b[39;00m\u001b[38;5;28mtype\u001b[39m(bow_string)\u001b[38;5;132;01m}\u001b[39;00m\u001b[38;5;124m\"\u001b[39m)\n",
      "\u001b[1;31mValueError\u001b[0m: invalid literal for int() with base 10: '0,1,0,0,1,2,2,0,0,1,0,0,1,0,2,1,1,0,0,1,0,0,2,0,0,0,0,0,0,1,0,0,1,0,0,0,1,1,1,2,1,1,0,1,1,0,0,0,0,1,0,0,0,0,2,1,0,2,1,2,0,0,0,0,1,1,0,0,0,0,2,1,0,0,0,1,0,3,0,2,1,4,0,2,2,1,1,1,0,0,0,0,0,0,3,0,0,0,1,0"
     ]
    }
   ],
   "source": [
    "df['bow'] = df['bow'].apply(parse_bow)\n",
    "\n",
    "idf = compute_idf(df)"
   ]
  },
  {
   "cell_type": "markdown",
   "metadata": {},
   "source": [
    "### Experiment 1 - 20 Categories"
   ]
  },
  {
   "cell_type": "code",
   "execution_count": null,
   "metadata": {},
   "outputs": [
    {
     "name": "stderr",
     "output_type": "stream",
     "text": [
      "C:\\Users\\jonaz\\AppData\\Local\\Temp\\ipykernel_23324\\4067226456.py:3: SettingWithCopyWarning: \n",
      "A value is trying to be set on a copy of a slice from a DataFrame.\n",
      "Try using .loc[row_indexer,col_indexer] = value instead\n",
      "\n",
      "See the caveats in the documentation: https://pandas.pydata.org/pandas-docs/stable/user_guide/indexing.html#returning-a-view-versus-a-copy\n",
      "  training_set['bow'] = training_set['bow'].apply(parse_bow)\n"
     ]
    },
    {
     "name": "stdout",
     "output_type": "stream",
     "text": [
      "\n",
      "--- Results for Training Set ---\n",
      "Similarity Measure: Common Words\n",
      "  - Mean Reciprocal Rank (MRR): 1.0000\n",
      "  - Top-3 Accuracy: 100.00%\n",
      "Similarity Measure: TF-IDF\n",
      "  - Mean Reciprocal Rank (MRR): 1.0000\n",
      "  - Top-3 Accuracy: 100.00%\n",
      "Similarity Measure: Bhattacharyya\n",
      "  - Mean Reciprocal Rank (MRR): 0.3275\n",
      "  - Top-3 Accuracy: 30.00%\n",
      "Similarity Measure: KL Divergence\n",
      "  - Mean Reciprocal Rank (MRR): 0.2391\n",
      "  - Top-3 Accuracy: 20.00%\n"
     ]
    }
   ],
   "source": [
    "training_set = df[df['set_type'] == 'train']\n",
    "\n",
    "training_set['bow'] = training_set['bow'].apply(parse_bow)\n",
    "\n",
    "similarity_measures = { 'Common Words': common_words_similarity, \n",
    "                       'TF-IDF': lambda bow1, bow2: tf_idf_similarity(bow1, bow2, idf), \n",
    "                       'Bhattacharyya': bhattacharyya_distance, \n",
    "                       'KL Divergence': kl_divergence }\n",
    "\n",
    "perform_experiment(\"Training\", training_set, similarity_measures)"
   ]
  },
  {
   "cell_type": "markdown",
   "metadata": {},
   "source": [
    "### Experiment 2 - 20 Categories"
   ]
  },
  {
   "cell_type": "code",
   "execution_count": 236,
   "metadata": {},
   "outputs": [
    {
     "name": "stdout",
     "output_type": "stream",
     "text": [
      "\n",
      "--- Results for Test Set ---\n",
      "Similarity Measure: Common Words\n",
      "  - Mean Reciprocal Rank (MRR): 0.9829\n",
      "  - Top-3 Accuracy: 98.00%\n",
      "Similarity Measure: TF-IDF\n",
      "  - Mean Reciprocal Rank (MRR): 1.0000\n",
      "  - Top-3 Accuracy: 100.00%\n",
      "Similarity Measure: Bhattacharyya\n",
      "  - Mean Reciprocal Rank (MRR): 0.2959\n",
      "  - Top-3 Accuracy: 28.00%\n"
     ]
    },
    {
     "name": "stderr",
     "output_type": "stream",
     "text": [
      "C:\\Users\\jonaz\\AppData\\Local\\Temp\\ipykernel_23324\\4224355731.py:3: SettingWithCopyWarning: \n",
      "A value is trying to be set on a copy of a slice from a DataFrame.\n",
      "Try using .loc[row_indexer,col_indexer] = value instead\n",
      "\n",
      "See the caveats in the documentation: https://pandas.pydata.org/pandas-docs/stable/user_guide/indexing.html#returning-a-view-versus-a-copy\n",
      "  test_set['bow'] = test_set['bow'].apply(parse_bow)\n"
     ]
    },
    {
     "name": "stdout",
     "output_type": "stream",
     "text": [
      "Similarity Measure: KL Divergence\n",
      "  - Mean Reciprocal Rank (MRR): 0.2399\n",
      "  - Top-3 Accuracy: 20.00%\n"
     ]
    }
   ],
   "source": [
    "test_set = df[df['set_type'] == 'test']\n",
    "\n",
    "test_set['bow'] = test_set['bow'].apply(parse_bow)\n",
    "\n",
    "perform_experiment(\"Test\", test_set, similarity_measures)"
   ]
  }
 ],
 "metadata": {
  "kernelspec": {
   "display_name": "VIP-ENV",
   "language": "python",
   "name": "python3"
  },
  "language_info": {
   "codemirror_mode": {
    "name": "ipython",
    "version": 3
   },
   "file_extension": ".py",
   "mimetype": "text/x-python",
   "name": "python",
   "nbconvert_exporter": "python",
   "pygments_lexer": "ipython3",
   "version": "3.12.8"
  }
 },
 "nbformat": 4,
 "nbformat_minor": 2
}
