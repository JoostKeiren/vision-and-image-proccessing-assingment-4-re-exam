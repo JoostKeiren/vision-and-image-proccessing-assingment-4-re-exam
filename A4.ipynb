{
 "cells": [
  {
   "cell_type": "code",
   "execution_count": 2,
   "metadata": {},
   "outputs": [],
   "source": [
    "import os\n",
    "import random\n",
    "import cv2\n",
    "import numpy as np\n",
    "import pandas as pd\n",
    "import matplotlib.pyplot as plt\n",
    "from glob import glob\n",
    "from pathlib import Path\n",
    "from collections import Counter\n",
    "from scipy.spatial.distance import euclidean, cosine\n",
    "from scipy.stats import entropy\n",
    "from sklearn.cluster import KMeans\n",
    "from sklearn.metrics import silhouette_score\n",
    "from sklearn.metrics.pairwise import cosine_similarity\n",
    "from sklearn.feature_extraction.text import TfidfVectorizer, TfidfTransformer\n",
    "import numpy as np\n",
    "from sklearn.decomposition import PCA"
   ]
  },
  {
   "cell_type": "markdown",
   "metadata": {},
   "source": [
    "## Load images"
   ]
  },
  {
   "cell_type": "code",
   "execution_count": 3,
   "metadata": {},
   "outputs": [
    {
     "name": "stdout",
     "output_type": "stream",
     "text": [
      "Number of categories: 20\n",
      "Category: strawberry, Number of images: 35\n",
      "Category: platypus, Number of images: 34\n",
      "Category: pigeon, Number of images: 45\n",
      "Category: soccer_ball, Number of images: 64\n",
      "Category: scorpion, Number of images: 84\n",
      "Category: pyramid, Number of images: 57\n",
      "Category: schooner, Number of images: 63\n",
      "Category: revolver, Number of images: 82\n",
      "Category: stapler, Number of images: 45\n",
      "Category: starfish, Number of images: 86\n",
      "Category: saxophone, Number of images: 40\n",
      "Category: stegosaurus, Number of images: 59\n",
      "Category: snoopy, Number of images: 35\n",
      "Category: rhino, Number of images: 59\n",
      "Category: scissors, Number of images: 39\n",
      "Category: rooster, Number of images: 49\n",
      "Category: pizza, Number of images: 53\n",
      "Category: stop_sign, Number of images: 64\n",
      "Category: sea_horse, Number of images: 57\n",
      "Category: sunflower, Number of images: 85\n"
     ]
    }
   ],
   "source": [
    "img_paths = glob('Images/*/*.jpg')\n",
    "labels = [Path(path).parent.name for path in img_paths]\n",
    "\n",
    "label_counts = Counter(labels)\n",
    "\n",
    "print(f'Number of categories: {len(label_counts)}')\n",
    "\n",
    "for label, count in label_counts.items():\n",
    "    print(f'Category: {label}, Number of images: {count}')"
   ]
  },
  {
   "cell_type": "code",
   "execution_count": 4,
   "metadata": {},
   "outputs": [],
   "source": [
    "images = []\n",
    "img_paths = [os.path.abspath(path) for path in img_paths]"
   ]
  },
  {
   "cell_type": "markdown",
   "metadata": {},
   "source": [
    "TASK: We recommend that you (for a start) select a subset of say 4-5 categories. When you have checked that everything works you may extend to say 20 categories. For each category, the\n",
    "set of images should be split in two: A training set and a test set (of equal size). The test set must not include images in the training set. When using few categories you may also limit the number of training images (to say 10) per category."
   ]
  },
  {
   "cell_type": "markdown",
   "metadata": {},
   "source": [
    "We first select 5 categories"
   ]
  },
  {
   "cell_type": "code",
   "execution_count": 5,
   "metadata": {},
   "outputs": [
    {
     "name": "stdout",
     "output_type": "stream",
     "text": [
      "Categories chosen: pigeon, pizza, platypus, pyramid, revolver\n",
      "Training images: 50, Test images: 50\n"
     ]
    }
   ],
   "source": [
    "# Selects the first five categories\n",
    "five_categories = sorted(label_counts.keys())[:5]\n",
    "print(\"Categories chosen:\", \", \".join(five_categories))\n",
    "\n",
    "train_imgs_5cat = []\n",
    "test_imgs_5cat = []\n",
    "\n",
    "num_images_per_category = 10 ## Limit the number of images per category to 10 for training and 10 for testing\n",
    "\n",
    "for category in five_categories:\n",
    "    category_imgs = [img_path for img_path, label in zip(img_paths, labels) if label == category]\n",
    "    random.shuffle(category_imgs)\n",
    "    \n",
    "    # Split the images into training and test sets\n",
    "    train_imgs_5cat.extend(category_imgs[:num_images_per_category])\n",
    "    test_imgs_5cat.extend(category_imgs[num_images_per_category:num_images_per_category*2])\n",
    "\n",
    "print(f'Training images: {len(train_imgs_5cat)}, Test images: {len(test_imgs_5cat)}')"
   ]
  },
  {
   "cell_type": "markdown",
   "metadata": {},
   "source": [
    "extend to 20 categories "
   ]
  },
  {
   "cell_type": "code",
   "execution_count": 6,
   "metadata": {},
   "outputs": [
    {
     "name": "stdout",
     "output_type": "stream",
     "text": [
      "Categories chosen: pigeon, pizza, platypus, pyramid, revolver, rhino, rooster, saxophone, schooner, scissors, scorpion, sea_horse, snoopy, soccer_ball, stapler, starfish, stegosaurus, stop_sign, strawberry, sunflower\n",
      "Training images: 561, Test images: 561\n"
     ]
    }
   ],
   "source": [
    "# Select 20 categories\n",
    "twenty_categories = sorted(label_counts.keys())[:20]\n",
    "print(\"Categories chosen:\", \", \".join(twenty_categories))\n",
    "\n",
    "train_imgs_20cat = []\n",
    "test_imgs_20cat = []\n",
    "\n",
    "for category in twenty_categories:\n",
    "    category_imgs = [img_path for img_path, label in zip(img_paths, labels) if label == category]\n",
    "    random.shuffle(category_imgs)\n",
    "    \n",
    "    num_images_per_category = len(category_imgs) // 2  # Split the images into training and test sets equally\n",
    "    \n",
    "    train_imgs_20cat.extend(category_imgs[:num_images_per_category])\n",
    "    test_imgs_20cat.extend(category_imgs[num_images_per_category:num_images_per_category*2])\n",
    "\n",
    "print(f'Training images: {len(train_imgs_20cat)}, Test images: {len(test_imgs_20cat)}')"
   ]
  },
  {
   "cell_type": "markdown",
   "metadata": {},
   "source": [
    "TASK: You should extract visual words using SIFT descriptors (ignoring position, orientation and scale) or similar descriptors extracted at interest points. To compute the descriptors, we recommend to use OpenCV’s sift, but other options are possible."
   ]
  },
  {
   "cell_type": "markdown",
   "metadata": {},
   "source": [
    "NOTE TO SELF(can delete) : SIFT (Scale-Invariant Feature Transform) - detect and describe local features in images. \n",
    "\n",
    "Scale-space Extrema Detection: Create a series of images by applying Gaussian blur with increasing σ. Subtract each adjacent pair of images to get the DoG images. Identify local maxima and minima in the DoG images by comparing each pixel to its neighbors in both the current image and adjacent scales.\n",
    "\n",
    "Keypoint Localization: Fit a quadratic function to the local sample points to determine the interpolated location of the extremum. Discard keypoints with low contrast (below a threshold) or those that are poorly localized along edges (using the Hessian matrix).\n",
    "\n",
    "Orientation Assignment: For each keypoint, consider a region around it. Compute the gradient magnitude and orientation for each pixel in the region. Create a histogram of gradient orientations (typically 36 bins covering 360 degrees).\n",
    "Assign the dominant orientation(s) to the keypoint. If there are multiple peaks in the histogram, create multiple keypoints with different orientations.\n",
    "\n",
    "Keypoint Descriptor: Take a 16x16 window around the keypoint, oriented according to the keypoint's orientation.\n",
    "Divide this window into 4x4 sub-regions. For each sub-region, compute a histogram of gradient orientations (typically 8 bins).\n",
    "Concatenate these histograms to form a 128-dimensional vector (4x4x8).\n",
    "\n",
    "Matching: For each keypoint descriptor in one image, find the closest descriptor in the other image using a distance metric \n",
    "Apply a ratio test to filter out poor matches (e.g., the ratio of the distance to the closest neighbor to the distance of the second closest neighbor should be below a threshold)."
   ]
  },
  {
   "cell_type": "code",
   "execution_count": 7,
   "metadata": {},
   "outputs": [
    {
     "name": "stdout",
     "output_type": "stream",
     "text": [
      "Total number of training descriptors for the training set with 20 categories: 240083\n"
     ]
    }
   ],
   "source": [
    "def compute_sift_descriptors(image):\n",
    "    sift = cv2.SIFT_create()\n",
    "    keypoints, descriptors = sift.detectAndCompute(image, None)\n",
    "    return descriptors\n",
    "\n",
    "\n",
    "train_descriptors = []\n",
    "for img_path in train_imgs_20cat: #we take the train set with 20 categories\n",
    "    img = cv2.imread(img_path)\n",
    "    img = cv2.cvtColor(img, cv2.COLOR_BGR2RGB)\n",
    "    descriptors = compute_sift_descriptors(img)\n",
    "    if descriptors is not None:\n",
    "        train_descriptors.append(descriptors)\n",
    "\n",
    "# Concatenate the descriptors into a matrix, one descriptor per row\n",
    "train_descriptors_matrix = np.vstack(train_descriptors)\n",
    "\n",
    "\n",
    "print(f'Total number of training descriptors for the training set with 20 categories: {train_descriptors_matrix.shape[0]}')"
   ]
  },
  {
   "cell_type": "code",
   "execution_count": 8,
   "metadata": {},
   "outputs": [
    {
     "name": "stdout",
     "output_type": "stream",
     "text": [
      "Total number of training descriptors for the training set with 5 categories: 25936\n"
     ]
    }
   ],
   "source": [
    "train_descriptors_small = []\n",
    "for img_path in train_imgs_5cat: #we take the train set with 5 categories\n",
    "    img = cv2.imread(img_path)\n",
    "    img = cv2.cvtColor(img, cv2.COLOR_BGR2RGB)\n",
    "    descriptors = compute_sift_descriptors(img)\n",
    "    if descriptors is not None:\n",
    "        train_descriptors_small.append(descriptors)\n",
    "\n",
    "train_descriptors_matrix_small = np.vstack(train_descriptors_small)\n",
    "\n",
    "print(f'Total number of training descriptors for the training set with 5 categories: {train_descriptors_matrix_small.shape[0]}')"
   ]
  },
  {
   "cell_type": "code",
   "execution_count": 9,
   "metadata": {},
   "outputs": [
    {
     "name": "stdout",
     "output_type": "stream",
     "text": [
      "[ 10.  13.  22.  50.  12.   0.   0.   0. 187.  83.  10.  10.   1.   0.\n",
      "   0.   2. 134.  28.   3.   1.   2.   1.   0.   3.   0.   2.  10.   3.\n",
      "   4.   3.   0.   0.  35.   9.   8.  68.  11.   0.   0.   2. 187.  18.\n",
      "   1.   7.   1.   0.   0.  34. 168.  17.   2.   0.   1.   0.   1.  23.\n",
      "   5.   4.   2.   2.   2.   6.   1.   1.  54.   8.   8.  30.   3.   0.\n",
      "   0.   5. 187.  28.   0.   0.   0.   0.   0.  16. 173.  15.   1.   0.\n",
      "   1.   0.   1.   6.   3.   3.   2.   2.   1.   1.   2.   1.  61.   2.\n",
      "   1.   3.   3.   0.   0.   8. 187.   1.   0.   0.   0.   0.   0.  47.\n",
      " 118.   3.   2.   1.   1.   1.   2.  19.   2.  10.   5.   1.   1.   1.\n",
      "   1.   1.]\n"
     ]
    }
   ],
   "source": [
    "# print out one of the descriptors\n",
    "print(train_descriptors_matrix[0])"
   ]
  },
  {
   "cell_type": "markdown",
   "metadata": {},
   "source": [
    "# 1 Codebook generation"
   ]
  },
  {
   "cell_type": "markdown",
   "metadata": {},
   "source": [
    "Task: In order to generate a code book, select a set of training images. Then Extract\n",
    "SIFT features from the training images (ignore position, orientation and scale).\n",
    "The SIFT features should be concatenated into a matrix, one descriptor per row.\n",
    "Then you should run the k-means clustering algorithm on the subset of training\n",
    "descriptors to extract good prototype (visual word) clusters. A reasonable k\n",
    "should be small (say between 200 and 500) for a small number of categories\n",
    "(say 5) and larger (say between 500 and 2000) for a larger number of categories.\n",
    "Also, a good value of k may depend on the complexity of your data. You should\n",
    "experiment with a few different values of k (but beware that this can be rather\n",
    "time-consuming).\n",
    "\n",
    "Once clustering has been obtained, classify each training descriptor to the\n",
    "closest cluster centers) and form the bag of words (BoW) for each image in the\n",
    "image training set."
   ]
  },
  {
   "cell_type": "markdown",
   "metadata": {},
   "source": [
    "We are first evaluating which is the best value for k for the subset with 5 categories. We report the Silhouette score.\n",
    "The Silhouette score is a metric used to evaluate the quality of clustering. It measures how similar an object is to its own cluster (cohesion) compared to other clusters (separation). The score ranges from -1 to 1. 1: Indicates that the sample is far away from the neighboring clusters and well matched to its own cluster. 0: Indicates that the sample is on or very close to the decision boundary between two neighboring clusters. -1: Indicates that the sample might have been assigned to the wrong cluster"
   ]
  },
  {
   "cell_type": "markdown",
   "metadata": {},
   "source": [
    "### Evaluate best k means for 5 categories"
   ]
  },
  {
   "cell_type": "code",
   "execution_count": 10,
   "metadata": {},
   "outputs": [
    {
     "name": "stdout",
     "output_type": "stream",
     "text": [
      "k=200, Silhouette Score=0.035551466047763824, SSE=1956480512.0\n",
      "Cosine Similarity Matrix for k=200:\n",
      "[[1.         0.6965148  0.6340631  ... 0.56972766 0.5031649  0.7541993 ]\n",
      " [0.6965148  1.0000002  0.6065743  ... 0.75854707 0.6487231  0.8677454 ]\n",
      " [0.6340631  0.6065743  0.9999999  ... 0.52350193 0.5099214  0.682565  ]\n",
      " ...\n",
      " [0.56972766 0.75854707 0.52350193 ... 1.0000001  0.76744926 0.61265355]\n",
      " [0.5031649  0.6487231  0.5099214  ... 0.76744926 1.0000002  0.6295815 ]\n",
      " [0.7541993  0.8677454  0.682565   ... 0.61265355 0.6295815  1.0000002 ]]\n",
      "k=300, Silhouette Score=0.03411170467734337, SSE=1867162880.0\n",
      "Cosine Similarity Matrix for k=300:\n",
      "[[1.0000001  0.6491324  0.6057414  ... 0.65291965 0.54401875 0.69553626]\n",
      " [0.6491324  0.9999999  0.55882114 ... 0.5518567  0.6554951  0.84683925]\n",
      " [0.6057414  0.55882114 1.0000001  ... 0.75270855 0.50748384 0.67297554]\n",
      " ...\n",
      " [0.65291965 0.5518567  0.75270855 ... 0.99999964 0.6919536  0.6375137 ]\n",
      " [0.54401875 0.6554951  0.50748384 ... 0.6919536  0.9999998  0.57269174]\n",
      " [0.69553626 0.84683925 0.67297554 ... 0.6375137  0.57269174 1.        ]]\n",
      "k=400, Silhouette Score=0.034873075783252716, SSE=1800082176.0\n",
      "Cosine Similarity Matrix for k=400:\n",
      "[[1.         0.7123108  0.578847   ... 0.62563956 0.55913496 0.63071954]\n",
      " [0.7123108  1.0000001  0.5516422  ... 0.6650811  0.65979576 0.8104946 ]\n",
      " [0.578847   0.5516422  1.0000004  ... 0.4934278  0.42917478 0.5846618 ]\n",
      " ...\n",
      " [0.62563956 0.6650811  0.4934278  ... 0.99999994 0.8274481  0.58402944]\n",
      " [0.55913496 0.65979576 0.42917478 ... 0.8274481  1.0000001  0.5869299 ]\n",
      " [0.63071954 0.8104946  0.5846618  ... 0.58402944 0.5869299  0.9999998 ]]\n",
      "k=500, Silhouette Score=0.035717837512493134, SSE=1747602432.0\n",
      "Cosine Similarity Matrix for k=500:\n",
      "[[1.         0.6400492  0.6193271  ... 0.5494525  0.69399226 0.80544627]\n",
      " [0.6400492  0.99999964 0.6191179  ... 0.5785343  0.65557796 0.6376476 ]\n",
      " [0.6193271  0.6191179  1.0000002  ... 0.6626475  0.42299563 0.70164645]\n",
      " ...\n",
      " [0.5494525  0.5785343  0.6626475  ... 1.0000002  0.57986635 0.55056214]\n",
      " [0.69399226 0.65557796 0.42299563 ... 0.57986635 1.0000001  0.49728793]\n",
      " [0.80544627 0.6376476  0.70164645 ... 0.55056214 0.49728793 0.99999994]]\n",
      "k=600, Silhouette Score=0.03640719875693321, SSE=1705481856.0\n",
      "Cosine Similarity Matrix for k=600:\n",
      "[[1.0000001  0.6505738  0.6166089  ... 0.6289989  0.4569756  0.52054065]\n",
      " [0.6505738  1.0000001  0.6368355  ... 0.8112036  0.6711491  0.66809165]\n",
      " [0.6166089  0.6368355  0.99999994 ... 0.72007096 0.4730391  0.6013383 ]\n",
      " ...\n",
      " [0.6289989  0.8112036  0.72007096 ... 0.99999994 0.47642463 0.6029647 ]\n",
      " [0.4569756  0.6711491  0.4730391  ... 0.47642463 1.         0.7919212 ]\n",
      " [0.52054065 0.66809165 0.6013383  ... 0.6029647  0.7919212  0.99999976]]\n",
      "k=700, Silhouette Score=0.037006255239248276, SSE=1669722112.0\n",
      "Cosine Similarity Matrix for k=700:\n",
      "[[1.0000004  0.6769648  0.64465165 ... 0.5847539  0.44642547 0.7573532 ]\n",
      " [0.6769648  1.         0.5853774  ... 0.69236875 0.55416644 0.7502448 ]\n",
      " [0.64465165 0.5853774  1.0000001  ... 0.66899574 0.6613923  0.7060829 ]\n",
      " ...\n",
      " [0.5847539  0.69236875 0.66899574 ... 0.99999994 0.74270296 0.5847475 ]\n",
      " [0.44642547 0.55416644 0.6613923  ... 0.74270296 0.9999996  0.59763044]\n",
      " [0.7573532  0.7502448  0.7060829  ... 0.5847475  0.59763044 1.0000001 ]]\n",
      "k=800, Silhouette Score=0.03565351665019989, SSE=1640973696.0\n",
      "Cosine Similarity Matrix for k=800:\n",
      "[[0.9999999  0.67715454 0.6251681  ... 0.69170755 0.39429837 0.59056014]\n",
      " [0.67715454 1.0000001  0.5610148  ... 0.7346197  0.5201847  0.6476578 ]\n",
      " [0.6251681  0.5610148  1.0000004  ... 0.5999108  0.34311697 0.678726  ]\n",
      " ...\n",
      " [0.69170755 0.7346197  0.5999108  ... 1.0000001  0.45991018 0.56489855]\n",
      " [0.39429837 0.5201847  0.34311697 ... 0.45991018 1.0000001  0.5243495 ]\n",
      " [0.59056014 0.6476578  0.678726   ... 0.56489855 0.5243495  1.        ]]\n",
      "k=900, Silhouette Score=0.03673349320888519, SSE=1613034240.0\n",
      "Cosine Similarity Matrix for k=900:\n",
      "[[0.99999994 0.6629128  0.5859353  ... 0.5759645  0.7347638  0.5906739 ]\n",
      " [0.6629128  1.0000002  0.58520174 ... 0.56937593 0.77503794 0.5816736 ]\n",
      " [0.5859353  0.58520174 1.0000001  ... 0.70447457 0.6778642  0.48333958]\n",
      " ...\n",
      " [0.5759645  0.56937593 0.70447457 ... 1.0000001  0.76680994 0.43957403]\n",
      " [0.7347638  0.77503794 0.6778642  ... 0.76680994 0.99999994 0.55471134]\n",
      " [0.5906739  0.5816736  0.48333958 ... 0.43957403 0.55471134 0.9999998 ]]\n",
      "k=1000, Silhouette Score=0.03572198003530502, SSE=1589650688.0\n",
      "Cosine Similarity Matrix for k=1000:\n",
      "[[1.0000001  0.70715976 0.58984536 ... 0.63675725 0.51280355 0.49053916]\n",
      " [0.70715976 1.0000002  0.58389896 ... 0.8530054  0.6852459  0.70814663]\n",
      " [0.58984536 0.58389896 0.9999997  ... 0.6090124  0.6211726  0.49132848]\n",
      " ...\n",
      " [0.63675725 0.8530054  0.6090124  ... 0.9999999  0.67093825 0.5912456 ]\n",
      " [0.51280355 0.6852459  0.6211726  ... 0.67093825 0.9999998  0.7483714 ]\n",
      " [0.49053916 0.70814663 0.49132848 ... 0.5912456  0.7483714  0.99999976]]\n",
      "Best k for 5 categories: 700\n"
     ]
    }
   ],
   "source": [
    "from sklearn.cluster import KMeans\n",
    "from sklearn.metrics import silhouette_score\n",
    "from sklearn.metrics.pairwise import cosine_similarity\n",
    "import numpy as np\n",
    "\n",
    "scores_5_cat = []\n",
    "sse_5_cat = []\n",
    "cos_sim_matrices = []\n",
    "\n",
    "def evaluate_k_means(descriptors, k_values):\n",
    "    best_k = None\n",
    "    best_score = -1\n",
    "    for k in k_values:\n",
    "        kmeans = KMeans(n_clusters=k, random_state=0).fit(descriptors)\n",
    "        labels = kmeans.labels_\n",
    "        score = silhouette_score(descriptors, labels)\n",
    "        scores_5_cat.append(score)\n",
    "        sse = kmeans.inertia_  # Sum of squared distances of samples to their closest cluster center.\n",
    "        sse_5_cat.append(sse)\n",
    "       \n",
    "        print(f'k={k}, Silhouette Score={score}, SSE={sse}')\n",
    "        if score > best_score:\n",
    "            best_score = score\n",
    "            best_k = k\n",
    "\n",
    "        # Calculate cosine similarity between cluster centroids\n",
    "        centroids = kmeans.cluster_centers_\n",
    "        cos_sim_matrix = cosine_similarity(centroids)\n",
    "        cos_sim_matrices.append(cos_sim_matrix)\n",
    "        print(f'Cosine Similarity Matrix for k={k}:\\n{cos_sim_matrix}')\n",
    "        \n",
    "    return best_k\n",
    "\n",
    "# Use the original descriptors \n",
    "descriptors = train_descriptors_matrix_small\n",
    "\n",
    "k_values_5cat = range(200, 1001, 100)\n",
    "best_k_5cat = evaluate_k_means(descriptors, k_values_5cat)\n",
    "print(f'Best k for 5 categories: {best_k_5cat}')"
   ]
  },
  {
   "cell_type": "code",
   "execution_count": 11,
   "metadata": {},
   "outputs": [
    {
     "data": {
      "image/png": "[encoded data removed]",
      "text/plain": [
       "<Figure size 500x300 with 2 Axes>"
      ]
     },
     "metadata": {},
     "output_type": "display_data"
    }
   ],
   "source": [
    "fig, ax1 = plt.subplots(figsize=(5, 3))\n",
    "\n",
    "# Plot Silhouette Score\n",
    "ax1.plot(k_values_5cat, scores_5_cat, marker='o', linestyle='-', color='b', label='Silhouette Score')\n",
    "ax1.set_xlabel('Number of Clusters (k)')\n",
    "ax1.set_ylabel('Silhouette Score', color='b')\n",
    "ax1.tick_params(axis='y', labelcolor='b')\n",
    "ax1.set_xticks(k_values_5cat)\n",
    "ax1.grid(True)\n",
    "\n",
    "# Create a second y-axis for SSE\n",
    "ax2 = ax1.twinx()\n",
    "ax2.plot(k_values_5cat, sse_5_cat, marker='s', linestyle='--', color='r', label='SSE')\n",
    "ax2.set_ylabel('Sum of Squared Errors (SSE)', color='r')\n",
    "ax2.tick_params(axis='y', labelcolor='r')\n",
    "\n",
    "# Add a title\n",
    "plt.title('Silhouette Score and SSE vs Number of Clusters (k)')\n",
    "\n",
    "# Show the plot\n",
    "fig.tight_layout()\n",
    "plt.show()"
   ]
  },
  {
   "cell_type": "code",
   "execution_count": 12,
   "metadata": {},
   "outputs": [
    {
     "data": {
      "image/png": "[encoded data removed]",
      "text/plain": [
       "<Figure size 500x300 with 1 Axes>"
      ]
     },
     "metadata": {},
     "output_type": "display_data"
    }
   ],
   "source": [
    "import matplotlib.pyplot as plt\n",
    "\n",
    "plt.figure(figsize=(5, 3)) \n",
    "plt.plot(k_values_5cat, scores_5_cat, marker='o', linestyle='-', color='b')\n",
    "plt.xlabel('Number of Clusters (k)')\n",
    "plt.ylabel('Silhouette Score')\n",
    "plt.title('Silhouette Score vs Number of Clusters (k)')\n",
    "plt.xticks(k_values_5cat)\n",
    "plt.grid(True)\n",
    "plt.show()"
   ]
  },
  {
   "cell_type": "markdown",
   "metadata": {},
   "source": [
    "### Evaluate best k means for 20 categories"
   ]
  },
  {
   "cell_type": "code",
   "execution_count": 19,
   "metadata": {},
   "outputs": [
    {
     "name": "stdout",
     "output_type": "stream",
     "text": [
      "Computing PCA for 20 categories...\n",
      "Normalizing features for 20 categories...\n",
      "k=50, Silhouette Score=-0.06828909222878164\n",
      "k=100, Silhouette Score=-0.0851763761747027\n",
      "k=150, Silhouette Score=-0.08201773904015068\n",
      "k=200, Silhouette Score=-0.11006592632236357\n",
      "k=250, Silhouette Score=-0.11152830256863358\n",
      "k=300, Silhouette Score=-0.12513260308477922\n",
      "k=350, Silhouette Score=-0.11083622966085965\n",
      "k=400, Silhouette Score=-0.12043088076327951\n",
      "k=450, Silhouette Score=-0.11134109442457374\n",
      "evaluate_k_means_fast returned: (50, [np.float64(-0.06828909222878164), np.float64(-0.0851763761747027), np.float64(-0.08201773904015068), np.float64(-0.11006592632236357), np.float64(-0.11152830256863358), np.float64(-0.12513260308477922), np.float64(-0.11083622966085965), np.float64(-0.12043088076327951), np.float64(-0.11134109442457374)])\n",
      "Best k for 20 categories: 50\n"
     ]
    },
    {
     "data": {
      "text/plain": [
       "' print(\"Computing K Means for 20 categories...\")\\nbest_k_20cat = int(evaluate_k_means_fast(reduced_descriptors_20, k_values_20cat))\\nprint(f\\'Best k for 20 categories: {best_k_20cat}\\') '"
      ]
     },
     "execution_count": 19,
     "metadata": {},
     "output_type": "execute_result"
    }
   ],
   "source": [
    "from sklearn.decomposition import IncrementalPCA\n",
    "from sklearn.cluster import MiniBatchKMeans\n",
    "from sklearn.preprocessing import StandardScaler\n",
    "from sklearn.metrics import silhouette_score\n",
    "\n",
    "scores_20_cat = []\n",
    "\n",
    "def evaluate_k_means_fast(descriptors, k_values):\n",
    "    best_k = None\n",
    "    best_score = -1\n",
    "    \n",
    "    \n",
    "    for k in k_values:\n",
    "        kmeans = MiniBatchKMeans(n_clusters=k, random_state=0, batch_size=500).fit(descriptors)\n",
    "        labels = kmeans.labels_\n",
    "        score = silhouette_score(descriptors, labels, sample_size=min(1000, len(descriptors)))  # Sample to speed up\n",
    "        scores_20_cat.append(score)\n",
    "        print(f'k={k}, Silhouette Score={score}')\n",
    "        \n",
    "        if score > best_score:\n",
    "            best_score = score\n",
    "            best_k = k\n",
    "    \n",
    "    return best_k, scores_20_cat\n",
    "\n",
    "pca = IncrementalPCA(n_components=100, batch_size=500)  # Adjust batch_size as needed\n",
    "print(\"Computing PCA for 20 categories...\")\n",
    "reduced_descriptors_20 = pca.fit_transform(train_descriptors_matrix)\n",
    "\n",
    "print(\"Normalizing features for 20 categories...\")\n",
    "scaler = StandardScaler()\n",
    "reduced_descriptors_20 = scaler.fit_transform(reduced_descriptors_20)\n",
    "\n",
    "k_values_20cat = range(50, 500, 50)\n",
    "\n",
    "result = evaluate_k_means_fast(reduced_descriptors_20, k_values_20cat)\n",
    "\n",
    "best_k_20cat = int(result[0])  # Extract the first element of the tuple\n",
    "print(f'Best k for 20 categories: {best_k_20cat}')\n",
    "\n",
    "# not sure if the code above is correct\n",
    "# print(\"Computing K Means for 20 categories...\")\n",
    "#best_k_20cat = evaluate_k_means_fast(reduced_descriptors_20, k_values_20cat)\n",
    "#print(f'Best k for 20 categories: {best_k_20cat}') "
   ]
  },
  {
   "cell_type": "code",
   "execution_count": 14,
   "metadata": {},
   "outputs": [
    {
     "data": {
      "image/png": "[encoded data removed]",
      "text/plain": [
       "<Figure size 500x300 with 1 Axes>"
      ]
     },
     "metadata": {},
     "output_type": "display_data"
    }
   ],
   "source": [
    "import matplotlib.pyplot as plt\n",
    "\n",
    "plt.figure(figsize=(5, 3)) \n",
    "plt.plot(k_values_20cat, scores_20_cat, marker='o', linestyle='-', color='b')\n",
    "plt.xlabel('Number of Clusters (k)')\n",
    "plt.ylabel('Silhouette Score')\n",
    "plt.title('Silhouette Score vs Number of Clusters (k)')\n",
    "plt.xticks(k_values_20cat)\n",
    "plt.grid(True)\n",
    "plt.show()"
   ]
  },
  {
   "cell_type": "code",
   "execution_count": null,
   "metadata": {},
   "outputs": [],
   "source": [
    "# This can be deleted??\n",
    "# #TO DO:\n",
    "# from sklearn.cluster import MiniBatchKMeans\n",
    "# from joblib import Parallel, delayed\n",
    "\n",
    "# def evaluate_k_means_minibatch(descriptors, k_values):\n",
    "#    best_k = None\n",
    "#    best_score = -1\n",
    "\n",
    "#    def evaluate_single_k(k):\n",
    "#        kmeans = MiniBatchKMeans(n_clusters=k, random_state=0, batch_size=500).fit(descriptors)\n",
    "#        labels = kmeans.labels_\n",
    "#        score = silhouette_score(descriptors, labels)\n",
    "#        return k, score\n",
    "\n",
    "#    results = Parallel(n_jobs=-1)(delayed(evaluate_single_k)(k) for k in k_values)\n",
    "\n",
    "#    for k, score in results:\n",
    "#        print(f'k={k}, Silhouette Score={score}')\n",
    "#        if score > best_score:\n",
    "#            best_score = score\n",
    "#            best_k = k\n",
    "\n",
    "#    return best_k\n",
    "\n",
    "# k_values_20cat = range(500, 2000, 500) \n",
    "# best_k_20cat = evaluate_k_means_minibatch(train_descriptors_matrix, k_values_20cat)\n",
    "# print(f'Best k for the training set with 20 categories: {best_k_20cat}')"
   ]
  },
  {
   "cell_type": "markdown",
   "metadata": {},
   "source": [
    "Then we implement the k-means clustering on the training descriptors for the 2 different subsets. Clustering results to classify each descriptor to the closest cluster center. Then, for each image, count the number of descriptors assigned to each cluster to form a histogram (BoW vector)."
   ]
  },
  {
   "cell_type": "code",
   "execution_count": 15,
   "metadata": {},
   "outputs": [
    {
     "name": "stdout",
     "output_type": "stream",
     "text": [
      "Number of visual words (clusters): 700\n"
     ]
    }
   ],
   "source": [
    "kmeans_5 = KMeans(n_clusters=best_k_5cat, random_state=42)\n",
    "kmeans_5.fit(train_descriptors_matrix_small)\n",
    "\n",
    "visual_words = kmeans_5.cluster_centers_ # Get the cluster centers (visual words)\n",
    "\n",
    "print(f'Number of visual words (clusters): {visual_words.shape[0]}')"
   ]
  },
  {
   "cell_type": "code",
   "execution_count": 25,
   "metadata": {},
   "outputs": [
    {
     "name": "stdout",
     "output_type": "stream",
     "text": [
      "Number of visual words (clusters): 50\n"
     ]
    }
   ],
   "source": [
    "# not sure if this is correct\n",
    "kmeans_20 = KMeans(n_clusters=best_k_20cat, random_state=42)\n",
    "kmeans_20.fit(train_descriptors_matrix)\n",
    "\n",
    "visual_words_20 = kmeans_20.cluster_centers_\n",
    "\n",
    "print(f'Number of visual words (clusters): {visual_words_20.shape[0]}')"
   ]
  },
  {
   "cell_type": "markdown",
   "metadata": {},
   "source": [
    "BoW representations "
   ]
  },
  {
   "cell_type": "code",
   "execution_count": 26,
   "metadata": {},
   "outputs": [
    {
     "name": "stdout",
     "output_type": "stream",
     "text": [
      "Number of BoW vectors for the training set with 5 categories: 50\n"
     ]
    }
   ],
   "source": [
    "def form_bow(descriptors_list, kmeans):\n",
    "    bow_list = []\n",
    "    for descriptors in descriptors_list:\n",
    "        labels = kmeans.predict(descriptors) # # Predict the closest cluster for each descriptor\n",
    "        bow = np.bincount(labels, minlength=kmeans.n_clusters) # Create a histogram of cluster assignments\n",
    "        bow_list.append(bow)\n",
    "    return np.array(bow_list)\n",
    "\n",
    "bow_list_5cat = form_bow(train_descriptors_small, kmeans_5)\n",
    "\n",
    "print(f'Number of BoW vectors for the training set with 5 categories: {len(bow_list_5cat)}')"
   ]
  },
  {
   "cell_type": "code",
   "execution_count": 27,
   "metadata": {},
   "outputs": [
    {
     "name": "stdout",
     "output_type": "stream",
     "text": [
      "Number of BoW vectors for the training set with 20 categories: 561\n"
     ]
    }
   ],
   "source": [
    "# TO DO:\n",
    "bow_list_20cat = form_bow(train_descriptors, kmeans_20)\n",
    "print(f'Number of BoW vectors for the training set with 20 categories: {len(bow_list_20cat)}')"
   ]
  },
  {
   "cell_type": "markdown",
   "metadata": {},
   "source": [
    "# 2 Indexing"
   ]
  },
  {
   "cell_type": "markdown",
   "metadata": {},
   "source": [
    "TASK: The next step consists in content indexing. For each image in the test set you\n",
    "should:\n",
    "\n",
    "• Extract the SIFT descriptors of the feature points in the image,\n",
    "\n",
    "• Project the descriptors onto the codebook, i.e., for each descriptor the\n",
    "closest cluster prototype should be found,\n",
    "\n",
    "• Construct the generated corresponding bag of words, i.e, word histogram.\n",
    "Please note that you have already performed the same steps for the training\n",
    "images during codebook generation.\n",
    "\n",
    "Now construct and save a table that would contain, per entry at least the\n",
    "file name, the true category, if it belongs to the training- or test set, and the\n",
    "corresponding bag of words / word histogram. The table need only be computed\n",
    "once and then used repeatably in the following retrieval experiments."
   ]
  },
  {
   "cell_type": "code",
   "execution_count": 28,
   "metadata": {},
   "outputs": [
    {
     "name": "stdout",
     "output_type": "stream",
     "text": [
      "Total number of test descriptors for the test set with 5 categories: 22429\n"
     ]
    }
   ],
   "source": [
    "test_descriptors_small = []\n",
    "for img_path in test_imgs_5cat:\n",
    "    img = cv2.imread(img_path)\n",
    "    img = cv2.cvtColor(img, cv2.COLOR_BGR2RGB)\n",
    "    descriptors = compute_sift_descriptors(img)\n",
    "    if descriptors is not None:\n",
    "        test_descriptors_small.append(descriptors)\n",
    "\n",
    "test_descriptors_matrix_small = np.vstack(test_descriptors_small)\n",
    "\n",
    "print(f'Total number of test descriptors for the test set with 5 categories: {test_descriptors_matrix_small.shape[0]}')"
   ]
  },
  {
   "cell_type": "code",
   "execution_count": 29,
   "metadata": {},
   "outputs": [
    {
     "name": "stdout",
     "output_type": "stream",
     "text": [
      "Number of BoW vectors for the test set with 5 categories: 50\n"
     ]
    }
   ],
   "source": [
    "bow_list_test_5cat = form_bow(test_descriptors_small, kmeans_5)\n",
    "\n",
    "print(f'Number of BoW vectors for the test set with 5 categories: {len(bow_list_test_5cat)}')"
   ]
  },
  {
   "cell_type": "code",
   "execution_count": 21,
   "metadata": {},
   "outputs": [],
   "source": [
    "# TO DO\n",
    "#test_descriptors = []\n",
    "#for img_path in test_imgs_20cat:\n",
    "#    img = cv2.imread(img_path)\n",
    "#    img = cv2.cvtColor(img, cv2.COLOR_BGR2RGB)\n",
    "#    descriptors = compute_sift_descriptors(img)\n",
    "#    if descriptors is not None:\n",
    "#        test_descriptors.append(descriptors)\n",
    "#\n",
    "#test_descriptors_matrix = np.vstack(test_descriptors)\n",
    "#\n",
    "#print(f'Total number of test descriptors for the test set with 20 categories: {test_descriptors_matrix.shape[0]}')\n",
    "\n",
    "#bow_list_test_20cat = form_bow(test_descriptors, kmeans_20)\n",
    "\n",
    "#print(f'Number of BoW vectors for the test set with 20 categories: {len(bow_list_test_20cat)}')"
   ]
  },
  {
   "cell_type": "code",
   "execution_count": 22,
   "metadata": {},
   "outputs": [
    {
     "name": "stdout",
     "output_type": "stream",
     "text": [
      "Table saved as 'bow_table_5cat.csv'\n"
     ]
    }
   ],
   "source": [
    "data_5cat = []\n",
    "\n",
    "for img_path, bow in zip(train_imgs_5cat, bow_list_5cat):\n",
    "    category = Path(img_path).parent.name\n",
    "    data_5cat.append([img_path, category, 'train', bow])\n",
    "\n",
    "for img_path, bow in zip(test_imgs_5cat, bow_list_test_5cat):\n",
    "    category = Path(img_path).parent.name\n",
    "    data_5cat.append([img_path, category, 'test', bow])\n",
    "\n",
    "df_bow_5cat = pd.DataFrame(data_5cat, columns=['file_name', 'category', 'set_type', 'bow'])\n",
    "\n",
    "df_bow_5cat.to_csv('bow_table_5cat.csv', index=False)\n",
    "\n",
    "print(\"Table saved as 'bow_table_5cat.csv'\")"
   ]
  },
  {
   "cell_type": "code",
   "execution_count": 23,
   "metadata": {},
   "outputs": [
    {
     "data": {
      "text/html": [
       "<div>\n",
       "<style scoped>\n",
       "    .dataframe tbody tr th:only-of-type {\n",
       "        vertical-align: middle;\n",
       "    }\n",
       "\n",
       "    .dataframe tbody tr th {\n",
       "        vertical-align: top;\n",
       "    }\n",
       "\n",
       "    .dataframe thead th {\n",
       "        text-align: right;\n",
       "    }\n",
       "</style>\n",
       "<table border=\"1\" class=\"dataframe\">\n",
       "  <thead>\n",
       "    <tr style=\"text-align: right;\">\n",
       "      <th></th>\n",
       "      <th>file_name</th>\n",
       "      <th>category</th>\n",
       "      <th>set_type</th>\n",
       "      <th>bow</th>\n",
       "    </tr>\n",
       "  </thead>\n",
       "  <tbody>\n",
       "    <tr>\n",
       "      <th>0</th>\n",
       "      <td>c:\\Users\\jkeir\\OneDrive\\Documents\\GitHub\\visio...</td>\n",
       "      <td>pigeon</td>\n",
       "      <td>train</td>\n",
       "      <td>[0, 0, 2, 0, 0, 0, 0, 3, 0, 1, 0, 0, 3, 0, 3, ...</td>\n",
       "    </tr>\n",
       "    <tr>\n",
       "      <th>1</th>\n",
       "      <td>c:\\Users\\jkeir\\OneDrive\\Documents\\GitHub\\visio...</td>\n",
       "      <td>pigeon</td>\n",
       "      <td>train</td>\n",
       "      <td>[0, 0, 1, 2, 3, 0, 2, 2, 3, 2, 7, 0, 3, 5, 3, ...</td>\n",
       "    </tr>\n",
       "    <tr>\n",
       "      <th>2</th>\n",
       "      <td>c:\\Users\\jkeir\\OneDrive\\Documents\\GitHub\\visio...</td>\n",
       "      <td>pigeon</td>\n",
       "      <td>train</td>\n",
       "      <td>[1, 4, 5, 2, 0, 0, 0, 9, 1, 0, 2, 1, 1, 1, 0, ...</td>\n",
       "    </tr>\n",
       "    <tr>\n",
       "      <th>3</th>\n",
       "      <td>c:\\Users\\jkeir\\OneDrive\\Documents\\GitHub\\visio...</td>\n",
       "      <td>pigeon</td>\n",
       "      <td>train</td>\n",
       "      <td>[0, 1, 11, 2, 2, 0, 3, 3, 2, 2, 3, 1, 1, 1, 2,...</td>\n",
       "    </tr>\n",
       "    <tr>\n",
       "      <th>4</th>\n",
       "      <td>c:\\Users\\jkeir\\OneDrive\\Documents\\GitHub\\visio...</td>\n",
       "      <td>pigeon</td>\n",
       "      <td>train</td>\n",
       "      <td>[14, 11, 0, 11, 6, 13, 12, 3, 1, 2, 1, 17, 4, ...</td>\n",
       "    </tr>\n",
       "  </tbody>\n",
       "</table>\n",
       "</div>"
      ],
      "text/plain": [
       "                                           file_name category set_type  \\\n",
       "0  c:\\Users\\jkeir\\OneDrive\\Documents\\GitHub\\visio...   pigeon    train   \n",
       "1  c:\\Users\\jkeir\\OneDrive\\Documents\\GitHub\\visio...   pigeon    train   \n",
       "2  c:\\Users\\jkeir\\OneDrive\\Documents\\GitHub\\visio...   pigeon    train   \n",
       "3  c:\\Users\\jkeir\\OneDrive\\Documents\\GitHub\\visio...   pigeon    train   \n",
       "4  c:\\Users\\jkeir\\OneDrive\\Documents\\GitHub\\visio...   pigeon    train   \n",
       "\n",
       "                                                 bow  \n",
       "0  [0, 0, 2, 0, 0, 0, 0, 3, 0, 1, 0, 0, 3, 0, 3, ...  \n",
       "1  [0, 0, 1, 2, 3, 0, 2, 2, 3, 2, 7, 0, 3, 5, 3, ...  \n",
       "2  [1, 4, 5, 2, 0, 0, 0, 9, 1, 0, 2, 1, 1, 1, 0, ...  \n",
       "3  [0, 1, 11, 2, 2, 0, 3, 3, 2, 2, 3, 1, 1, 1, 2,...  \n",
       "4  [14, 11, 0, 11, 6, 13, 12, 3, 1, 2, 1, 17, 4, ...  "
      ]
     },
     "execution_count": 23,
     "metadata": {},
     "output_type": "execute_result"
    }
   ],
   "source": [
    "df_bow_5cat.head()"
   ]
  },
  {
   "cell_type": "code",
   "execution_count": 24,
   "metadata": {},
   "outputs": [],
   "source": [
    "#TO DO\n",
    "#data_20cat = []\n",
    "#\n",
    "#for img_path, bow in zip(train_imgs_20cat, bow_list_20cat):\n",
    "#    category = Path(img_path).parent.name\n",
    "#    data_20cat.append([img_path, category, 'train', bow])\n",
    "#\n",
    "#for img_path, bow in zip(test_imgs_20cat, bow_list_test_20cat):\n",
    "#    category = Path(img_path).parent.name\n",
    "#    data_20cat.append([img_path, category, 'test', bow])\n",
    "#\n",
    "#df_bow_20cat = pd.DataFrame(data_20cat, columns=['file_name', 'category', 'set_type', 'bow'])\n",
    "#\n",
    "#df_bow_20cat.to_csv('bow_table_20cat.csv', index=False)\n",
    "#\n",
    "#print(\"Table saved as 'bow_table_20cat.csv'\")"
   ]
  },
  {
   "cell_type": "markdown",
   "metadata": {},
   "source": [
    "# 3 Retrieving"
   ]
  },
  {
   "cell_type": "markdown",
   "metadata": {},
   "source": [
    "TASK: Finally, you should implement retrieving of images using some of the similarity\n",
    "measures discussed in the course slides. You may use: \n",
    "\n",
    "• common words\n",
    "\n",
    "• tf-ifd similarity\n",
    "\n",
    "• Bhattacharyya distance or Kullback-Leibler divergence\n",
    "\n",
    "Please argue for your choice or report the differences in result when applying\n",
    "the different measures.\n",
    "\n",
    "Your report should show commented results for two experiments. \n",
    "\n",
    "In the first\n",
    "you consider retrieving training images. \n",
    "\n",
    "In the second you test how well you\n",
    "can classify test images. Otherwise the two test are identical. \n",
    "\n",
    "For each test you\n",
    "should count:\n",
    "• The mean reciprocal rank (i.e. the average across all queries of 1/ranki ,\n",
    "where ranki is the rank position of the first correct category for the i’th\n",
    "query).\n",
    "• How often (in per cent) the correct category is in top-3"
   ]
  },
  {
   "cell_type": "markdown",
   "metadata": {},
   "source": [
    "5 category subset"
   ]
  },
  {
   "cell_type": "code",
   "execution_count": 25,
   "metadata": {},
   "outputs": [],
   "source": [
    "df = pd.read_csv('bow_table_5cat.csv')"
   ]
  },
  {
   "cell_type": "code",
   "execution_count": 26,
   "metadata": {},
   "outputs": [],
   "source": [
    "def parse_bow(bow_string):\n",
    "    \"\"\"\n",
    "    Parses a bag-of-words (BOW) string representation into a NumPy array.\n",
    "\n",
    "    Parameters:\n",
    "    - bow_string: str, the BOW string representation with numbers separated by spaces.\n",
    "\n",
    "    Returns:\n",
    "    - NumPy array of integers representing the BOW vector.\n",
    "    \"\"\"\n",
    "    clean_bow = bow_string.replace('\\n', ' ').replace('  ', ' ').strip('[]')\n",
    "    bow_list = [int(x) for x in clean_bow.split()]\n",
    "    return np.array(bow_list)\n",
    "\n",
    "\n",
    "def common_words_similarity(bow1, bow2):\n",
    "    \"\"\"\n",
    "    Computes the similarity between two BOW vectors based on the number of common words.\n",
    "\n",
    "    Parameters:\n",
    "    - bow1: NumPy array, the first BOW vector.\n",
    "    - bow2: NumPy array, the second BOW vector.\n",
    "\n",
    "    Returns:\n",
    "    - Integer representing the sum of the minimum word counts for each term in the vectors.\n",
    "    \"\"\"\n",
    "    return np.sum(np.minimum(bow1, bow2))\n",
    "\n",
    "\n",
    "def compute_idf(df):\n",
    "    \"\"\"\n",
    "    Computes the Inverse Document Frequency (IDF) for terms in the dataset.\n",
    "\n",
    "    Parameters:\n",
    "    - df: Pandas DataFrame, containing the 'bow' column with parsed BOW vectors.\n",
    "\n",
    "    Returns:\n",
    "    - NumPy array of IDF values for each term in the vocabulary.\n",
    "    \"\"\"\n",
    "    num_docs = len(df)\n",
    "    term_frequencies = np.sum(np.vstack(df['bow']), axis=0)  # Sum BOW vectors across all documents\n",
    "    idf = np.log((num_docs + 1) / (1 + term_frequencies)) + 1  # Smooth IDF\n",
    "    return idf\n",
    "\n",
    "\n",
    "def tf_idf_similarity(bow1, bow2, idf):\n",
    "    \"\"\"\n",
    "    Computes the cosine similarity between two TF-IDF vectors.\n",
    "\n",
    "    Parameters:\n",
    "    - bow1: NumPy array, the first BOW vector.\n",
    "    - bow2: NumPy array, the second BOW vector.\n",
    "    - idf: NumPy array, precomputed IDF values.\n",
    "\n",
    "    Returns:\n",
    "    - Float representing the cosine similarity between the two TF-IDF vectors.\n",
    "    \"\"\"\n",
    "    tf_idf1 = bow1 * idf\n",
    "    tf_idf2 = bow2 * idf\n",
    "    return 1 - cosine(tf_idf1, tf_idf2)\n",
    "\n",
    "\n",
    "def bhattacharyya_distance(bow1, bow2):\n",
    "    \"\"\"\n",
    "    Computes the Bhattacharyya distance between two probability distributions.\n",
    "\n",
    "    Parameters:\n",
    "    - bow1: NumPy array, the first BOW vector.\n",
    "    - bow2: NumPy array, the second BOW vector.\n",
    "\n",
    "    Returns:\n",
    "    - Float representing the Bhattacharyya distance.\n",
    "    \"\"\"\n",
    "    return -np.log(np.sum(np.sqrt(bow1 * bow2)))\n",
    "\n",
    "\n",
    "def kl_divergence(bow1, bow2):\n",
    "    \"\"\"\n",
    "    Computes the Kullback-Leibler (KL) divergence between two probability distributions.\n",
    "\n",
    "    Parameters:\n",
    "    - bow1: NumPy array, the first probability distribution.\n",
    "    - bow2: NumPy array, the second probability distribution.\n",
    "\n",
    "    Returns:\n",
    "    - Float representing the KL divergence.\n",
    "    \"\"\"\n",
    "    return entropy(bow1, bow2)\n",
    "\n",
    "\n",
    "def retrieve_images(query_bow, df, similarity_measure):\n",
    "    \"\"\"\n",
    "    Retrieves images from a dataset based on similarity to a query BOW vector.\n",
    "\n",
    "    Parameters:\n",
    "    - query_bow: NumPy array, the query BOW vector.\n",
    "    - df: Pandas DataFrame, containing images and their BOW vectors.\n",
    "    - similarity_measure: Function, the similarity measure to use for comparison.\n",
    "\n",
    "    Returns:\n",
    "    - List of tuples containing file name, category, and similarity score, sorted by similarity.\n",
    "    \"\"\"\n",
    "    similarities = []\n",
    "    for _, row in df.iterrows():\n",
    "        bow = row['bow']  # Use the parsed NumPy array directly\n",
    "        similarity = similarity_measure(query_bow, bow)\n",
    "        similarities.append((row['file_name'], row['category'], similarity))\n",
    "    similarities.sort(key=lambda x: x[2], reverse=True)\n",
    "    return similarities\n",
    "\n",
    "\n",
    "def evaluate_retrieval(df, similarity_measure):\n",
    "    \"\"\"\n",
    "    Evaluates the retrieval performance of a similarity measure using Mean Reciprocal Rank (MRR) and Top-3 accuracy.\n",
    "\n",
    "    Parameters:\n",
    "    - df: Pandas DataFrame, containing images and their BOW vectors.\n",
    "    - similarity_measure: Function, the similarity measure to use for comparison.\n",
    "\n",
    "    Returns:\n",
    "    - mrr: Float, the Mean Reciprocal Rank across all queries.\n",
    "    - top3_percentage: Float, the percentage of queries where the correct category is in the top 3 results.\n",
    "    \"\"\"\n",
    "    mrr = 0\n",
    "    top3_count = 0\n",
    "    num_queries = len(df)\n",
    "\n",
    "    for query_index in range(num_queries):\n",
    "        query_bow = df.iloc[query_index]['bow']\n",
    "        query_category = df.iloc[query_index]['category']\n",
    "        results = retrieve_images(query_bow, df, similarity_measure)\n",
    "\n",
    "        # Calculate rank of the first correct category\n",
    "        rank = next((i for i, result in enumerate(results) if result[1] == query_category), None)\n",
    "        if rank is not None:\n",
    "            mrr += 1 / (rank + 1)\n",
    "            if rank < 3:\n",
    "                top3_count += 1\n",
    "\n",
    "    mrr /= num_queries\n",
    "    top3_percentage = (top3_count / num_queries) * 100\n",
    "    return mrr, top3_percentage"
   ]
  },
  {
   "cell_type": "code",
   "execution_count": 27,
   "metadata": {},
   "outputs": [],
   "source": [
    "# Function to perform experiments and print results\n",
    "def perform_experiment(set_name, dataset, similarity_measures):\n",
    "    print(f\"\\n--- Results for {set_name} Set ---\")\n",
    "    for name, similarity_measure in similarity_measures.items():\n",
    "        mrr, top3 = evaluate_retrieval(dataset, similarity_measure)\n",
    "        print(f\"Similarity Measure: {name}\")\n",
    "        print(f\"  - Mean Reciprocal Rank (MRR): {mrr:.4f}\")\n",
    "        print(f\"  - Top-3 Accuracy: {top3:.2f}%\")"
   ]
  },
  {
   "cell_type": "code",
   "execution_count": 28,
   "metadata": {},
   "outputs": [],
   "source": [
    "df['bow'] = df['bow'].apply(parse_bow)\n",
    "\n",
    "idf = compute_idf(df)"
   ]
  },
  {
   "cell_type": "markdown",
   "metadata": {},
   "source": [
    "### Experiment 1 - retrieving training images"
   ]
  },
  {
   "cell_type": "code",
   "execution_count": null,
   "metadata": {},
   "outputs": [
    {
     "ename": "AttributeError",
     "evalue": "'numpy.ndarray' object has no attribute 'replace'",
     "output_type": "error",
     "traceback": [
      "\u001b[1;31m---------------------------------------------------------------------------\u001b[0m",
      "\u001b[1;31mAttributeError\u001b[0m                            Traceback (most recent call last)",
      "Cell \u001b[1;32mIn[29], line 3\u001b[0m\n\u001b[0;32m      1\u001b[0m training_set \u001b[38;5;241m=\u001b[39m df[df[\u001b[38;5;124m'\u001b[39m\u001b[38;5;124mset_type\u001b[39m\u001b[38;5;124m'\u001b[39m] \u001b[38;5;241m==\u001b[39m \u001b[38;5;124m'\u001b[39m\u001b[38;5;124mtrain\u001b[39m\u001b[38;5;124m'\u001b[39m]\n\u001b[1;32m----> 3\u001b[0m training_set[\u001b[38;5;124m'\u001b[39m\u001b[38;5;124mbow\u001b[39m\u001b[38;5;124m'\u001b[39m] \u001b[38;5;241m=\u001b[39m training_set[\u001b[38;5;124m'\u001b[39m\u001b[38;5;124mbow\u001b[39m\u001b[38;5;124m'\u001b[39m]\u001b[38;5;241m.\u001b[39mapply(parse_bow)\n\u001b[0;32m      5\u001b[0m similarity_measures \u001b[38;5;241m=\u001b[39m { \u001b[38;5;124m'\u001b[39m\u001b[38;5;124mCommon Words\u001b[39m\u001b[38;5;124m'\u001b[39m: common_words_similarity, \n\u001b[0;32m      6\u001b[0m                        \u001b[38;5;124m'\u001b[39m\u001b[38;5;124mTF-IDF\u001b[39m\u001b[38;5;124m'\u001b[39m: \u001b[38;5;28;01mlambda\u001b[39;00m bow1, bow2: tf_idf_similarity(bow1, bow2, idf), \n\u001b[0;32m      7\u001b[0m                        \u001b[38;5;124m'\u001b[39m\u001b[38;5;124mBhattacharyya\u001b[39m\u001b[38;5;124m'\u001b[39m: bhattacharyya_distance, \n\u001b[0;32m      8\u001b[0m                        \u001b[38;5;124m'\u001b[39m\u001b[38;5;124mKL Divergence\u001b[39m\u001b[38;5;124m'\u001b[39m: kl_divergence }\n\u001b[0;32m     10\u001b[0m perform_experiment(\u001b[38;5;124m\"\u001b[39m\u001b[38;5;124mTraining\u001b[39m\u001b[38;5;124m\"\u001b[39m, training_set, similarity_measures)\n",
      "File \u001b[1;32mc:\\Users\\jkeir\\anaconda3\\Lib\\site-packages\\pandas\\core\\series.py:4924\u001b[0m, in \u001b[0;36mSeries.apply\u001b[1;34m(self, func, convert_dtype, args, by_row, **kwargs)\u001b[0m\n\u001b[0;32m   4789\u001b[0m \u001b[38;5;28;01mdef\u001b[39;00m \u001b[38;5;21mapply\u001b[39m(\n\u001b[0;32m   4790\u001b[0m     \u001b[38;5;28mself\u001b[39m,\n\u001b[0;32m   4791\u001b[0m     func: AggFuncType,\n\u001b[1;32m   (...)\u001b[0m\n\u001b[0;32m   4796\u001b[0m     \u001b[38;5;241m*\u001b[39m\u001b[38;5;241m*\u001b[39mkwargs,\n\u001b[0;32m   4797\u001b[0m ) \u001b[38;5;241m-\u001b[39m\u001b[38;5;241m>\u001b[39m DataFrame \u001b[38;5;241m|\u001b[39m Series:\n\u001b[0;32m   4798\u001b[0m \u001b[38;5;250m    \u001b[39m\u001b[38;5;124;03m\"\"\"\u001b[39;00m\n\u001b[0;32m   4799\u001b[0m \u001b[38;5;124;03m    Invoke function on values of Series.\u001b[39;00m\n\u001b[0;32m   4800\u001b[0m \n\u001b[1;32m   (...)\u001b[0m\n\u001b[0;32m   4915\u001b[0m \u001b[38;5;124;03m    dtype: float64\u001b[39;00m\n\u001b[0;32m   4916\u001b[0m \u001b[38;5;124;03m    \"\"\"\u001b[39;00m\n\u001b[0;32m   4917\u001b[0m     \u001b[38;5;28;01mreturn\u001b[39;00m SeriesApply(\n\u001b[0;32m   4918\u001b[0m         \u001b[38;5;28mself\u001b[39m,\n\u001b[0;32m   4919\u001b[0m         func,\n\u001b[0;32m   4920\u001b[0m         convert_dtype\u001b[38;5;241m=\u001b[39mconvert_dtype,\n\u001b[0;32m   4921\u001b[0m         by_row\u001b[38;5;241m=\u001b[39mby_row,\n\u001b[0;32m   4922\u001b[0m         args\u001b[38;5;241m=\u001b[39margs,\n\u001b[0;32m   4923\u001b[0m         kwargs\u001b[38;5;241m=\u001b[39mkwargs,\n\u001b[1;32m-> 4924\u001b[0m     )\u001b[38;5;241m.\u001b[39mapply()\n",
      "File \u001b[1;32mc:\\Users\\jkeir\\anaconda3\\Lib\\site-packages\\pandas\\core\\apply.py:1427\u001b[0m, in \u001b[0;36mSeriesApply.apply\u001b[1;34m(self)\u001b[0m\n\u001b[0;32m   1424\u001b[0m     \u001b[38;5;28;01mreturn\u001b[39;00m \u001b[38;5;28mself\u001b[39m\u001b[38;5;241m.\u001b[39mapply_compat()\n\u001b[0;32m   1426\u001b[0m \u001b[38;5;66;03m# self.func is Callable\u001b[39;00m\n\u001b[1;32m-> 1427\u001b[0m \u001b[38;5;28;01mreturn\u001b[39;00m \u001b[38;5;28mself\u001b[39m\u001b[38;5;241m.\u001b[39mapply_standard()\n",
      "File \u001b[1;32mc:\\Users\\jkeir\\anaconda3\\Lib\\site-packages\\pandas\\core\\apply.py:1507\u001b[0m, in \u001b[0;36mSeriesApply.apply_standard\u001b[1;34m(self)\u001b[0m\n\u001b[0;32m   1501\u001b[0m \u001b[38;5;66;03m# row-wise access\u001b[39;00m\n\u001b[0;32m   1502\u001b[0m \u001b[38;5;66;03m# apply doesn't have a `na_action` keyword and for backward compat reasons\u001b[39;00m\n\u001b[0;32m   1503\u001b[0m \u001b[38;5;66;03m# we need to give `na_action=\"ignore\"` for categorical data.\u001b[39;00m\n\u001b[0;32m   1504\u001b[0m \u001b[38;5;66;03m# TODO: remove the `na_action=\"ignore\"` when that default has been changed in\u001b[39;00m\n\u001b[0;32m   1505\u001b[0m \u001b[38;5;66;03m#  Categorical (GH51645).\u001b[39;00m\n\u001b[0;32m   1506\u001b[0m action \u001b[38;5;241m=\u001b[39m \u001b[38;5;124m\"\u001b[39m\u001b[38;5;124mignore\u001b[39m\u001b[38;5;124m\"\u001b[39m \u001b[38;5;28;01mif\u001b[39;00m \u001b[38;5;28misinstance\u001b[39m(obj\u001b[38;5;241m.\u001b[39mdtype, CategoricalDtype) \u001b[38;5;28;01melse\u001b[39;00m \u001b[38;5;28;01mNone\u001b[39;00m\n\u001b[1;32m-> 1507\u001b[0m mapped \u001b[38;5;241m=\u001b[39m obj\u001b[38;5;241m.\u001b[39m_map_values(\n\u001b[0;32m   1508\u001b[0m     mapper\u001b[38;5;241m=\u001b[39mcurried, na_action\u001b[38;5;241m=\u001b[39maction, convert\u001b[38;5;241m=\u001b[39m\u001b[38;5;28mself\u001b[39m\u001b[38;5;241m.\u001b[39mconvert_dtype\n\u001b[0;32m   1509\u001b[0m )\n\u001b[0;32m   1511\u001b[0m \u001b[38;5;28;01mif\u001b[39;00m \u001b[38;5;28mlen\u001b[39m(mapped) \u001b[38;5;129;01mand\u001b[39;00m \u001b[38;5;28misinstance\u001b[39m(mapped[\u001b[38;5;241m0\u001b[39m], ABCSeries):\n\u001b[0;32m   1512\u001b[0m     \u001b[38;5;66;03m# GH#43986 Need to do list(mapped) in order to get treated as nested\u001b[39;00m\n\u001b[0;32m   1513\u001b[0m     \u001b[38;5;66;03m#  See also GH#25959 regarding EA support\u001b[39;00m\n\u001b[0;32m   1514\u001b[0m     \u001b[38;5;28;01mreturn\u001b[39;00m obj\u001b[38;5;241m.\u001b[39m_constructor_expanddim(\u001b[38;5;28mlist\u001b[39m(mapped), index\u001b[38;5;241m=\u001b[39mobj\u001b[38;5;241m.\u001b[39mindex)\n",
      "File \u001b[1;32mc:\\Users\\jkeir\\anaconda3\\Lib\\site-packages\\pandas\\core\\base.py:921\u001b[0m, in \u001b[0;36mIndexOpsMixin._map_values\u001b[1;34m(self, mapper, na_action, convert)\u001b[0m\n\u001b[0;32m    918\u001b[0m \u001b[38;5;28;01mif\u001b[39;00m \u001b[38;5;28misinstance\u001b[39m(arr, ExtensionArray):\n\u001b[0;32m    919\u001b[0m     \u001b[38;5;28;01mreturn\u001b[39;00m arr\u001b[38;5;241m.\u001b[39mmap(mapper, na_action\u001b[38;5;241m=\u001b[39mna_action)\n\u001b[1;32m--> 921\u001b[0m \u001b[38;5;28;01mreturn\u001b[39;00m algorithms\u001b[38;5;241m.\u001b[39mmap_array(arr, mapper, na_action\u001b[38;5;241m=\u001b[39mna_action, convert\u001b[38;5;241m=\u001b[39mconvert)\n",
      "File \u001b[1;32mc:\\Users\\jkeir\\anaconda3\\Lib\\site-packages\\pandas\\core\\algorithms.py:1743\u001b[0m, in \u001b[0;36mmap_array\u001b[1;34m(arr, mapper, na_action, convert)\u001b[0m\n\u001b[0;32m   1741\u001b[0m values \u001b[38;5;241m=\u001b[39m arr\u001b[38;5;241m.\u001b[39mastype(\u001b[38;5;28mobject\u001b[39m, copy\u001b[38;5;241m=\u001b[39m\u001b[38;5;28;01mFalse\u001b[39;00m)\n\u001b[0;32m   1742\u001b[0m \u001b[38;5;28;01mif\u001b[39;00m na_action \u001b[38;5;129;01mis\u001b[39;00m \u001b[38;5;28;01mNone\u001b[39;00m:\n\u001b[1;32m-> 1743\u001b[0m     \u001b[38;5;28;01mreturn\u001b[39;00m lib\u001b[38;5;241m.\u001b[39mmap_infer(values, mapper, convert\u001b[38;5;241m=\u001b[39mconvert)\n\u001b[0;32m   1744\u001b[0m \u001b[38;5;28;01melse\u001b[39;00m:\n\u001b[0;32m   1745\u001b[0m     \u001b[38;5;28;01mreturn\u001b[39;00m lib\u001b[38;5;241m.\u001b[39mmap_infer_mask(\n\u001b[0;32m   1746\u001b[0m         values, mapper, mask\u001b[38;5;241m=\u001b[39misna(values)\u001b[38;5;241m.\u001b[39mview(np\u001b[38;5;241m.\u001b[39muint8), convert\u001b[38;5;241m=\u001b[39mconvert\n\u001b[0;32m   1747\u001b[0m     )\n",
      "File \u001b[1;32mlib.pyx:2972\u001b[0m, in \u001b[0;36mpandas._libs.lib.map_infer\u001b[1;34m()\u001b[0m\n",
      "Cell \u001b[1;32mIn[26], line 11\u001b[0m, in \u001b[0;36mparse_bow\u001b[1;34m(bow_string)\u001b[0m\n\u001b[0;32m      1\u001b[0m \u001b[38;5;28;01mdef\u001b[39;00m \u001b[38;5;21mparse_bow\u001b[39m(bow_string):\n\u001b[0;32m      2\u001b[0m \u001b[38;5;250m    \u001b[39m\u001b[38;5;124;03m\"\"\"\u001b[39;00m\n\u001b[0;32m      3\u001b[0m \u001b[38;5;124;03m    Parses a bag-of-words (BOW) string representation into a NumPy array.\u001b[39;00m\n\u001b[0;32m      4\u001b[0m \n\u001b[1;32m   (...)\u001b[0m\n\u001b[0;32m      9\u001b[0m \u001b[38;5;124;03m    - NumPy array of integers representing the BOW vector.\u001b[39;00m\n\u001b[0;32m     10\u001b[0m \u001b[38;5;124;03m    \"\"\"\u001b[39;00m\n\u001b[1;32m---> 11\u001b[0m     clean_bow \u001b[38;5;241m=\u001b[39m bow_string\u001b[38;5;241m.\u001b[39mreplace(\u001b[38;5;124m'\u001b[39m\u001b[38;5;130;01m\\n\u001b[39;00m\u001b[38;5;124m'\u001b[39m, \u001b[38;5;124m'\u001b[39m\u001b[38;5;124m \u001b[39m\u001b[38;5;124m'\u001b[39m)\u001b[38;5;241m.\u001b[39mreplace(\u001b[38;5;124m'\u001b[39m\u001b[38;5;124m  \u001b[39m\u001b[38;5;124m'\u001b[39m, \u001b[38;5;124m'\u001b[39m\u001b[38;5;124m \u001b[39m\u001b[38;5;124m'\u001b[39m)\u001b[38;5;241m.\u001b[39mstrip(\u001b[38;5;124m'\u001b[39m\u001b[38;5;124m[]\u001b[39m\u001b[38;5;124m'\u001b[39m)\n\u001b[0;32m     12\u001b[0m     bow_list \u001b[38;5;241m=\u001b[39m [\u001b[38;5;28mint\u001b[39m(x) \u001b[38;5;28;01mfor\u001b[39;00m x \u001b[38;5;129;01min\u001b[39;00m clean_bow\u001b[38;5;241m.\u001b[39msplit()]\n\u001b[0;32m     13\u001b[0m     \u001b[38;5;28;01mreturn\u001b[39;00m np\u001b[38;5;241m.\u001b[39marray(bow_list)\n",
      "\u001b[1;31mAttributeError\u001b[0m: 'numpy.ndarray' object has no attribute 'replace'"
     ]
    }
   ],
   "source": [
    "training_set = df[df['set_type'] == 'train']\n",
    "\n",
    "training_set['bow'] = training_set['bow'].apply(parse_bow)\n",
    "\n",
    "similarity_measures = { 'Common Words': common_words_similarity, \n",
    "                       'TF-IDF': lambda bow1, bow2: tf_idf_similarity(bow1, bow2, idf), \n",
    "                       'Bhattacharyya': bhattacharyya_distance, \n",
    "                       'KL Divergence': kl_divergence }\n",
    "\n",
    "perform_experiment(\"Training\", training_set, similarity_measures)\n"
   ]
  },
  {
   "cell_type": "markdown",
   "metadata": {},
   "source": [
    "### Experiment 2 - retrieving test images"
   ]
  },
  {
   "cell_type": "code",
   "execution_count": 130,
   "metadata": {},
   "outputs": [
    {
     "name": "stderr",
     "output_type": "stream",
     "text": [
      "/tmp/ipykernel_102355/4224355731.py:3: SettingWithCopyWarning: \n",
      "A value is trying to be set on a copy of a slice from a DataFrame.\n",
      "Try using .loc[row_indexer,col_indexer] = value instead\n",
      "\n",
      "See the caveats in the documentation: https://pandas.pydata.org/pandas-docs/stable/user_guide/indexing.html#returning-a-view-versus-a-copy\n",
      "  test_set['bow'] = test_set['bow'].apply(parse_bow)\n"
     ]
    },
    {
     "name": "stdout",
     "output_type": "stream",
     "text": [
      "\n",
      "--- Results for Test Set ---\n",
      "Similarity Measure: Common Words\n",
      "  - Mean Reciprocal Rank (MRR): 1.0000\n",
      "  - Top-3 Accuracy: 100.00%\n",
      "Similarity Measure: TF-IDF\n",
      "  - Mean Reciprocal Rank (MRR): 1.0000\n",
      "  - Top-3 Accuracy: 100.00%\n",
      "Similarity Measure: Bhattacharyya\n",
      "  - Mean Reciprocal Rank (MRR): 0.3556\n",
      "  - Top-3 Accuracy: 32.00%\n",
      "Similarity Measure: KL Divergence\n",
      "  - Mean Reciprocal Rank (MRR): 0.2393\n",
      "  - Top-3 Accuracy: 20.00%\n"
     ]
    }
   ],
   "source": [
    "test_set = df[df['set_type'] == 'test']\n",
    "\n",
    "test_set['bow'] = test_set['bow'].apply(parse_bow)\n",
    "\n",
    "perform_experiment(\"Test\", test_set, similarity_measures)"
   ]
  }
 ],
 "metadata": {
  "kernelspec": {
   "display_name": "VIP4",
   "language": "python",
   "name": "python3"
  },
  "language_info": {
   "codemirror_mode": {
    "name": "ipython",
    "version": 3
   },
   "file_extension": ".py",
   "mimetype": "text/x-python",
   "name": "python",
   "nbconvert_exporter": "python",
   "pygments_lexer": "ipython3",
   "version": "3.12.2"
  }
 },
 "nbformat": 4,
 "nbformat_minor": 2
}
